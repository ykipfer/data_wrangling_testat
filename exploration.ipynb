{
 "cells": [
  {
   "cell_type": "markdown",
   "source": [
    "# Data Profiling\n",
    "\n",
    "# 1. Create Data Profile\n",
    "\n",
    "# 2. Analyze Completeness\n",
    "\n",
    "# 3. Analyze Integrity\n",
    "\n",
    "# 4. Analyze Accuracy\n",
    "\n",
    "# 5. Handle Textual Data"
   ],
   "metadata": {
    "collapsed": false
   },
   "id": "38221ad774e39642"
  }
 ],
 "metadata": {
  "kernelspec": {
   "display_name": "Python 3",
   "language": "python",
   "name": "python3"
  },
  "language_info": {
   "codemirror_mode": {
    "name": "ipython",
    "version": 2
   },
   "file_extension": ".py",
   "mimetype": "text/x-python",
   "name": "python",
   "nbconvert_exporter": "python",
   "pygments_lexer": "ipython2",
   "version": "2.7.6"
  }
 },
 "nbformat": 4,
 "nbformat_minor": 5
}
