{
 "cells": [
  {
   "cell_type": "markdown",
   "source": [
    "# Data Profiling\n",
    "# 0. Set up"
   ],
   "metadata": {
    "collapsed": false
   },
   "id": "be0a4b52308b2400"
  },
  {
   "cell_type": "code",
   "outputs": [
    {
     "data": {
      "text/plain": "(50100, 60)"
     },
     "execution_count": 102,
     "metadata": {},
     "output_type": "execute_result"
    }
   ],
   "source": [
    "# import libraries\n",
    "import pandas as pd\n",
    "import seaborn as sns\n",
    "from cryptography.fernet import Fernet\n",
    "\n",
    "# load data\n",
    "df = pd.read_csv('input/dirty-loan-data.csv')\n",
    "df.shape"
   ],
   "metadata": {
    "collapsed": false,
    "ExecuteTime": {
     "end_time": "2024-02-23T13:02:03.507796Z",
     "start_time": "2024-02-23T13:02:03.233136Z"
    }
   },
   "id": "802709ee2fc9ef00",
   "execution_count": 102
  },
  {
   "cell_type": "code",
   "outputs": [
    {
     "data": {
      "text/plain": "   Unnamed: 0     id_pk  member_id  loan_amnt  funded_amnt  funded_amnt_inv  \\\n0           0  55978502   59640239    14400.0      14400.0          14400.0   \n1           1  56141977   59803813    24550.0      24550.0          24550.0   \n2           2  18935279   21167968    20000.0      20000.0          20000.0   \n3           3  27580978   30084088    15000.0      15000.0          15000.0   \n4           4   4536779    5779043    16000.0      16000.0          15950.0   \n\n   term  int_rate  installment grade  ... next_pymnt_year  \\\n0    36      5.61      50000.0     D  ...          2016.0   \n1    36      2.29      50000.0     C  ...          2016.0   \n2    60      6.29      50000.0     D  ...          2016.0   \n3    36     -3.97      50000.0     A  ...             NaN   \n4    36     -1.10      50000.0     A  ...          2016.0   \n\n  last_credit_pull_month  last_credit_pull_year collections_12_mths_ex_med  \\\n0                    Jan                 2016.0                        0.0   \n1                    Jan                 2016.0                        0.0   \n2                    Jan                 2016.0                        0.0   \n3                    Jan                 2016.0                        0.0   \n4                    Jan                 2016.0                        0.0   \n\n   policy_code application_type acc_now_delinq  tot_coll_amt tot_cur_bal  \\\n0          1.0       INDIVIDUAL            0.0           0.0     15278.0   \n1          1.0       INDIVIDUAL            0.0           0.0    163368.0   \n2          1.0       INDIVIDUAL            0.0           0.0     35408.0   \n3          1.0       INDIVIDUAL            0.0           0.0    146372.0   \n4          1.0       INDIVIDUAL            0.0           0.0    355820.0   \n\n  total_rev_hi_lim  \n0          15000.0  \n1          41400.0  \n2          28300.0  \n3          81600.0  \n4          45600.0  \n\n[5 rows x 60 columns]",
      "text/html": "<div>\n<style scoped>\n    .dataframe tbody tr th:only-of-type {\n        vertical-align: middle;\n    }\n\n    .dataframe tbody tr th {\n        vertical-align: top;\n    }\n\n    .dataframe thead th {\n        text-align: right;\n    }\n</style>\n<table border=\"1\" class=\"dataframe\">\n  <thead>\n    <tr style=\"text-align: right;\">\n      <th></th>\n      <th>Unnamed: 0</th>\n      <th>id_pk</th>\n      <th>member_id</th>\n      <th>loan_amnt</th>\n      <th>funded_amnt</th>\n      <th>funded_amnt_inv</th>\n      <th>term</th>\n      <th>int_rate</th>\n      <th>installment</th>\n      <th>grade</th>\n      <th>...</th>\n      <th>next_pymnt_year</th>\n      <th>last_credit_pull_month</th>\n      <th>last_credit_pull_year</th>\n      <th>collections_12_mths_ex_med</th>\n      <th>policy_code</th>\n      <th>application_type</th>\n      <th>acc_now_delinq</th>\n      <th>tot_coll_amt</th>\n      <th>tot_cur_bal</th>\n      <th>total_rev_hi_lim</th>\n    </tr>\n  </thead>\n  <tbody>\n    <tr>\n      <th>0</th>\n      <td>0</td>\n      <td>55978502</td>\n      <td>59640239</td>\n      <td>14400.0</td>\n      <td>14400.0</td>\n      <td>14400.0</td>\n      <td>36</td>\n      <td>5.61</td>\n      <td>50000.0</td>\n      <td>D</td>\n      <td>...</td>\n      <td>2016.0</td>\n      <td>Jan</td>\n      <td>2016.0</td>\n      <td>0.0</td>\n      <td>1.0</td>\n      <td>INDIVIDUAL</td>\n      <td>0.0</td>\n      <td>0.0</td>\n      <td>15278.0</td>\n      <td>15000.0</td>\n    </tr>\n    <tr>\n      <th>1</th>\n      <td>1</td>\n      <td>56141977</td>\n      <td>59803813</td>\n      <td>24550.0</td>\n      <td>24550.0</td>\n      <td>24550.0</td>\n      <td>36</td>\n      <td>2.29</td>\n      <td>50000.0</td>\n      <td>C</td>\n      <td>...</td>\n      <td>2016.0</td>\n      <td>Jan</td>\n      <td>2016.0</td>\n      <td>0.0</td>\n      <td>1.0</td>\n      <td>INDIVIDUAL</td>\n      <td>0.0</td>\n      <td>0.0</td>\n      <td>163368.0</td>\n      <td>41400.0</td>\n    </tr>\n    <tr>\n      <th>2</th>\n      <td>2</td>\n      <td>18935279</td>\n      <td>21167968</td>\n      <td>20000.0</td>\n      <td>20000.0</td>\n      <td>20000.0</td>\n      <td>60</td>\n      <td>6.29</td>\n      <td>50000.0</td>\n      <td>D</td>\n      <td>...</td>\n      <td>2016.0</td>\n      <td>Jan</td>\n      <td>2016.0</td>\n      <td>0.0</td>\n      <td>1.0</td>\n      <td>INDIVIDUAL</td>\n      <td>0.0</td>\n      <td>0.0</td>\n      <td>35408.0</td>\n      <td>28300.0</td>\n    </tr>\n    <tr>\n      <th>3</th>\n      <td>3</td>\n      <td>27580978</td>\n      <td>30084088</td>\n      <td>15000.0</td>\n      <td>15000.0</td>\n      <td>15000.0</td>\n      <td>36</td>\n      <td>-3.97</td>\n      <td>50000.0</td>\n      <td>A</td>\n      <td>...</td>\n      <td>NaN</td>\n      <td>Jan</td>\n      <td>2016.0</td>\n      <td>0.0</td>\n      <td>1.0</td>\n      <td>INDIVIDUAL</td>\n      <td>0.0</td>\n      <td>0.0</td>\n      <td>146372.0</td>\n      <td>81600.0</td>\n    </tr>\n    <tr>\n      <th>4</th>\n      <td>4</td>\n      <td>4536779</td>\n      <td>5779043</td>\n      <td>16000.0</td>\n      <td>16000.0</td>\n      <td>15950.0</td>\n      <td>36</td>\n      <td>-1.10</td>\n      <td>50000.0</td>\n      <td>A</td>\n      <td>...</td>\n      <td>2016.0</td>\n      <td>Jan</td>\n      <td>2016.0</td>\n      <td>0.0</td>\n      <td>1.0</td>\n      <td>INDIVIDUAL</td>\n      <td>0.0</td>\n      <td>0.0</td>\n      <td>355820.0</td>\n      <td>45600.0</td>\n    </tr>\n  </tbody>\n</table>\n<p>5 rows × 60 columns</p>\n</div>"
     },
     "execution_count": 103,
     "metadata": {},
     "output_type": "execute_result"
    }
   ],
   "source": [
    "df.head(5)"
   ],
   "metadata": {
    "collapsed": false,
    "ExecuteTime": {
     "end_time": "2024-02-23T13:02:03.556580Z",
     "start_time": "2024-02-23T13:02:03.509428Z"
    }
   },
   "id": "99b119897fba79a3",
   "execution_count": 103
  },
  {
   "cell_type": "markdown",
   "source": [
    "# 1. Create Data Profile"
   ],
   "metadata": {
    "collapsed": false
   },
   "id": "730a9f94e412aa68"
  },
  {
   "cell_type": "code",
   "outputs": [
    {
     "data": {
      "text/plain": "Summarize dataset:   0%|          | 0/5 [00:00<?, ?it/s]",
      "application/vnd.jupyter.widget-view+json": {
       "version_major": 2,
       "version_minor": 0,
       "model_id": "3c5ba95a338942998e1ded0cca45bb5f"
      }
     },
     "metadata": {},
     "output_type": "display_data"
    },
    {
     "data": {
      "text/plain": "Generate report structure:   0%|          | 0/1 [00:00<?, ?it/s]",
      "application/vnd.jupyter.widget-view+json": {
       "version_major": 2,
       "version_minor": 0,
       "model_id": "fda560ae94e7437f9f0c5cafa4700ede"
      }
     },
     "metadata": {},
     "output_type": "display_data"
    },
    {
     "data": {
      "text/plain": "Render HTML:   0%|          | 0/1 [00:00<?, ?it/s]",
      "application/vnd.jupyter.widget-view+json": {
       "version_major": 2,
       "version_minor": 0,
       "model_id": "156ee03dfd4a48d1a08c7eaa3ad86685"
      }
     },
     "metadata": {},
     "output_type": "display_data"
    },
    {
     "data": {
      "text/plain": "Export report to file:   0%|          | 0/1 [00:00<?, ?it/s]",
      "application/vnd.jupyter.widget-view+json": {
       "version_major": 2,
       "version_minor": 0,
       "model_id": "ef3b32e78ae346709b6f4fe3ca3ce0ee"
      }
     },
     "metadata": {},
     "output_type": "display_data"
    }
   ],
   "source": [
    "from ydata_profiling import ProfileReport\n",
    "\n",
    "profile = ProfileReport(df, title='Loan Dataset Profiling Report', minimal=True)\n",
    "profile.to_file(output_file='output/profile/loan_data_profile.html')"
   ],
   "metadata": {
    "collapsed": false,
    "ExecuteTime": {
     "end_time": "2024-02-23T13:02:17.139388Z",
     "start_time": "2024-02-23T13:02:03.513516Z"
    }
   },
   "id": "577b2e5b90bc7b1f",
   "execution_count": 104
  },
  {
   "cell_type": "markdown",
   "source": [
    "# 1.1. Analyze Integrity\n",
    "## 1.1.1. Duplicates\n",
    "To identify duplicates the first step is to remove the first column, which simply contains a row index. If we do not remove this column, the profiling will identify no rows as duplicates."
   ],
   "metadata": {
    "collapsed": false
   },
   "id": "e16f2d8fef3a41de"
  },
  {
   "cell_type": "code",
   "outputs": [],
   "source": [
    "# drop first column\n",
    "df = df.drop(columns='Unnamed: 0')"
   ],
   "metadata": {
    "collapsed": false,
    "ExecuteTime": {
     "end_time": "2024-02-23T13:02:17.156171Z",
     "start_time": "2024-02-23T13:02:17.135570Z"
    }
   },
   "id": "c9a29f51cbd30454",
   "execution_count": 105
  },
  {
   "cell_type": "markdown",
   "source": [
    "Looking at the output generated by the profiling, the first obvious problem is that the ID variables (**id_pk**, **id_member**) do not seem to be unique. This might be due to duplicated entries in the dataset. We can check this by filtering for all entries containing duplicated 'member_id' and order by 'member_id'."
   ],
   "metadata": {
    "collapsed": false
   },
   "id": "249c66cdc8def22f"
  },
  {
   "cell_type": "code",
   "outputs": [
    {
     "data": {
      "text/plain": "          id_pk  member_id  loan_amnt  funded_amnt  funded_amnt_inv  term  \\\n50023    435307     520078     7000.0       7000.0      7000.000000    36   \n23       435307     520078     7000.0       7000.0      7000.000000    36   \n50011    526784     681457    11200.0      11200.0     11164.159885    36   \n11       526784     681457    11200.0      11200.0     11164.159885    36   \n50       558201     718601     7200.0       7200.0      7150.000000    60   \n...         ...        ...        ...          ...              ...   ...   \n53     67325141   72126853    28800.0      28800.0     28800.000000    60   \n61     67367721   72179492     3000.0       3000.0      3000.000000    36   \n50061  67367721   72179492     3000.0       3000.0      3000.000000    36   \n50034  67828497   72687218     5000.0       5000.0      5000.000000    36   \n34     67828497   72687218     5000.0       5000.0      5000.000000    36   \n\n       int_rate  installment grade sub_grade  ... next_pymnt_year  \\\n50023      4.96       242.52     D        D2  ...             NaN   \n23         4.96       242.52     D        D2  ...             NaN   \n50011      3.23       378.62     C        C1  ...             NaN   \n11         3.23       378.62     C        C1  ...             NaN   \n50         7.56       181.12     E        E4  ...             NaN   \n...         ...          ...   ...       ...  ...             ...   \n53         0.64       621.03     B        B4  ...          2016.0   \n61         7.57       107.82     D        D4  ...          2016.0   \n50061      7.57       107.82     D        D4  ...          2016.0   \n50034     -4.68       150.58     A        A1  ...          2016.0   \n34        -4.68       150.58     A        A1  ...          2016.0   \n\n       last_credit_pull_month last_credit_pull_year  \\\n50023                     Jul                2015.0   \n23                        Jul                2015.0   \n50011                     Jan                2016.0   \n11                        Jan                2016.0   \n50                        Feb                2015.0   \n...                       ...                   ...   \n53                        Jan                2016.0   \n61                        Jan                2016.0   \n50061                     Jan                2016.0   \n50034                     Jan                2016.0   \n34                        Jan                2016.0   \n\n       collections_12_mths_ex_med policy_code application_type  \\\n50023                         0.0         1.0       INDIVIDUAL   \n23                            0.0         1.0       INDIVIDUAL   \n50011                         0.0         1.0       INDIVIDUAL   \n11                            0.0         1.0       INDIVIDUAL   \n50                            0.0         1.0       INDIVIDUAL   \n...                           ...         ...              ...   \n53                            0.0         1.0       INDIVIDUAL   \n61                            0.0         1.0       INDIVIDUAL   \n50061                         0.0         1.0       INDIVIDUAL   \n50034                         0.0         1.0       INDIVIDUAL   \n34                            0.0         1.0       INDIVIDUAL   \n\n       acc_now_delinq tot_coll_amt tot_cur_bal total_rev_hi_lim  \n50023             0.0          NaN         NaN              NaN  \n23                0.0          NaN         NaN              NaN  \n50011             0.0          NaN         NaN              NaN  \n11                0.0          NaN         NaN              NaN  \n50                0.0          NaN         NaN              NaN  \n...               ...          ...         ...              ...  \n53                0.0          0.0    292439.0          36100.0  \n61                0.0          0.0    101900.0          15300.0  \n50061             0.0          0.0    101900.0          15300.0  \n50034             0.0          0.0     45434.0          59700.0  \n34                0.0          0.0     45434.0          59700.0  \n\n[200 rows x 59 columns]",
      "text/html": "<div>\n<style scoped>\n    .dataframe tbody tr th:only-of-type {\n        vertical-align: middle;\n    }\n\n    .dataframe tbody tr th {\n        vertical-align: top;\n    }\n\n    .dataframe thead th {\n        text-align: right;\n    }\n</style>\n<table border=\"1\" class=\"dataframe\">\n  <thead>\n    <tr style=\"text-align: right;\">\n      <th></th>\n      <th>id_pk</th>\n      <th>member_id</th>\n      <th>loan_amnt</th>\n      <th>funded_amnt</th>\n      <th>funded_amnt_inv</th>\n      <th>term</th>\n      <th>int_rate</th>\n      <th>installment</th>\n      <th>grade</th>\n      <th>sub_grade</th>\n      <th>...</th>\n      <th>next_pymnt_year</th>\n      <th>last_credit_pull_month</th>\n      <th>last_credit_pull_year</th>\n      <th>collections_12_mths_ex_med</th>\n      <th>policy_code</th>\n      <th>application_type</th>\n      <th>acc_now_delinq</th>\n      <th>tot_coll_amt</th>\n      <th>tot_cur_bal</th>\n      <th>total_rev_hi_lim</th>\n    </tr>\n  </thead>\n  <tbody>\n    <tr>\n      <th>50023</th>\n      <td>435307</td>\n      <td>520078</td>\n      <td>7000.0</td>\n      <td>7000.0</td>\n      <td>7000.000000</td>\n      <td>36</td>\n      <td>4.96</td>\n      <td>242.52</td>\n      <td>D</td>\n      <td>D2</td>\n      <td>...</td>\n      <td>NaN</td>\n      <td>Jul</td>\n      <td>2015.0</td>\n      <td>0.0</td>\n      <td>1.0</td>\n      <td>INDIVIDUAL</td>\n      <td>0.0</td>\n      <td>NaN</td>\n      <td>NaN</td>\n      <td>NaN</td>\n    </tr>\n    <tr>\n      <th>23</th>\n      <td>435307</td>\n      <td>520078</td>\n      <td>7000.0</td>\n      <td>7000.0</td>\n      <td>7000.000000</td>\n      <td>36</td>\n      <td>4.96</td>\n      <td>242.52</td>\n      <td>D</td>\n      <td>D2</td>\n      <td>...</td>\n      <td>NaN</td>\n      <td>Jul</td>\n      <td>2015.0</td>\n      <td>0.0</td>\n      <td>1.0</td>\n      <td>INDIVIDUAL</td>\n      <td>0.0</td>\n      <td>NaN</td>\n      <td>NaN</td>\n      <td>NaN</td>\n    </tr>\n    <tr>\n      <th>50011</th>\n      <td>526784</td>\n      <td>681457</td>\n      <td>11200.0</td>\n      <td>11200.0</td>\n      <td>11164.159885</td>\n      <td>36</td>\n      <td>3.23</td>\n      <td>378.62</td>\n      <td>C</td>\n      <td>C1</td>\n      <td>...</td>\n      <td>NaN</td>\n      <td>Jan</td>\n      <td>2016.0</td>\n      <td>0.0</td>\n      <td>1.0</td>\n      <td>INDIVIDUAL</td>\n      <td>0.0</td>\n      <td>NaN</td>\n      <td>NaN</td>\n      <td>NaN</td>\n    </tr>\n    <tr>\n      <th>11</th>\n      <td>526784</td>\n      <td>681457</td>\n      <td>11200.0</td>\n      <td>11200.0</td>\n      <td>11164.159885</td>\n      <td>36</td>\n      <td>3.23</td>\n      <td>378.62</td>\n      <td>C</td>\n      <td>C1</td>\n      <td>...</td>\n      <td>NaN</td>\n      <td>Jan</td>\n      <td>2016.0</td>\n      <td>0.0</td>\n      <td>1.0</td>\n      <td>INDIVIDUAL</td>\n      <td>0.0</td>\n      <td>NaN</td>\n      <td>NaN</td>\n      <td>NaN</td>\n    </tr>\n    <tr>\n      <th>50</th>\n      <td>558201</td>\n      <td>718601</td>\n      <td>7200.0</td>\n      <td>7200.0</td>\n      <td>7150.000000</td>\n      <td>60</td>\n      <td>7.56</td>\n      <td>181.12</td>\n      <td>E</td>\n      <td>E4</td>\n      <td>...</td>\n      <td>NaN</td>\n      <td>Feb</td>\n      <td>2015.0</td>\n      <td>0.0</td>\n      <td>1.0</td>\n      <td>INDIVIDUAL</td>\n      <td>0.0</td>\n      <td>NaN</td>\n      <td>NaN</td>\n      <td>NaN</td>\n    </tr>\n    <tr>\n      <th>...</th>\n      <td>...</td>\n      <td>...</td>\n      <td>...</td>\n      <td>...</td>\n      <td>...</td>\n      <td>...</td>\n      <td>...</td>\n      <td>...</td>\n      <td>...</td>\n      <td>...</td>\n      <td>...</td>\n      <td>...</td>\n      <td>...</td>\n      <td>...</td>\n      <td>...</td>\n      <td>...</td>\n      <td>...</td>\n      <td>...</td>\n      <td>...</td>\n      <td>...</td>\n      <td>...</td>\n    </tr>\n    <tr>\n      <th>53</th>\n      <td>67325141</td>\n      <td>72126853</td>\n      <td>28800.0</td>\n      <td>28800.0</td>\n      <td>28800.000000</td>\n      <td>60</td>\n      <td>0.64</td>\n      <td>621.03</td>\n      <td>B</td>\n      <td>B4</td>\n      <td>...</td>\n      <td>2016.0</td>\n      <td>Jan</td>\n      <td>2016.0</td>\n      <td>0.0</td>\n      <td>1.0</td>\n      <td>INDIVIDUAL</td>\n      <td>0.0</td>\n      <td>0.0</td>\n      <td>292439.0</td>\n      <td>36100.0</td>\n    </tr>\n    <tr>\n      <th>61</th>\n      <td>67367721</td>\n      <td>72179492</td>\n      <td>3000.0</td>\n      <td>3000.0</td>\n      <td>3000.000000</td>\n      <td>36</td>\n      <td>7.57</td>\n      <td>107.82</td>\n      <td>D</td>\n      <td>D4</td>\n      <td>...</td>\n      <td>2016.0</td>\n      <td>Jan</td>\n      <td>2016.0</td>\n      <td>0.0</td>\n      <td>1.0</td>\n      <td>INDIVIDUAL</td>\n      <td>0.0</td>\n      <td>0.0</td>\n      <td>101900.0</td>\n      <td>15300.0</td>\n    </tr>\n    <tr>\n      <th>50061</th>\n      <td>67367721</td>\n      <td>72179492</td>\n      <td>3000.0</td>\n      <td>3000.0</td>\n      <td>3000.000000</td>\n      <td>36</td>\n      <td>7.57</td>\n      <td>107.82</td>\n      <td>D</td>\n      <td>D4</td>\n      <td>...</td>\n      <td>2016.0</td>\n      <td>Jan</td>\n      <td>2016.0</td>\n      <td>0.0</td>\n      <td>1.0</td>\n      <td>INDIVIDUAL</td>\n      <td>0.0</td>\n      <td>0.0</td>\n      <td>101900.0</td>\n      <td>15300.0</td>\n    </tr>\n    <tr>\n      <th>50034</th>\n      <td>67828497</td>\n      <td>72687218</td>\n      <td>5000.0</td>\n      <td>5000.0</td>\n      <td>5000.000000</td>\n      <td>36</td>\n      <td>-4.68</td>\n      <td>150.58</td>\n      <td>A</td>\n      <td>A1</td>\n      <td>...</td>\n      <td>2016.0</td>\n      <td>Jan</td>\n      <td>2016.0</td>\n      <td>0.0</td>\n      <td>1.0</td>\n      <td>INDIVIDUAL</td>\n      <td>0.0</td>\n      <td>0.0</td>\n      <td>45434.0</td>\n      <td>59700.0</td>\n    </tr>\n    <tr>\n      <th>34</th>\n      <td>67828497</td>\n      <td>72687218</td>\n      <td>5000.0</td>\n      <td>5000.0</td>\n      <td>5000.000000</td>\n      <td>36</td>\n      <td>-4.68</td>\n      <td>150.58</td>\n      <td>A</td>\n      <td>A1</td>\n      <td>...</td>\n      <td>2016.0</td>\n      <td>Jan</td>\n      <td>2016.0</td>\n      <td>0.0</td>\n      <td>1.0</td>\n      <td>INDIVIDUAL</td>\n      <td>0.0</td>\n      <td>0.0</td>\n      <td>45434.0</td>\n      <td>59700.0</td>\n    </tr>\n  </tbody>\n</table>\n<p>200 rows × 59 columns</p>\n</div>"
     },
     "execution_count": 106,
     "metadata": {},
     "output_type": "execute_result"
    }
   ],
   "source": [
    "# filter for all entries containing duplicated 'member_id' order by member_id\n",
    "df[df.duplicated(subset='member_id', keep=False)].sort_values(by='member_id')"
   ],
   "metadata": {
    "collapsed": false,
    "ExecuteTime": {
     "end_time": "2024-02-23T13:02:17.164459Z",
     "start_time": "2024-02-23T13:02:17.148996Z"
    }
   },
   "id": "d800f268a4df97d1",
   "execution_count": 106
  },
  {
   "cell_type": "markdown",
   "source": [
    "Additionally we can also check for rows where all variables are identical. This will return a boolean series where True indicates that the row is a duplicate of a previous row. We can then sum the number of True values to get the number of duplicates."
   ],
   "metadata": {
    "collapsed": false
   },
   "id": "636dc6c11b8a3c0f"
  },
  {
   "cell_type": "code",
   "outputs": [
    {
     "data": {
      "text/plain": "95"
     },
     "execution_count": 107,
     "metadata": {},
     "output_type": "execute_result"
    }
   ],
   "source": [
    "# show number of duplicates where all rows are equal\n",
    "df.duplicated().sum()"
   ],
   "metadata": {
    "collapsed": false,
    "ExecuteTime": {
     "end_time": "2024-02-23T13:02:17.266332Z",
     "start_time": "2024-02-23T13:02:17.162851Z"
    }
   },
   "id": "b5bc155d03b7e692",
   "execution_count": 107
  },
  {
   "cell_type": "markdown",
   "source": [
    "Looking at the output we can see that we indeed have 95 duplicated cases (here the duplicates are identified by rows that contain identical values for all variables). However, we have 200 rows with duplicated member IDs (Here we identify duplicates based on members IDs only). This means that we have some cases where the member ID is duplicated, but the other variables are not identical. This is a problem, as it indicates that we have some inconsistencies in the data. Now let's start by removing the rows where all variables are identical."
   ],
   "metadata": {
    "collapsed": false
   },
   "id": "78c5d60b7e80994e"
  },
  {
   "cell_type": "code",
   "outputs": [
    {
     "data": {
      "text/plain": "(50005, 59)"
     },
     "execution_count": 108,
     "metadata": {},
     "output_type": "execute_result"
    }
   ],
   "source": [
    "# remove duplicates\n",
    "df = df.drop_duplicates()\n",
    "df.shape"
   ],
   "metadata": {
    "collapsed": false,
    "ExecuteTime": {
     "end_time": "2024-02-23T13:02:17.379402Z",
     "start_time": "2024-02-23T13:02:17.254494Z"
    }
   },
   "id": "b6bb3cd863d4cba7",
   "execution_count": 108
  },
  {
   "cell_type": "markdown",
   "source": [
    "Now we can re-check if we still have duplicates in the member_id variable. As we can see in the output below this is indeed the case. The mistake seems to lie in the variable **installment** where we have differing values for the same case. This is likely a data error, as the variable **installment** should contain the monthly payment owed by the borrower. This means that the value 50000 is likely a mistake, as it is unlikely that a borrower would have to pay 50000 per month. We should therefore remove duplicated cases where installment have a very high value."
   ],
   "metadata": {
    "collapsed": false
   },
   "id": "9b486752263cded8"
  },
  {
   "cell_type": "code",
   "outputs": [
    {
     "data": {
      "text/plain": "          id_pk  member_id  loan_amnt  funded_amnt  funded_amnt_inv  term  \\\n50004   4536779    5779043    16000.0      16000.0          15950.0    36   \n4       4536779    5779043    16000.0      16000.0          15950.0    36   \n50002  18935279   21167968    20000.0      20000.0          20000.0    60   \n2      18935279   21167968    20000.0      20000.0          20000.0    60   \n50003  27580978   30084088    15000.0      15000.0          15000.0    36   \n3      27580978   30084088    15000.0      15000.0          15000.0    36   \n50000  55978502   59640239    14400.0      14400.0          14400.0    36   \n0      55978502   59640239    14400.0      14400.0          14400.0    36   \n50001  56141977   59803813    24550.0      24550.0          24550.0    36   \n1      56141977   59803813    24550.0      24550.0          24550.0    36   \n\n       int_rate  installment grade sub_grade  ... next_pymnt_year  \\\n50004     -1.10       508.06     A        A5  ...          2016.0   \n4         -1.10     50000.00     A        A5  ...          2016.0   \n50002      6.29       489.45     D        D2  ...          2016.0   \n2          6.29     50000.00     D        D2  ...          2016.0   \n50003     -3.97       456.54     A        A1  ...             NaN   \n3         -3.97     50000.00     A        A1  ...             NaN   \n50000      5.61       503.50     D        D1  ...          2016.0   \n0          5.61     50000.00     D        D1  ...          2016.0   \n50001      2.29       818.82     C        C1  ...          2016.0   \n1          2.29     50000.00     C        C1  ...          2016.0   \n\n       last_credit_pull_month last_credit_pull_year  \\\n50004                     Jan                2016.0   \n4                         Jan                2016.0   \n50002                     Jan                2016.0   \n2                         Jan                2016.0   \n50003                     Jan                2016.0   \n3                         Jan                2016.0   \n50000                     Jan                2016.0   \n0                         Jan                2016.0   \n50001                     Jan                2016.0   \n1                         Jan                2016.0   \n\n       collections_12_mths_ex_med policy_code application_type  \\\n50004                         0.0         1.0       INDIVIDUAL   \n4                             0.0         1.0       INDIVIDUAL   \n50002                         0.0         1.0       INDIVIDUAL   \n2                             0.0         1.0       INDIVIDUAL   \n50003                         0.0         1.0       INDIVIDUAL   \n3                             0.0         1.0       INDIVIDUAL   \n50000                         0.0         1.0       INDIVIDUAL   \n0                             0.0         1.0       INDIVIDUAL   \n50001                         0.0         1.0       INDIVIDUAL   \n1                             0.0         1.0       INDIVIDUAL   \n\n       acc_now_delinq tot_coll_amt tot_cur_bal total_rev_hi_lim  \n50004             0.0          0.0    355820.0          45600.0  \n4                 0.0          0.0    355820.0          45600.0  \n50002             0.0          0.0     35408.0          28300.0  \n2                 0.0          0.0     35408.0          28300.0  \n50003             0.0          0.0    146372.0          81600.0  \n3                 0.0          0.0    146372.0          81600.0  \n50000             0.0          0.0     15278.0          15000.0  \n0                 0.0          0.0     15278.0          15000.0  \n50001             0.0          0.0    163368.0          41400.0  \n1                 0.0          0.0    163368.0          41400.0  \n\n[10 rows x 59 columns]",
      "text/html": "<div>\n<style scoped>\n    .dataframe tbody tr th:only-of-type {\n        vertical-align: middle;\n    }\n\n    .dataframe tbody tr th {\n        vertical-align: top;\n    }\n\n    .dataframe thead th {\n        text-align: right;\n    }\n</style>\n<table border=\"1\" class=\"dataframe\">\n  <thead>\n    <tr style=\"text-align: right;\">\n      <th></th>\n      <th>id_pk</th>\n      <th>member_id</th>\n      <th>loan_amnt</th>\n      <th>funded_amnt</th>\n      <th>funded_amnt_inv</th>\n      <th>term</th>\n      <th>int_rate</th>\n      <th>installment</th>\n      <th>grade</th>\n      <th>sub_grade</th>\n      <th>...</th>\n      <th>next_pymnt_year</th>\n      <th>last_credit_pull_month</th>\n      <th>last_credit_pull_year</th>\n      <th>collections_12_mths_ex_med</th>\n      <th>policy_code</th>\n      <th>application_type</th>\n      <th>acc_now_delinq</th>\n      <th>tot_coll_amt</th>\n      <th>tot_cur_bal</th>\n      <th>total_rev_hi_lim</th>\n    </tr>\n  </thead>\n  <tbody>\n    <tr>\n      <th>50004</th>\n      <td>4536779</td>\n      <td>5779043</td>\n      <td>16000.0</td>\n      <td>16000.0</td>\n      <td>15950.0</td>\n      <td>36</td>\n      <td>-1.10</td>\n      <td>508.06</td>\n      <td>A</td>\n      <td>A5</td>\n      <td>...</td>\n      <td>2016.0</td>\n      <td>Jan</td>\n      <td>2016.0</td>\n      <td>0.0</td>\n      <td>1.0</td>\n      <td>INDIVIDUAL</td>\n      <td>0.0</td>\n      <td>0.0</td>\n      <td>355820.0</td>\n      <td>45600.0</td>\n    </tr>\n    <tr>\n      <th>4</th>\n      <td>4536779</td>\n      <td>5779043</td>\n      <td>16000.0</td>\n      <td>16000.0</td>\n      <td>15950.0</td>\n      <td>36</td>\n      <td>-1.10</td>\n      <td>50000.00</td>\n      <td>A</td>\n      <td>A5</td>\n      <td>...</td>\n      <td>2016.0</td>\n      <td>Jan</td>\n      <td>2016.0</td>\n      <td>0.0</td>\n      <td>1.0</td>\n      <td>INDIVIDUAL</td>\n      <td>0.0</td>\n      <td>0.0</td>\n      <td>355820.0</td>\n      <td>45600.0</td>\n    </tr>\n    <tr>\n      <th>50002</th>\n      <td>18935279</td>\n      <td>21167968</td>\n      <td>20000.0</td>\n      <td>20000.0</td>\n      <td>20000.0</td>\n      <td>60</td>\n      <td>6.29</td>\n      <td>489.45</td>\n      <td>D</td>\n      <td>D2</td>\n      <td>...</td>\n      <td>2016.0</td>\n      <td>Jan</td>\n      <td>2016.0</td>\n      <td>0.0</td>\n      <td>1.0</td>\n      <td>INDIVIDUAL</td>\n      <td>0.0</td>\n      <td>0.0</td>\n      <td>35408.0</td>\n      <td>28300.0</td>\n    </tr>\n    <tr>\n      <th>2</th>\n      <td>18935279</td>\n      <td>21167968</td>\n      <td>20000.0</td>\n      <td>20000.0</td>\n      <td>20000.0</td>\n      <td>60</td>\n      <td>6.29</td>\n      <td>50000.00</td>\n      <td>D</td>\n      <td>D2</td>\n      <td>...</td>\n      <td>2016.0</td>\n      <td>Jan</td>\n      <td>2016.0</td>\n      <td>0.0</td>\n      <td>1.0</td>\n      <td>INDIVIDUAL</td>\n      <td>0.0</td>\n      <td>0.0</td>\n      <td>35408.0</td>\n      <td>28300.0</td>\n    </tr>\n    <tr>\n      <th>50003</th>\n      <td>27580978</td>\n      <td>30084088</td>\n      <td>15000.0</td>\n      <td>15000.0</td>\n      <td>15000.0</td>\n      <td>36</td>\n      <td>-3.97</td>\n      <td>456.54</td>\n      <td>A</td>\n      <td>A1</td>\n      <td>...</td>\n      <td>NaN</td>\n      <td>Jan</td>\n      <td>2016.0</td>\n      <td>0.0</td>\n      <td>1.0</td>\n      <td>INDIVIDUAL</td>\n      <td>0.0</td>\n      <td>0.0</td>\n      <td>146372.0</td>\n      <td>81600.0</td>\n    </tr>\n    <tr>\n      <th>3</th>\n      <td>27580978</td>\n      <td>30084088</td>\n      <td>15000.0</td>\n      <td>15000.0</td>\n      <td>15000.0</td>\n      <td>36</td>\n      <td>-3.97</td>\n      <td>50000.00</td>\n      <td>A</td>\n      <td>A1</td>\n      <td>...</td>\n      <td>NaN</td>\n      <td>Jan</td>\n      <td>2016.0</td>\n      <td>0.0</td>\n      <td>1.0</td>\n      <td>INDIVIDUAL</td>\n      <td>0.0</td>\n      <td>0.0</td>\n      <td>146372.0</td>\n      <td>81600.0</td>\n    </tr>\n    <tr>\n      <th>50000</th>\n      <td>55978502</td>\n      <td>59640239</td>\n      <td>14400.0</td>\n      <td>14400.0</td>\n      <td>14400.0</td>\n      <td>36</td>\n      <td>5.61</td>\n      <td>503.50</td>\n      <td>D</td>\n      <td>D1</td>\n      <td>...</td>\n      <td>2016.0</td>\n      <td>Jan</td>\n      <td>2016.0</td>\n      <td>0.0</td>\n      <td>1.0</td>\n      <td>INDIVIDUAL</td>\n      <td>0.0</td>\n      <td>0.0</td>\n      <td>15278.0</td>\n      <td>15000.0</td>\n    </tr>\n    <tr>\n      <th>0</th>\n      <td>55978502</td>\n      <td>59640239</td>\n      <td>14400.0</td>\n      <td>14400.0</td>\n      <td>14400.0</td>\n      <td>36</td>\n      <td>5.61</td>\n      <td>50000.00</td>\n      <td>D</td>\n      <td>D1</td>\n      <td>...</td>\n      <td>2016.0</td>\n      <td>Jan</td>\n      <td>2016.0</td>\n      <td>0.0</td>\n      <td>1.0</td>\n      <td>INDIVIDUAL</td>\n      <td>0.0</td>\n      <td>0.0</td>\n      <td>15278.0</td>\n      <td>15000.0</td>\n    </tr>\n    <tr>\n      <th>50001</th>\n      <td>56141977</td>\n      <td>59803813</td>\n      <td>24550.0</td>\n      <td>24550.0</td>\n      <td>24550.0</td>\n      <td>36</td>\n      <td>2.29</td>\n      <td>818.82</td>\n      <td>C</td>\n      <td>C1</td>\n      <td>...</td>\n      <td>2016.0</td>\n      <td>Jan</td>\n      <td>2016.0</td>\n      <td>0.0</td>\n      <td>1.0</td>\n      <td>INDIVIDUAL</td>\n      <td>0.0</td>\n      <td>0.0</td>\n      <td>163368.0</td>\n      <td>41400.0</td>\n    </tr>\n    <tr>\n      <th>1</th>\n      <td>56141977</td>\n      <td>59803813</td>\n      <td>24550.0</td>\n      <td>24550.0</td>\n      <td>24550.0</td>\n      <td>36</td>\n      <td>2.29</td>\n      <td>50000.00</td>\n      <td>C</td>\n      <td>C1</td>\n      <td>...</td>\n      <td>2016.0</td>\n      <td>Jan</td>\n      <td>2016.0</td>\n      <td>0.0</td>\n      <td>1.0</td>\n      <td>INDIVIDUAL</td>\n      <td>0.0</td>\n      <td>0.0</td>\n      <td>163368.0</td>\n      <td>41400.0</td>\n    </tr>\n  </tbody>\n</table>\n<p>10 rows × 59 columns</p>\n</div>"
     },
     "execution_count": 109,
     "metadata": {},
     "output_type": "execute_result"
    }
   ],
   "source": [
    "# filter for all entries containing duplicated 'member_id' order by member_id and installment\n",
    "df[df.duplicated(subset='member_id', keep=False)].sort_values(by=['member_id', 'installment'])"
   ],
   "metadata": {
    "collapsed": false,
    "ExecuteTime": {
     "end_time": "2024-02-23T13:02:17.380410Z",
     "start_time": "2024-02-23T13:02:17.355709Z"
    }
   },
   "id": "2b2d63349de25492",
   "execution_count": 109
  },
  {
   "cell_type": "code",
   "outputs": [
    {
     "data": {
      "text/plain": "(0, 59)"
     },
     "execution_count": 110,
     "metadata": {},
     "output_type": "execute_result"
    }
   ],
   "source": [
    "# drop row contains duplicate member_id and installment differs, remove row with highest installment\n",
    "df = df.sort_values(by='installment', ascending=True).drop_duplicates(subset='member_id', keep='first')\n",
    "# check if all duplicates in member_id are removed\n",
    "df[df.duplicated(subset='member_id', keep=False)].shape"
   ],
   "metadata": {
    "collapsed": false,
    "ExecuteTime": {
     "end_time": "2024-02-23T13:02:17.422799Z",
     "start_time": "2024-02-23T13:02:17.368904Z"
    }
   },
   "id": "254dc5b2bcecb4bb",
   "execution_count": 110
  },
  {
   "cell_type": "code",
   "outputs": [
    {
     "data": {
      "text/plain": "         id_pk  member_id  loan_amnt  funded_amnt  funded_amnt_inv  term  \\\n50004  4536779    5779043    16000.0      16000.0          15950.0    36   \n\n       int_rate  installment grade sub_grade  ... next_pymnt_year  \\\n50004      -1.1       508.06     A        A5  ...          2016.0   \n\n       last_credit_pull_month last_credit_pull_year  \\\n50004                     Jan                2016.0   \n\n       collections_12_mths_ex_med policy_code application_type  \\\n50004                         0.0         1.0       INDIVIDUAL   \n\n       acc_now_delinq tot_coll_amt tot_cur_bal total_rev_hi_lim  \n50004             0.0          0.0    355820.0          45600.0  \n\n[1 rows x 59 columns]",
      "text/html": "<div>\n<style scoped>\n    .dataframe tbody tr th:only-of-type {\n        vertical-align: middle;\n    }\n\n    .dataframe tbody tr th {\n        vertical-align: top;\n    }\n\n    .dataframe thead th {\n        text-align: right;\n    }\n</style>\n<table border=\"1\" class=\"dataframe\">\n  <thead>\n    <tr style=\"text-align: right;\">\n      <th></th>\n      <th>id_pk</th>\n      <th>member_id</th>\n      <th>loan_amnt</th>\n      <th>funded_amnt</th>\n      <th>funded_amnt_inv</th>\n      <th>term</th>\n      <th>int_rate</th>\n      <th>installment</th>\n      <th>grade</th>\n      <th>sub_grade</th>\n      <th>...</th>\n      <th>next_pymnt_year</th>\n      <th>last_credit_pull_month</th>\n      <th>last_credit_pull_year</th>\n      <th>collections_12_mths_ex_med</th>\n      <th>policy_code</th>\n      <th>application_type</th>\n      <th>acc_now_delinq</th>\n      <th>tot_coll_amt</th>\n      <th>tot_cur_bal</th>\n      <th>total_rev_hi_lim</th>\n    </tr>\n  </thead>\n  <tbody>\n    <tr>\n      <th>50004</th>\n      <td>4536779</td>\n      <td>5779043</td>\n      <td>16000.0</td>\n      <td>16000.0</td>\n      <td>15950.0</td>\n      <td>36</td>\n      <td>-1.1</td>\n      <td>508.06</td>\n      <td>A</td>\n      <td>A5</td>\n      <td>...</td>\n      <td>2016.0</td>\n      <td>Jan</td>\n      <td>2016.0</td>\n      <td>0.0</td>\n      <td>1.0</td>\n      <td>INDIVIDUAL</td>\n      <td>0.0</td>\n      <td>0.0</td>\n      <td>355820.0</td>\n      <td>45600.0</td>\n    </tr>\n  </tbody>\n</table>\n<p>1 rows × 59 columns</p>\n</div>"
     },
     "execution_count": 111,
     "metadata": {},
     "output_type": "execute_result"
    }
   ],
   "source": [
    "# show row for member id 5779043\n",
    "df[df['member_id'] == 5779043]"
   ],
   "metadata": {
    "collapsed": false,
    "ExecuteTime": {
     "end_time": "2024-02-23T13:02:17.492561Z",
     "start_time": "2024-02-23T13:02:17.417653Z"
    }
   },
   "id": "bb6b2aa6842f6150",
   "execution_count": 111
  },
  {
   "cell_type": "markdown",
   "source": [
    "## 1.1.2. Inconsistencies\n",
    "Another problem that becomes apparent when looking at the data is the discrepancy between the variables **grade** and **subgrade**. The **subgrade** variable is a subset of the **grade** variable. We can check this by looking at the unique values for both variables. However, we can see that the **subgrade** variable contains the nonsensical value *ALPHA_CENTAURI*. We need to address this issue by, first removing this value."
   ],
   "metadata": {
    "collapsed": false
   },
   "id": "1d4d90b061b1d593"
  },
  {
   "cell_type": "code",
   "outputs": [
    {
     "data": {
      "text/plain": "(array(['D', 'A', 'B', 'C', 'G', 'E', 'F'], dtype=object),\n array(['D2', 'A2', 'A3', 'A1', 'A4', 'B1', 'B2', 'ALPHA_CENTAURI', 'B5',\n        'B4', 'A5', 'C1', 'C2', 'C3', 'C4', 'C5', 'D1', 'D4', 'D3', 'G1',\n        'D5', 'E2', 'E1', 'E3', 'F5', 'E4', 'E5', 'F1', 'F4', 'F2', 'F3',\n        'G2', 'G3', 'G4', 'G5'], dtype=object))"
     },
     "execution_count": 112,
     "metadata": {},
     "output_type": "execute_result"
    }
   ],
   "source": [
    "# show unique values for grade and subgrade\n",
    "(df['grade'].unique(), df['sub_grade'].unique())"
   ],
   "metadata": {
    "collapsed": false,
    "ExecuteTime": {
     "end_time": "2024-02-23T13:02:17.493984Z",
     "start_time": "2024-02-23T13:02:17.422490Z"
    }
   },
   "id": "8841f166c39c920c",
   "execution_count": 112
  },
  {
   "cell_type": "code",
   "outputs": [
    {
     "data": {
      "text/plain": "array(['D2', 'A2', 'A3', 'A1', 'A4', 'B1', 'B2', None, 'B5', 'B4', 'A5',\n       'C1', 'C2', 'C3', 'C4', 'C5', 'D1', 'D4', 'D3', 'G1', 'D5', 'E2',\n       'E1', 'E3', 'F5', 'E4', 'E5', 'F1', 'F4', 'F2', 'F3', 'G2', 'G3',\n       'G4', 'G5'], dtype=object)"
     },
     "execution_count": 113,
     "metadata": {},
     "output_type": "execute_result"
    }
   ],
   "source": [
    "# replace ALPHA_CENTAURI from sub_grade with None\n",
    "df['sub_grade'] = df['sub_grade'].replace('ALPHA_CENTAURI', None)\n",
    "\n",
    "# show unique values for grade and subgrade\n",
    "df['sub_grade'].unique()"
   ],
   "metadata": {
    "collapsed": false,
    "ExecuteTime": {
     "end_time": "2024-02-23T13:02:17.494489Z",
     "start_time": "2024-02-23T13:02:17.426993Z"
    }
   },
   "id": "2e733d34a0e7b865",
   "execution_count": 113
  },
  {
   "cell_type": "code",
   "outputs": [
    {
     "data": {
      "text/plain": "          id_pk  member_id  loan_amnt  funded_amnt  funded_amnt_inv  term  \\\n20588  66631610   71357375     1000.0       1000.0           1000.0    36   \n22176  65976695   70671480     1000.0       1000.0           1000.0    36   \n21684  68443647   73333393     1000.0       1000.0           1000.0    36   \n13212  61722545   65892267     1000.0       1000.0           1000.0    36   \n48383  59230236   63117999     1000.0       1000.0           1000.0    36   \n...         ...        ...        ...          ...              ...   ...   \n25357  10105780   11957868    35000.0      35000.0          34900.0    36   \n24824   8606497   10358554    35000.0      35000.0          34950.0    36   \n40753  12386926   14399043    35000.0      35000.0          35000.0    36   \n24446  14699830   16762170    35000.0      35000.0          35000.0    36   \n2484    2296072    2728309    35000.0      35000.0          35000.0    36   \n\n       int_rate  installment grade sub_grade  ... next_pymnt_year  \\\n20588     -0.24        32.16     B      None  ...          2016.0   \n22176     -0.24        32.16     B      None  ...          2016.0   \n21684     -0.20        32.18     B      None  ...          2016.0   \n13212     -0.01        32.27     B      None  ...          2016.0   \n48383     -0.01        32.27     B      None  ...             NaN   \n...         ...          ...   ...       ...  ...             ...   \n25357      1.99      1162.34     B      None  ...          2016.0   \n24824      1.99      1162.34     B      None  ...          2016.0   \n40753      1.99      1162.34     B      None  ...          2016.0   \n24446      1.99      1162.34     B      None  ...          2016.0   \n2484       2.12      1164.51     B      None  ...             NaN   \n\n       last_credit_pull_month last_credit_pull_year  \\\n20588                     Jan                2016.0   \n22176                     Jan                2016.0   \n21684                     Jan                2016.0   \n13212                     Jan                2016.0   \n48383                     Jan                2016.0   \n...                       ...                   ...   \n25357                     Jan                2016.0   \n24824                     Jan                2016.0   \n40753                     Jan                2016.0   \n24446                     Jan                2016.0   \n2484                      Feb                2014.0   \n\n       collections_12_mths_ex_med policy_code application_type  \\\n20588                         0.0         1.0       INDIVIDUAL   \n22176                         0.0         1.0       INDIVIDUAL   \n21684                         0.0         1.0       INDIVIDUAL   \n13212                         0.0         1.0       INDIVIDUAL   \n48383                         0.0         1.0       INDIVIDUAL   \n...                           ...         ...              ...   \n25357                         0.0         1.0       INDIVIDUAL   \n24824                         0.0         1.0       INDIVIDUAL   \n40753                         0.0         1.0       INDIVIDUAL   \n24446                         0.0         1.0       INDIVIDUAL   \n2484                          0.0         1.0       INDIVIDUAL   \n\n       acc_now_delinq tot_coll_amt tot_cur_bal total_rev_hi_lim  \n20588             0.0          0.0      7305.0          17600.0  \n22176             0.0          0.0      9376.0          17400.0  \n21684             0.0          0.0    146562.0          17400.0  \n13212             0.0          0.0     13254.0          11700.0  \n48383             0.0          0.0       785.0           7600.0  \n...               ...          ...         ...              ...  \n25357             0.0          0.0    121149.0          77600.0  \n24824             0.0          0.0     25854.0          73000.0  \n40753             0.0          0.0    217660.0          73500.0  \n24446             0.0          0.0    210478.0          49100.0  \n2484              0.0          0.0    375731.0          45100.0  \n\n[3160 rows x 59 columns]",
      "text/html": "<div>\n<style scoped>\n    .dataframe tbody tr th:only-of-type {\n        vertical-align: middle;\n    }\n\n    .dataframe tbody tr th {\n        vertical-align: top;\n    }\n\n    .dataframe thead th {\n        text-align: right;\n    }\n</style>\n<table border=\"1\" class=\"dataframe\">\n  <thead>\n    <tr style=\"text-align: right;\">\n      <th></th>\n      <th>id_pk</th>\n      <th>member_id</th>\n      <th>loan_amnt</th>\n      <th>funded_amnt</th>\n      <th>funded_amnt_inv</th>\n      <th>term</th>\n      <th>int_rate</th>\n      <th>installment</th>\n      <th>grade</th>\n      <th>sub_grade</th>\n      <th>...</th>\n      <th>next_pymnt_year</th>\n      <th>last_credit_pull_month</th>\n      <th>last_credit_pull_year</th>\n      <th>collections_12_mths_ex_med</th>\n      <th>policy_code</th>\n      <th>application_type</th>\n      <th>acc_now_delinq</th>\n      <th>tot_coll_amt</th>\n      <th>tot_cur_bal</th>\n      <th>total_rev_hi_lim</th>\n    </tr>\n  </thead>\n  <tbody>\n    <tr>\n      <th>20588</th>\n      <td>66631610</td>\n      <td>71357375</td>\n      <td>1000.0</td>\n      <td>1000.0</td>\n      <td>1000.0</td>\n      <td>36</td>\n      <td>-0.24</td>\n      <td>32.16</td>\n      <td>B</td>\n      <td>None</td>\n      <td>...</td>\n      <td>2016.0</td>\n      <td>Jan</td>\n      <td>2016.0</td>\n      <td>0.0</td>\n      <td>1.0</td>\n      <td>INDIVIDUAL</td>\n      <td>0.0</td>\n      <td>0.0</td>\n      <td>7305.0</td>\n      <td>17600.0</td>\n    </tr>\n    <tr>\n      <th>22176</th>\n      <td>65976695</td>\n      <td>70671480</td>\n      <td>1000.0</td>\n      <td>1000.0</td>\n      <td>1000.0</td>\n      <td>36</td>\n      <td>-0.24</td>\n      <td>32.16</td>\n      <td>B</td>\n      <td>None</td>\n      <td>...</td>\n      <td>2016.0</td>\n      <td>Jan</td>\n      <td>2016.0</td>\n      <td>0.0</td>\n      <td>1.0</td>\n      <td>INDIVIDUAL</td>\n      <td>0.0</td>\n      <td>0.0</td>\n      <td>9376.0</td>\n      <td>17400.0</td>\n    </tr>\n    <tr>\n      <th>21684</th>\n      <td>68443647</td>\n      <td>73333393</td>\n      <td>1000.0</td>\n      <td>1000.0</td>\n      <td>1000.0</td>\n      <td>36</td>\n      <td>-0.20</td>\n      <td>32.18</td>\n      <td>B</td>\n      <td>None</td>\n      <td>...</td>\n      <td>2016.0</td>\n      <td>Jan</td>\n      <td>2016.0</td>\n      <td>0.0</td>\n      <td>1.0</td>\n      <td>INDIVIDUAL</td>\n      <td>0.0</td>\n      <td>0.0</td>\n      <td>146562.0</td>\n      <td>17400.0</td>\n    </tr>\n    <tr>\n      <th>13212</th>\n      <td>61722545</td>\n      <td>65892267</td>\n      <td>1000.0</td>\n      <td>1000.0</td>\n      <td>1000.0</td>\n      <td>36</td>\n      <td>-0.01</td>\n      <td>32.27</td>\n      <td>B</td>\n      <td>None</td>\n      <td>...</td>\n      <td>2016.0</td>\n      <td>Jan</td>\n      <td>2016.0</td>\n      <td>0.0</td>\n      <td>1.0</td>\n      <td>INDIVIDUAL</td>\n      <td>0.0</td>\n      <td>0.0</td>\n      <td>13254.0</td>\n      <td>11700.0</td>\n    </tr>\n    <tr>\n      <th>48383</th>\n      <td>59230236</td>\n      <td>63117999</td>\n      <td>1000.0</td>\n      <td>1000.0</td>\n      <td>1000.0</td>\n      <td>36</td>\n      <td>-0.01</td>\n      <td>32.27</td>\n      <td>B</td>\n      <td>None</td>\n      <td>...</td>\n      <td>NaN</td>\n      <td>Jan</td>\n      <td>2016.0</td>\n      <td>0.0</td>\n      <td>1.0</td>\n      <td>INDIVIDUAL</td>\n      <td>0.0</td>\n      <td>0.0</td>\n      <td>785.0</td>\n      <td>7600.0</td>\n    </tr>\n    <tr>\n      <th>...</th>\n      <td>...</td>\n      <td>...</td>\n      <td>...</td>\n      <td>...</td>\n      <td>...</td>\n      <td>...</td>\n      <td>...</td>\n      <td>...</td>\n      <td>...</td>\n      <td>...</td>\n      <td>...</td>\n      <td>...</td>\n      <td>...</td>\n      <td>...</td>\n      <td>...</td>\n      <td>...</td>\n      <td>...</td>\n      <td>...</td>\n      <td>...</td>\n      <td>...</td>\n      <td>...</td>\n    </tr>\n    <tr>\n      <th>25357</th>\n      <td>10105780</td>\n      <td>11957868</td>\n      <td>35000.0</td>\n      <td>35000.0</td>\n      <td>34900.0</td>\n      <td>36</td>\n      <td>1.99</td>\n      <td>1162.34</td>\n      <td>B</td>\n      <td>None</td>\n      <td>...</td>\n      <td>2016.0</td>\n      <td>Jan</td>\n      <td>2016.0</td>\n      <td>0.0</td>\n      <td>1.0</td>\n      <td>INDIVIDUAL</td>\n      <td>0.0</td>\n      <td>0.0</td>\n      <td>121149.0</td>\n      <td>77600.0</td>\n    </tr>\n    <tr>\n      <th>24824</th>\n      <td>8606497</td>\n      <td>10358554</td>\n      <td>35000.0</td>\n      <td>35000.0</td>\n      <td>34950.0</td>\n      <td>36</td>\n      <td>1.99</td>\n      <td>1162.34</td>\n      <td>B</td>\n      <td>None</td>\n      <td>...</td>\n      <td>2016.0</td>\n      <td>Jan</td>\n      <td>2016.0</td>\n      <td>0.0</td>\n      <td>1.0</td>\n      <td>INDIVIDUAL</td>\n      <td>0.0</td>\n      <td>0.0</td>\n      <td>25854.0</td>\n      <td>73000.0</td>\n    </tr>\n    <tr>\n      <th>40753</th>\n      <td>12386926</td>\n      <td>14399043</td>\n      <td>35000.0</td>\n      <td>35000.0</td>\n      <td>35000.0</td>\n      <td>36</td>\n      <td>1.99</td>\n      <td>1162.34</td>\n      <td>B</td>\n      <td>None</td>\n      <td>...</td>\n      <td>2016.0</td>\n      <td>Jan</td>\n      <td>2016.0</td>\n      <td>0.0</td>\n      <td>1.0</td>\n      <td>INDIVIDUAL</td>\n      <td>0.0</td>\n      <td>0.0</td>\n      <td>217660.0</td>\n      <td>73500.0</td>\n    </tr>\n    <tr>\n      <th>24446</th>\n      <td>14699830</td>\n      <td>16762170</td>\n      <td>35000.0</td>\n      <td>35000.0</td>\n      <td>35000.0</td>\n      <td>36</td>\n      <td>1.99</td>\n      <td>1162.34</td>\n      <td>B</td>\n      <td>None</td>\n      <td>...</td>\n      <td>2016.0</td>\n      <td>Jan</td>\n      <td>2016.0</td>\n      <td>0.0</td>\n      <td>1.0</td>\n      <td>INDIVIDUAL</td>\n      <td>0.0</td>\n      <td>0.0</td>\n      <td>210478.0</td>\n      <td>49100.0</td>\n    </tr>\n    <tr>\n      <th>2484</th>\n      <td>2296072</td>\n      <td>2728309</td>\n      <td>35000.0</td>\n      <td>35000.0</td>\n      <td>35000.0</td>\n      <td>36</td>\n      <td>2.12</td>\n      <td>1164.51</td>\n      <td>B</td>\n      <td>None</td>\n      <td>...</td>\n      <td>NaN</td>\n      <td>Feb</td>\n      <td>2014.0</td>\n      <td>0.0</td>\n      <td>1.0</td>\n      <td>INDIVIDUAL</td>\n      <td>0.0</td>\n      <td>0.0</td>\n      <td>375731.0</td>\n      <td>45100.0</td>\n    </tr>\n  </tbody>\n</table>\n<p>3160 rows × 59 columns</p>\n</div>"
     },
     "execution_count": 114,
     "metadata": {},
     "output_type": "execute_result"
    }
   ],
   "source": [
    "# show rows for which sub_grade is NULL\n",
    "df[df['sub_grade'].isnull()]"
   ],
   "metadata": {
    "collapsed": false,
    "ExecuteTime": {
     "end_time": "2024-02-23T13:02:17.528075Z",
     "start_time": "2024-02-23T13:02:17.437119Z"
    }
   },
   "id": "f8f45d726ac2e8cc",
   "execution_count": 114
  },
  {
   "cell_type": "markdown",
   "source": [
    "Should we apply a cluster analysis to impute values for subgrade?"
   ],
   "metadata": {
    "collapsed": false
   },
   "id": "c5629a024e8891b0"
  },
  {
   "cell_type": "markdown",
   "source": [
    "# 1.2. Analyze Completeness\n",
    "## 1.2.1. Missing Values"
   ],
   "metadata": {
    "collapsed": false
   },
   "id": "933e5392ac18ca76"
  },
  {
   "cell_type": "markdown",
   "source": [
    "# 1.3. Analyze Accuracy\n",
    "## 1.3.1. Data Types and Formats\n",
    "Another problem identified in the data are that at the moment dates are split into years and month. This becomes first visible when looking at the variables **issue_year** and **issue_month** as an example. Since we only have observations for 2015, this means that the **issue_year** variable by itself does not provide any useful information (no variation) in future analytical applications. Only in combination with the month, does the year provide useful information."
   ],
   "metadata": {
    "collapsed": false
   },
   "id": "5556b73716ef8f26"
  },
  {
   "cell_type": "code",
   "outputs": [
    {
     "data": {
      "text/plain": "<Axes: xlabel='issue_year', ylabel='count'>"
     },
     "execution_count": 115,
     "metadata": {},
     "output_type": "execute_result"
    }
   ],
   "source": [
    "# show distribution of issue_year\n",
    "sns.countplot(data=df, x='issue_year')"
   ],
   "metadata": {
    "collapsed": false,
    "ExecuteTime": {
     "end_time": "2024-02-23T13:02:17.528662Z",
     "start_time": "2024-02-23T13:02:17.451104Z"
    }
   },
   "id": "7cce854e3690e96a",
   "execution_count": 115
  },
  {
   "cell_type": "markdown",
   "source": [
    "Contrary to **issue_year** the variable **issue_month** does show some variation, as shown in the plot below."
   ],
   "metadata": {
    "collapsed": false
   },
   "id": "f9fb2394a7855929"
  },
  {
   "cell_type": "code",
   "outputs": [
    {
     "data": {
      "text/plain": "<Axes: xlabel='issue_month', ylabel='count'>"
     },
     "execution_count": 116,
     "metadata": {},
     "output_type": "execute_result"
    }
   ],
   "source": [
    "# show distribution of issue_month\n",
    "sns.countplot(data=df, x='issue_month')"
   ],
   "metadata": {
    "collapsed": false,
    "ExecuteTime": {
     "end_time": "2024-02-23T13:02:17.529988Z",
     "start_time": "2024-02-23T13:02:17.465878Z"
    }
   },
   "id": "ecfa84b0edae86d9",
   "execution_count": 116
  },
  {
   "cell_type": "markdown",
   "source": [
    "However, we also see that *October* was misspelled as *Octxyz*. We can fix this by replacing the misspelled value with the correct one."
   ],
   "metadata": {
    "collapsed": false
   },
   "id": "7680cf2f1ae194ed"
  },
  {
   "cell_type": "code",
   "outputs": [
    {
     "data": {
      "text/plain": "array(['Nov', 'Oct', 'Jan', 'Aug', 'Feb', 'Jun', 'Dec', 'Apr', 'Mar',\n       'Sep', 'May', 'Jul'], dtype=object)"
     },
     "execution_count": 117,
     "metadata": {},
     "output_type": "execute_result"
    }
   ],
   "source": [
    "# replace misspelled value\n",
    "df['issue_month'] = df['issue_month'].replace('Octxyz', 'Oct')\n",
    "df['issue_month'].unique()"
   ],
   "metadata": {
    "collapsed": false,
    "ExecuteTime": {
     "end_time": "2024-02-23T13:02:17.530443Z",
     "start_time": "2024-02-23T13:02:17.485085Z"
    }
   },
   "id": "5d438cab282b2fe0",
   "execution_count": 117
  },
  {
   "cell_type": "markdown",
   "source": [
    "To remedy the fact that issue_year contains no variation, but we still would like to know the year, we can create a new variable that combines the year and month into a single variable. This will allow us to keep the information about the year, but also the month. The same transformation can be applied to the other time variables in the dataset (earliest_cr_line_month, earliest_cr_line_year, last_pymnt_month, last_pymnt_year, next_pymnt_month, next_pymnt_year, last_credit_pull_month, last_credit_pull_year)."
   ],
   "metadata": {
    "collapsed": false
   },
   "id": "6fada4de09e0116"
  },
  {
   "cell_type": "code",
   "outputs": [
    {
     "data": {
      "text/plain": "34866   2015-11-01\n2735    2015-10-01\n40836   2015-01-01\n21990   2015-08-01\n4759    2015-10-01\nName: issue_date, dtype: datetime64[ns]"
     },
     "execution_count": 118,
     "metadata": {},
     "output_type": "execute_result"
    }
   ],
   "source": [
    "# create new variable issue_date with data type datetime\n",
    "df['issue_date'] = pd.to_datetime(df['issue_year'].astype(str) + '-' + df['issue_month'], format='%Y-%b')\n",
    "\n",
    "# drop issue_year and issue_month\n",
    "df = df.drop(columns=['issue_year', 'issue_month'])\n",
    "\n",
    "# show first 5 rows\n",
    "df['issue_date'].head(5)"
   ],
   "metadata": {
    "collapsed": false,
    "ExecuteTime": {
     "end_time": "2024-02-23T13:02:17.617066Z",
     "start_time": "2024-02-23T13:02:17.499530Z"
    }
   },
   "id": "c92e13b93994d807",
   "execution_count": 118
  },
  {
   "cell_type": "markdown",
   "source": [
    "# 1.4. Text Issues"
   ],
   "metadata": {
    "collapsed": false
   },
   "id": "7faeed139b34bcc"
  },
  {
   "cell_type": "markdown",
   "source": [
    "# 1.5. Data Protection\n",
    "We might want to encrypt some variables that contain sensitive information, such as the url. This is because the url might contain information that could be used to identify the borrower. In the case that we need to be able to convert the data back to its original form, we should use encryption. With encryption are able to use a key to encrypt and decrypt data."
   ],
   "metadata": {
    "collapsed": false
   },
   "id": "870eb7173b3c1553"
  },
  {
   "cell_type": "code",
   "outputs": [
    {
     "data": {
      "text/plain": "       member_id                                                url\n34866     787218  b'gAAAAABl2JfYqbCNidH11d7eogUAHC22ikRApZSudjP9...\n2735      764324  b'gAAAAABl2JfYQGx6wR-Giyi-t5-CK3bXajbUpcl9KYaq...\n40836     835461  b'gAAAAABl2JfY4fIjhAuw1EWK4FY6SS97Sefp84vg8Y5D...\n21990    1080466  b'gAAAAABl2JfYihZa65mM06TlZBArDGIM3bcsTpPbgwbH...\n4759    67800109  b'gAAAAABl2JfYtslzJranJacxGTsDubRvW3NIkAjlRLvN...",
      "text/html": "<div>\n<style scoped>\n    .dataframe tbody tr th:only-of-type {\n        vertical-align: middle;\n    }\n\n    .dataframe tbody tr th {\n        vertical-align: top;\n    }\n\n    .dataframe thead th {\n        text-align: right;\n    }\n</style>\n<table border=\"1\" class=\"dataframe\">\n  <thead>\n    <tr style=\"text-align: right;\">\n      <th></th>\n      <th>member_id</th>\n      <th>url</th>\n    </tr>\n  </thead>\n  <tbody>\n    <tr>\n      <th>34866</th>\n      <td>787218</td>\n      <td>b'gAAAAABl2JfYqbCNidH11d7eogUAHC22ikRApZSudjP9...</td>\n    </tr>\n    <tr>\n      <th>2735</th>\n      <td>764324</td>\n      <td>b'gAAAAABl2JfYQGx6wR-Giyi-t5-CK3bXajbUpcl9KYaq...</td>\n    </tr>\n    <tr>\n      <th>40836</th>\n      <td>835461</td>\n      <td>b'gAAAAABl2JfY4fIjhAuw1EWK4FY6SS97Sefp84vg8Y5D...</td>\n    </tr>\n    <tr>\n      <th>21990</th>\n      <td>1080466</td>\n      <td>b'gAAAAABl2JfYihZa65mM06TlZBArDGIM3bcsTpPbgwbH...</td>\n    </tr>\n    <tr>\n      <th>4759</th>\n      <td>67800109</td>\n      <td>b'gAAAAABl2JfYtslzJranJacxGTsDubRvW3NIkAjlRLvN...</td>\n    </tr>\n  </tbody>\n</table>\n</div>"
     },
     "execution_count": 130,
     "metadata": {},
     "output_type": "execute_result"
    }
   ],
   "source": [
    "# generate private key\n",
    "private_key = Fernet.generate_key()\n",
    "\n",
    "# create fernet object\n",
    "fernet = Fernet(private_key)\n",
    "\n",
    "# Ensure that 'url' column is of type string if not convert it\n",
    "if isinstance(df['url'], str) is False:\n",
    "    df['url'] = df['url'].astype(str)   \n",
    "\n",
    "# encrypt url\n",
    "df['url'] = df['url'].apply(lambda x: fernet.encrypt(x.encode()))\n",
    "df[['member_id', 'url']].head(5)"
   ],
   "metadata": {
    "collapsed": false,
    "ExecuteTime": {
     "end_time": "2024-02-23T13:04:26.353839Z",
     "start_time": "2024-02-23T13:04:24.962135Z"
    }
   },
   "id": "4d387ba6eeba338b",
   "execution_count": 130
  },
  {
   "cell_type": "code",
   "outputs": [
    {
     "data": {
      "text/plain": "       member_id                                                url\n34866     787218  gAAAAABl2JerrOFlfRVgSRk81QRL9ixHCJGa9BS55v70D6...\n2735      764324  gAAAAABl2Jert_5dmPO0vNAj8YLTKVk_Z5g9Ay0vPT_OD6...\n40836     835461  gAAAAABl2JerWkwkApgohfh33n_kf7vP7USQG1_eHbkKPF...\n21990    1080466  gAAAAABl2Jer89uFh6aoBAUlddX_cI4933Kud6JnmDCUSu...\n4759    67800109  gAAAAABl2JerBYZljvI7N7wwq4TQUKW9M2T5SQi2-x0jXA...",
      "text/html": "<div>\n<style scoped>\n    .dataframe tbody tr th:only-of-type {\n        vertical-align: middle;\n    }\n\n    .dataframe tbody tr th {\n        vertical-align: top;\n    }\n\n    .dataframe thead th {\n        text-align: right;\n    }\n</style>\n<table border=\"1\" class=\"dataframe\">\n  <thead>\n    <tr style=\"text-align: right;\">\n      <th></th>\n      <th>member_id</th>\n      <th>url</th>\n    </tr>\n  </thead>\n  <tbody>\n    <tr>\n      <th>34866</th>\n      <td>787218</td>\n      <td>gAAAAABl2JerrOFlfRVgSRk81QRL9ixHCJGa9BS55v70D6...</td>\n    </tr>\n    <tr>\n      <th>2735</th>\n      <td>764324</td>\n      <td>gAAAAABl2Jert_5dmPO0vNAj8YLTKVk_Z5g9Ay0vPT_OD6...</td>\n    </tr>\n    <tr>\n      <th>40836</th>\n      <td>835461</td>\n      <td>gAAAAABl2JerWkwkApgohfh33n_kf7vP7USQG1_eHbkKPF...</td>\n    </tr>\n    <tr>\n      <th>21990</th>\n      <td>1080466</td>\n      <td>gAAAAABl2Jer89uFh6aoBAUlddX_cI4933Kud6JnmDCUSu...</td>\n    </tr>\n    <tr>\n      <th>4759</th>\n      <td>67800109</td>\n      <td>gAAAAABl2JerBYZljvI7N7wwq4TQUKW9M2T5SQi2-x0jXA...</td>\n    </tr>\n  </tbody>\n</table>\n</div>"
     },
     "execution_count": 131,
     "metadata": {},
     "output_type": "execute_result"
    }
   ],
   "source": [
    "# decrypt url\n",
    "df['url'] = df['url'].apply(lambda x: fernet.decrypt(x).decode())\n",
    "df[['member_id', 'url']].head(5)"
   ],
   "metadata": {
    "collapsed": false,
    "ExecuteTime": {
     "end_time": "2024-02-23T13:04:29.236824Z",
     "start_time": "2024-02-23T13:04:27.854005Z"
    }
   },
   "id": "341ba7d314989af5",
   "execution_count": 131
  },
  {
   "cell_type": "markdown",
   "source": [
    "If we have to permanently anonymize the data we can replace the url with a hash value."
   ],
   "metadata": {
    "collapsed": false
   },
   "id": "263f8f5be0b8cd52"
  },
  {
   "cell_type": "code",
   "outputs": [],
   "source": [
    "# encrypt url\n",
    "df['url'] = df['url'].apply(lambda x: hash(x))\n",
    "df[['member_id', 'url']].head(5)"
   ],
   "metadata": {
    "collapsed": false
   },
   "id": "d2f652870f4e140a"
  }
 ],
 "metadata": {
  "kernelspec": {
   "display_name": "Python 3",
   "language": "python",
   "name": "python3"
  },
  "language_info": {
   "codemirror_mode": {
    "name": "ipython",
    "version": 2
   },
   "file_extension": ".py",
   "mimetype": "text/x-python",
   "name": "python",
   "nbconvert_exporter": "python",
   "pygments_lexer": "ipython2",
   "version": "2.7.6"
  }
 },
 "nbformat": 4,
 "nbformat_minor": 5
}
