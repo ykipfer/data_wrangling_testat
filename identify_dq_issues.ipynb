{
 "cells": [
  {
   "cell_type": "markdown",
   "source": [
    "# Data Profiling\n",
    "# 0. Set up"
   ],
   "metadata": {
    "collapsed": false
   },
   "id": "be0a4b52308b2400"
  },
  {
   "cell_type": "code",
   "outputs": [
    {
     "data": {
      "text/plain": "(50100, 60)"
     },
     "execution_count": 1,
     "metadata": {},
     "output_type": "execute_result"
    }
   ],
   "source": [
    "# import libraries\n",
    "import pandas as pd\n",
    "import seaborn as sns\n",
    "\n",
    "# load data\n",
    "df = pd.read_csv('input/dirty-loan-data.csv')\n",
    "df.shape"
   ],
   "metadata": {
    "collapsed": false,
    "ExecuteTime": {
     "end_time": "2024-02-23T10:28:46.609824Z",
     "start_time": "2024-02-23T10:28:46.333901Z"
    }
   },
   "id": "802709ee2fc9ef00",
   "execution_count": 1
  },
  {
   "cell_type": "code",
   "outputs": [
    {
     "data": {
      "text/plain": "   Unnamed: 0     id_pk  member_id  loan_amnt  funded_amnt  funded_amnt_inv  \\\n0           0  55978502   59640239    14400.0      14400.0          14400.0   \n1           1  56141977   59803813    24550.0      24550.0          24550.0   \n2           2  18935279   21167968    20000.0      20000.0          20000.0   \n3           3  27580978   30084088    15000.0      15000.0          15000.0   \n4           4   4536779    5779043    16000.0      16000.0          15950.0   \n\n   term  int_rate  installment grade  ... next_pymnt_year  \\\n0    36      5.61      50000.0     D  ...          2016.0   \n1    36      2.29      50000.0     C  ...          2016.0   \n2    60      6.29      50000.0     D  ...          2016.0   \n3    36     -3.97      50000.0     A  ...             NaN   \n4    36     -1.10      50000.0     A  ...          2016.0   \n\n  last_credit_pull_month  last_credit_pull_year collections_12_mths_ex_med  \\\n0                    Jan                 2016.0                        0.0   \n1                    Jan                 2016.0                        0.0   \n2                    Jan                 2016.0                        0.0   \n3                    Jan                 2016.0                        0.0   \n4                    Jan                 2016.0                        0.0   \n\n   policy_code application_type acc_now_delinq  tot_coll_amt tot_cur_bal  \\\n0          1.0       INDIVIDUAL            0.0           0.0     15278.0   \n1          1.0       INDIVIDUAL            0.0           0.0    163368.0   \n2          1.0       INDIVIDUAL            0.0           0.0     35408.0   \n3          1.0       INDIVIDUAL            0.0           0.0    146372.0   \n4          1.0       INDIVIDUAL            0.0           0.0    355820.0   \n\n  total_rev_hi_lim  \n0          15000.0  \n1          41400.0  \n2          28300.0  \n3          81600.0  \n4          45600.0  \n\n[5 rows x 60 columns]",
      "text/html": "<div>\n<style scoped>\n    .dataframe tbody tr th:only-of-type {\n        vertical-align: middle;\n    }\n\n    .dataframe tbody tr th {\n        vertical-align: top;\n    }\n\n    .dataframe thead th {\n        text-align: right;\n    }\n</style>\n<table border=\"1\" class=\"dataframe\">\n  <thead>\n    <tr style=\"text-align: right;\">\n      <th></th>\n      <th>Unnamed: 0</th>\n      <th>id_pk</th>\n      <th>member_id</th>\n      <th>loan_amnt</th>\n      <th>funded_amnt</th>\n      <th>funded_amnt_inv</th>\n      <th>term</th>\n      <th>int_rate</th>\n      <th>installment</th>\n      <th>grade</th>\n      <th>...</th>\n      <th>next_pymnt_year</th>\n      <th>last_credit_pull_month</th>\n      <th>last_credit_pull_year</th>\n      <th>collections_12_mths_ex_med</th>\n      <th>policy_code</th>\n      <th>application_type</th>\n      <th>acc_now_delinq</th>\n      <th>tot_coll_amt</th>\n      <th>tot_cur_bal</th>\n      <th>total_rev_hi_lim</th>\n    </tr>\n  </thead>\n  <tbody>\n    <tr>\n      <th>0</th>\n      <td>0</td>\n      <td>55978502</td>\n      <td>59640239</td>\n      <td>14400.0</td>\n      <td>14400.0</td>\n      <td>14400.0</td>\n      <td>36</td>\n      <td>5.61</td>\n      <td>50000.0</td>\n      <td>D</td>\n      <td>...</td>\n      <td>2016.0</td>\n      <td>Jan</td>\n      <td>2016.0</td>\n      <td>0.0</td>\n      <td>1.0</td>\n      <td>INDIVIDUAL</td>\n      <td>0.0</td>\n      <td>0.0</td>\n      <td>15278.0</td>\n      <td>15000.0</td>\n    </tr>\n    <tr>\n      <th>1</th>\n      <td>1</td>\n      <td>56141977</td>\n      <td>59803813</td>\n      <td>24550.0</td>\n      <td>24550.0</td>\n      <td>24550.0</td>\n      <td>36</td>\n      <td>2.29</td>\n      <td>50000.0</td>\n      <td>C</td>\n      <td>...</td>\n      <td>2016.0</td>\n      <td>Jan</td>\n      <td>2016.0</td>\n      <td>0.0</td>\n      <td>1.0</td>\n      <td>INDIVIDUAL</td>\n      <td>0.0</td>\n      <td>0.0</td>\n      <td>163368.0</td>\n      <td>41400.0</td>\n    </tr>\n    <tr>\n      <th>2</th>\n      <td>2</td>\n      <td>18935279</td>\n      <td>21167968</td>\n      <td>20000.0</td>\n      <td>20000.0</td>\n      <td>20000.0</td>\n      <td>60</td>\n      <td>6.29</td>\n      <td>50000.0</td>\n      <td>D</td>\n      <td>...</td>\n      <td>2016.0</td>\n      <td>Jan</td>\n      <td>2016.0</td>\n      <td>0.0</td>\n      <td>1.0</td>\n      <td>INDIVIDUAL</td>\n      <td>0.0</td>\n      <td>0.0</td>\n      <td>35408.0</td>\n      <td>28300.0</td>\n    </tr>\n    <tr>\n      <th>3</th>\n      <td>3</td>\n      <td>27580978</td>\n      <td>30084088</td>\n      <td>15000.0</td>\n      <td>15000.0</td>\n      <td>15000.0</td>\n      <td>36</td>\n      <td>-3.97</td>\n      <td>50000.0</td>\n      <td>A</td>\n      <td>...</td>\n      <td>NaN</td>\n      <td>Jan</td>\n      <td>2016.0</td>\n      <td>0.0</td>\n      <td>1.0</td>\n      <td>INDIVIDUAL</td>\n      <td>0.0</td>\n      <td>0.0</td>\n      <td>146372.0</td>\n      <td>81600.0</td>\n    </tr>\n    <tr>\n      <th>4</th>\n      <td>4</td>\n      <td>4536779</td>\n      <td>5779043</td>\n      <td>16000.0</td>\n      <td>16000.0</td>\n      <td>15950.0</td>\n      <td>36</td>\n      <td>-1.10</td>\n      <td>50000.0</td>\n      <td>A</td>\n      <td>...</td>\n      <td>2016.0</td>\n      <td>Jan</td>\n      <td>2016.0</td>\n      <td>0.0</td>\n      <td>1.0</td>\n      <td>INDIVIDUAL</td>\n      <td>0.0</td>\n      <td>0.0</td>\n      <td>355820.0</td>\n      <td>45600.0</td>\n    </tr>\n  </tbody>\n</table>\n<p>5 rows × 60 columns</p>\n</div>"
     },
     "execution_count": 2,
     "metadata": {},
     "output_type": "execute_result"
    }
   ],
   "source": [
    "df.head(5)"
   ],
   "metadata": {
    "collapsed": false,
    "ExecuteTime": {
     "end_time": "2024-02-23T10:28:46.658520Z",
     "start_time": "2024-02-23T10:28:46.610685Z"
    }
   },
   "id": "99b119897fba79a3",
   "execution_count": 2
  },
  {
   "cell_type": "markdown",
   "source": [
    "# 1. Create Data Profile"
   ],
   "metadata": {
    "collapsed": false
   },
   "id": "730a9f94e412aa68"
  },
  {
   "cell_type": "code",
   "outputs": [
    {
     "data": {
      "text/plain": "Summarize dataset:   0%|          | 0/5 [00:00<?, ?it/s]",
      "application/vnd.jupyter.widget-view+json": {
       "version_major": 2,
       "version_minor": 0,
       "model_id": "86aa26ec051f4425adbcfec241fbeab2"
      }
     },
     "metadata": {},
     "output_type": "display_data"
    },
    {
     "data": {
      "text/plain": "Generate report structure:   0%|          | 0/1 [00:00<?, ?it/s]",
      "application/vnd.jupyter.widget-view+json": {
       "version_major": 2,
       "version_minor": 0,
       "model_id": "48d55be3b3c241e294f386badd3b3fb5"
      }
     },
     "metadata": {},
     "output_type": "display_data"
    },
    {
     "data": {
      "text/plain": "Render HTML:   0%|          | 0/1 [00:00<?, ?it/s]",
      "application/vnd.jupyter.widget-view+json": {
       "version_major": 2,
       "version_minor": 0,
       "model_id": "b288a887a7e14cd5a3ac37941670f96e"
      }
     },
     "metadata": {},
     "output_type": "display_data"
    },
    {
     "data": {
      "text/plain": "Export report to file:   0%|          | 0/1 [00:00<?, ?it/s]",
      "application/vnd.jupyter.widget-view+json": {
       "version_major": 2,
       "version_minor": 0,
       "model_id": "f6a7da1f633f4626a9f2ac779c71fed8"
      }
     },
     "metadata": {},
     "output_type": "display_data"
    }
   ],
   "source": [
    "from ydata_profiling import ProfileReport\n",
    "\n",
    "profile = ProfileReport(df, title='Loan Dataset Profiling Report', minimal=True)\n",
    "profile.to_file(output_file='output/profile/loan_data_profile.html')"
   ],
   "metadata": {
    "collapsed": false,
    "ExecuteTime": {
     "end_time": "2024-02-23T10:29:02.040180Z",
     "start_time": "2024-02-23T10:28:46.621444Z"
    }
   },
   "id": "577b2e5b90bc7b1f",
   "execution_count": 3
  },
  {
   "cell_type": "markdown",
   "source": [
    "# 1.1. Analyze Integrity\n",
    "## 1.1.1. Duplicates\n",
    "To identify duplicates the first step is to remove the first column, which simply contains a row index. If we do not remove this column, the profiling will identify no rows as duplicates."
   ],
   "metadata": {
    "collapsed": false
   },
   "id": "e16f2d8fef3a41de"
  },
  {
   "cell_type": "code",
   "outputs": [],
   "source": [
    "# drop first column\n",
    "df = df.drop(columns='Unnamed: 0')"
   ],
   "metadata": {
    "collapsed": false,
    "ExecuteTime": {
     "end_time": "2024-02-23T10:29:02.041132Z",
     "start_time": "2024-02-23T10:29:02.004037Z"
    }
   },
   "id": "c9a29f51cbd30454",
   "execution_count": 4
  },
  {
   "cell_type": "markdown",
   "source": [
    "Looking at the output generated by the profiling, the first obvious problem is that the ID variables (**id_pk**, **id_member**) do not seem to be unique. This might be due to duplicated entries in the dataset. We can check this by filtering for all entries containing duplicated 'member_id' and order by 'member_id'."
   ],
   "metadata": {
    "collapsed": false
   },
   "id": "249c66cdc8def22f"
  },
  {
   "cell_type": "code",
   "outputs": [
    {
     "data": {
      "text/plain": "          id_pk  member_id  loan_amnt  funded_amnt  funded_amnt_inv  term  \\\n50023    435307     520078     7000.0       7000.0      7000.000000    36   \n23       435307     520078     7000.0       7000.0      7000.000000    36   \n50011    526784     681457    11200.0      11200.0     11164.159885    36   \n11       526784     681457    11200.0      11200.0     11164.159885    36   \n50       558201     718601     7200.0       7200.0      7150.000000    60   \n...         ...        ...        ...          ...              ...   ...   \n53     67325141   72126853    28800.0      28800.0     28800.000000    60   \n61     67367721   72179492     3000.0       3000.0      3000.000000    36   \n50061  67367721   72179492     3000.0       3000.0      3000.000000    36   \n50034  67828497   72687218     5000.0       5000.0      5000.000000    36   \n34     67828497   72687218     5000.0       5000.0      5000.000000    36   \n\n       int_rate  installment grade sub_grade  ... next_pymnt_year  \\\n50023      4.96       242.52     D        D2  ...             NaN   \n23         4.96       242.52     D        D2  ...             NaN   \n50011      3.23       378.62     C        C1  ...             NaN   \n11         3.23       378.62     C        C1  ...             NaN   \n50         7.56       181.12     E        E4  ...             NaN   \n...         ...          ...   ...       ...  ...             ...   \n53         0.64       621.03     B        B4  ...          2016.0   \n61         7.57       107.82     D        D4  ...          2016.0   \n50061      7.57       107.82     D        D4  ...          2016.0   \n50034     -4.68       150.58     A        A1  ...          2016.0   \n34        -4.68       150.58     A        A1  ...          2016.0   \n\n       last_credit_pull_month last_credit_pull_year  \\\n50023                     Jul                2015.0   \n23                        Jul                2015.0   \n50011                     Jan                2016.0   \n11                        Jan                2016.0   \n50                        Feb                2015.0   \n...                       ...                   ...   \n53                        Jan                2016.0   \n61                        Jan                2016.0   \n50061                     Jan                2016.0   \n50034                     Jan                2016.0   \n34                        Jan                2016.0   \n\n       collections_12_mths_ex_med policy_code application_type  \\\n50023                         0.0         1.0       INDIVIDUAL   \n23                            0.0         1.0       INDIVIDUAL   \n50011                         0.0         1.0       INDIVIDUAL   \n11                            0.0         1.0       INDIVIDUAL   \n50                            0.0         1.0       INDIVIDUAL   \n...                           ...         ...              ...   \n53                            0.0         1.0       INDIVIDUAL   \n61                            0.0         1.0       INDIVIDUAL   \n50061                         0.0         1.0       INDIVIDUAL   \n50034                         0.0         1.0       INDIVIDUAL   \n34                            0.0         1.0       INDIVIDUAL   \n\n       acc_now_delinq tot_coll_amt tot_cur_bal total_rev_hi_lim  \n50023             0.0          NaN         NaN              NaN  \n23                0.0          NaN         NaN              NaN  \n50011             0.0          NaN         NaN              NaN  \n11                0.0          NaN         NaN              NaN  \n50                0.0          NaN         NaN              NaN  \n...               ...          ...         ...              ...  \n53                0.0          0.0    292439.0          36100.0  \n61                0.0          0.0    101900.0          15300.0  \n50061             0.0          0.0    101900.0          15300.0  \n50034             0.0          0.0     45434.0          59700.0  \n34                0.0          0.0     45434.0          59700.0  \n\n[200 rows x 59 columns]",
      "text/html": "<div>\n<style scoped>\n    .dataframe tbody tr th:only-of-type {\n        vertical-align: middle;\n    }\n\n    .dataframe tbody tr th {\n        vertical-align: top;\n    }\n\n    .dataframe thead th {\n        text-align: right;\n    }\n</style>\n<table border=\"1\" class=\"dataframe\">\n  <thead>\n    <tr style=\"text-align: right;\">\n      <th></th>\n      <th>id_pk</th>\n      <th>member_id</th>\n      <th>loan_amnt</th>\n      <th>funded_amnt</th>\n      <th>funded_amnt_inv</th>\n      <th>term</th>\n      <th>int_rate</th>\n      <th>installment</th>\n      <th>grade</th>\n      <th>sub_grade</th>\n      <th>...</th>\n      <th>next_pymnt_year</th>\n      <th>last_credit_pull_month</th>\n      <th>last_credit_pull_year</th>\n      <th>collections_12_mths_ex_med</th>\n      <th>policy_code</th>\n      <th>application_type</th>\n      <th>acc_now_delinq</th>\n      <th>tot_coll_amt</th>\n      <th>tot_cur_bal</th>\n      <th>total_rev_hi_lim</th>\n    </tr>\n  </thead>\n  <tbody>\n    <tr>\n      <th>50023</th>\n      <td>435307</td>\n      <td>520078</td>\n      <td>7000.0</td>\n      <td>7000.0</td>\n      <td>7000.000000</td>\n      <td>36</td>\n      <td>4.96</td>\n      <td>242.52</td>\n      <td>D</td>\n      <td>D2</td>\n      <td>...</td>\n      <td>NaN</td>\n      <td>Jul</td>\n      <td>2015.0</td>\n      <td>0.0</td>\n      <td>1.0</td>\n      <td>INDIVIDUAL</td>\n      <td>0.0</td>\n      <td>NaN</td>\n      <td>NaN</td>\n      <td>NaN</td>\n    </tr>\n    <tr>\n      <th>23</th>\n      <td>435307</td>\n      <td>520078</td>\n      <td>7000.0</td>\n      <td>7000.0</td>\n      <td>7000.000000</td>\n      <td>36</td>\n      <td>4.96</td>\n      <td>242.52</td>\n      <td>D</td>\n      <td>D2</td>\n      <td>...</td>\n      <td>NaN</td>\n      <td>Jul</td>\n      <td>2015.0</td>\n      <td>0.0</td>\n      <td>1.0</td>\n      <td>INDIVIDUAL</td>\n      <td>0.0</td>\n      <td>NaN</td>\n      <td>NaN</td>\n      <td>NaN</td>\n    </tr>\n    <tr>\n      <th>50011</th>\n      <td>526784</td>\n      <td>681457</td>\n      <td>11200.0</td>\n      <td>11200.0</td>\n      <td>11164.159885</td>\n      <td>36</td>\n      <td>3.23</td>\n      <td>378.62</td>\n      <td>C</td>\n      <td>C1</td>\n      <td>...</td>\n      <td>NaN</td>\n      <td>Jan</td>\n      <td>2016.0</td>\n      <td>0.0</td>\n      <td>1.0</td>\n      <td>INDIVIDUAL</td>\n      <td>0.0</td>\n      <td>NaN</td>\n      <td>NaN</td>\n      <td>NaN</td>\n    </tr>\n    <tr>\n      <th>11</th>\n      <td>526784</td>\n      <td>681457</td>\n      <td>11200.0</td>\n      <td>11200.0</td>\n      <td>11164.159885</td>\n      <td>36</td>\n      <td>3.23</td>\n      <td>378.62</td>\n      <td>C</td>\n      <td>C1</td>\n      <td>...</td>\n      <td>NaN</td>\n      <td>Jan</td>\n      <td>2016.0</td>\n      <td>0.0</td>\n      <td>1.0</td>\n      <td>INDIVIDUAL</td>\n      <td>0.0</td>\n      <td>NaN</td>\n      <td>NaN</td>\n      <td>NaN</td>\n    </tr>\n    <tr>\n      <th>50</th>\n      <td>558201</td>\n      <td>718601</td>\n      <td>7200.0</td>\n      <td>7200.0</td>\n      <td>7150.000000</td>\n      <td>60</td>\n      <td>7.56</td>\n      <td>181.12</td>\n      <td>E</td>\n      <td>E4</td>\n      <td>...</td>\n      <td>NaN</td>\n      <td>Feb</td>\n      <td>2015.0</td>\n      <td>0.0</td>\n      <td>1.0</td>\n      <td>INDIVIDUAL</td>\n      <td>0.0</td>\n      <td>NaN</td>\n      <td>NaN</td>\n      <td>NaN</td>\n    </tr>\n    <tr>\n      <th>...</th>\n      <td>...</td>\n      <td>...</td>\n      <td>...</td>\n      <td>...</td>\n      <td>...</td>\n      <td>...</td>\n      <td>...</td>\n      <td>...</td>\n      <td>...</td>\n      <td>...</td>\n      <td>...</td>\n      <td>...</td>\n      <td>...</td>\n      <td>...</td>\n      <td>...</td>\n      <td>...</td>\n      <td>...</td>\n      <td>...</td>\n      <td>...</td>\n      <td>...</td>\n      <td>...</td>\n    </tr>\n    <tr>\n      <th>53</th>\n      <td>67325141</td>\n      <td>72126853</td>\n      <td>28800.0</td>\n      <td>28800.0</td>\n      <td>28800.000000</td>\n      <td>60</td>\n      <td>0.64</td>\n      <td>621.03</td>\n      <td>B</td>\n      <td>B4</td>\n      <td>...</td>\n      <td>2016.0</td>\n      <td>Jan</td>\n      <td>2016.0</td>\n      <td>0.0</td>\n      <td>1.0</td>\n      <td>INDIVIDUAL</td>\n      <td>0.0</td>\n      <td>0.0</td>\n      <td>292439.0</td>\n      <td>36100.0</td>\n    </tr>\n    <tr>\n      <th>61</th>\n      <td>67367721</td>\n      <td>72179492</td>\n      <td>3000.0</td>\n      <td>3000.0</td>\n      <td>3000.000000</td>\n      <td>36</td>\n      <td>7.57</td>\n      <td>107.82</td>\n      <td>D</td>\n      <td>D4</td>\n      <td>...</td>\n      <td>2016.0</td>\n      <td>Jan</td>\n      <td>2016.0</td>\n      <td>0.0</td>\n      <td>1.0</td>\n      <td>INDIVIDUAL</td>\n      <td>0.0</td>\n      <td>0.0</td>\n      <td>101900.0</td>\n      <td>15300.0</td>\n    </tr>\n    <tr>\n      <th>50061</th>\n      <td>67367721</td>\n      <td>72179492</td>\n      <td>3000.0</td>\n      <td>3000.0</td>\n      <td>3000.000000</td>\n      <td>36</td>\n      <td>7.57</td>\n      <td>107.82</td>\n      <td>D</td>\n      <td>D4</td>\n      <td>...</td>\n      <td>2016.0</td>\n      <td>Jan</td>\n      <td>2016.0</td>\n      <td>0.0</td>\n      <td>1.0</td>\n      <td>INDIVIDUAL</td>\n      <td>0.0</td>\n      <td>0.0</td>\n      <td>101900.0</td>\n      <td>15300.0</td>\n    </tr>\n    <tr>\n      <th>50034</th>\n      <td>67828497</td>\n      <td>72687218</td>\n      <td>5000.0</td>\n      <td>5000.0</td>\n      <td>5000.000000</td>\n      <td>36</td>\n      <td>-4.68</td>\n      <td>150.58</td>\n      <td>A</td>\n      <td>A1</td>\n      <td>...</td>\n      <td>2016.0</td>\n      <td>Jan</td>\n      <td>2016.0</td>\n      <td>0.0</td>\n      <td>1.0</td>\n      <td>INDIVIDUAL</td>\n      <td>0.0</td>\n      <td>0.0</td>\n      <td>45434.0</td>\n      <td>59700.0</td>\n    </tr>\n    <tr>\n      <th>34</th>\n      <td>67828497</td>\n      <td>72687218</td>\n      <td>5000.0</td>\n      <td>5000.0</td>\n      <td>5000.000000</td>\n      <td>36</td>\n      <td>-4.68</td>\n      <td>150.58</td>\n      <td>A</td>\n      <td>A1</td>\n      <td>...</td>\n      <td>2016.0</td>\n      <td>Jan</td>\n      <td>2016.0</td>\n      <td>0.0</td>\n      <td>1.0</td>\n      <td>INDIVIDUAL</td>\n      <td>0.0</td>\n      <td>0.0</td>\n      <td>45434.0</td>\n      <td>59700.0</td>\n    </tr>\n  </tbody>\n</table>\n<p>200 rows × 59 columns</p>\n</div>"
     },
     "execution_count": 5,
     "metadata": {},
     "output_type": "execute_result"
    }
   ],
   "source": [
    "# filter for all entries containing duplicated 'member_id' order by member_id\n",
    "df[df.duplicated(subset='member_id', keep=False)].sort_values(by='member_id')"
   ],
   "metadata": {
    "collapsed": false,
    "ExecuteTime": {
     "end_time": "2024-02-23T10:29:02.058783Z",
     "start_time": "2024-02-23T10:29:02.015897Z"
    }
   },
   "id": "d800f268a4df97d1",
   "execution_count": 5
  },
  {
   "cell_type": "markdown",
   "source": [
    "Additionally we can also check for rows where all variables are identical. This will return a boolean series where True indicates that the row is a duplicate of a previous row. We can then sum the number of True values to get the number of duplicates."
   ],
   "metadata": {
    "collapsed": false
   },
   "id": "636dc6c11b8a3c0f"
  },
  {
   "cell_type": "code",
   "outputs": [
    {
     "data": {
      "text/plain": "95"
     },
     "execution_count": 6,
     "metadata": {},
     "output_type": "execute_result"
    }
   ],
   "source": [
    "# show number of duplicates where all rows are equal\n",
    "df.duplicated().sum()"
   ],
   "metadata": {
    "collapsed": false,
    "ExecuteTime": {
     "end_time": "2024-02-23T10:29:02.194205Z",
     "start_time": "2024-02-23T10:29:02.029417Z"
    }
   },
   "id": "b5bc155d03b7e692",
   "execution_count": 6
  },
  {
   "cell_type": "markdown",
   "source": [
    "Looking at the output we can see that we indeed have 95 duplicated cases (here the duplicates are identified by rows that contain identical values for all variables). However, we have 200 rows with duplicated member IDs (Here we identify duplicates based on members IDs only). This means that we have some cases where the member ID is duplicated, but the other variables are not identical. This is a problem, as it indicates that we have some inconsistencies in the data. Now let's start by removing the rows where all variables are identical."
   ],
   "metadata": {
    "collapsed": false
   },
   "id": "78c5d60b7e80994e"
  },
  {
   "cell_type": "code",
   "outputs": [
    {
     "data": {
      "text/plain": "(50005, 59)"
     },
     "execution_count": 7,
     "metadata": {},
     "output_type": "execute_result"
    }
   ],
   "source": [
    "# remove duplicates\n",
    "df = df.drop_duplicates()\n",
    "df.shape"
   ],
   "metadata": {
    "collapsed": false,
    "ExecuteTime": {
     "end_time": "2024-02-23T10:29:02.348799Z",
     "start_time": "2024-02-23T10:29:02.122966Z"
    }
   },
   "id": "b6bb3cd863d4cba7",
   "execution_count": 7
  },
  {
   "cell_type": "markdown",
   "source": [
    "Now we can re-check if we still have duplicates in the member_id variable. As we can see in the output below this is indeed the case. The mistake seems to lie in the variable **installment** where we have differing values for the same case. This is likely a data error, as the variable **installment** should contain the monthly payment owed by the borrower. This means that the value 50000 is likely a mistake, as it is unlikely that a borrower would have to pay 50000 per month. We should therefore remove duplicated cases where installment have a very high value."
   ],
   "metadata": {
    "collapsed": false
   },
   "id": "9b486752263cded8"
  },
  {
   "cell_type": "code",
   "outputs": [
    {
     "data": {
      "text/plain": "          id_pk  member_id  loan_amnt  funded_amnt  funded_amnt_inv  term  \\\n50004   4536779    5779043    16000.0      16000.0          15950.0    36   \n4       4536779    5779043    16000.0      16000.0          15950.0    36   \n50002  18935279   21167968    20000.0      20000.0          20000.0    60   \n2      18935279   21167968    20000.0      20000.0          20000.0    60   \n50003  27580978   30084088    15000.0      15000.0          15000.0    36   \n3      27580978   30084088    15000.0      15000.0          15000.0    36   \n50000  55978502   59640239    14400.0      14400.0          14400.0    36   \n0      55978502   59640239    14400.0      14400.0          14400.0    36   \n50001  56141977   59803813    24550.0      24550.0          24550.0    36   \n1      56141977   59803813    24550.0      24550.0          24550.0    36   \n\n       int_rate  installment grade sub_grade  ... next_pymnt_year  \\\n50004     -1.10       508.06     A        A5  ...          2016.0   \n4         -1.10     50000.00     A        A5  ...          2016.0   \n50002      6.29       489.45     D        D2  ...          2016.0   \n2          6.29     50000.00     D        D2  ...          2016.0   \n50003     -3.97       456.54     A        A1  ...             NaN   \n3         -3.97     50000.00     A        A1  ...             NaN   \n50000      5.61       503.50     D        D1  ...          2016.0   \n0          5.61     50000.00     D        D1  ...          2016.0   \n50001      2.29       818.82     C        C1  ...          2016.0   \n1          2.29     50000.00     C        C1  ...          2016.0   \n\n       last_credit_pull_month last_credit_pull_year  \\\n50004                     Jan                2016.0   \n4                         Jan                2016.0   \n50002                     Jan                2016.0   \n2                         Jan                2016.0   \n50003                     Jan                2016.0   \n3                         Jan                2016.0   \n50000                     Jan                2016.0   \n0                         Jan                2016.0   \n50001                     Jan                2016.0   \n1                         Jan                2016.0   \n\n       collections_12_mths_ex_med policy_code application_type  \\\n50004                         0.0         1.0       INDIVIDUAL   \n4                             0.0         1.0       INDIVIDUAL   \n50002                         0.0         1.0       INDIVIDUAL   \n2                             0.0         1.0       INDIVIDUAL   \n50003                         0.0         1.0       INDIVIDUAL   \n3                             0.0         1.0       INDIVIDUAL   \n50000                         0.0         1.0       INDIVIDUAL   \n0                             0.0         1.0       INDIVIDUAL   \n50001                         0.0         1.0       INDIVIDUAL   \n1                             0.0         1.0       INDIVIDUAL   \n\n       acc_now_delinq tot_coll_amt tot_cur_bal total_rev_hi_lim  \n50004             0.0          0.0    355820.0          45600.0  \n4                 0.0          0.0    355820.0          45600.0  \n50002             0.0          0.0     35408.0          28300.0  \n2                 0.0          0.0     35408.0          28300.0  \n50003             0.0          0.0    146372.0          81600.0  \n3                 0.0          0.0    146372.0          81600.0  \n50000             0.0          0.0     15278.0          15000.0  \n0                 0.0          0.0     15278.0          15000.0  \n50001             0.0          0.0    163368.0          41400.0  \n1                 0.0          0.0    163368.0          41400.0  \n\n[10 rows x 59 columns]",
      "text/html": "<div>\n<style scoped>\n    .dataframe tbody tr th:only-of-type {\n        vertical-align: middle;\n    }\n\n    .dataframe tbody tr th {\n        vertical-align: top;\n    }\n\n    .dataframe thead th {\n        text-align: right;\n    }\n</style>\n<table border=\"1\" class=\"dataframe\">\n  <thead>\n    <tr style=\"text-align: right;\">\n      <th></th>\n      <th>id_pk</th>\n      <th>member_id</th>\n      <th>loan_amnt</th>\n      <th>funded_amnt</th>\n      <th>funded_amnt_inv</th>\n      <th>term</th>\n      <th>int_rate</th>\n      <th>installment</th>\n      <th>grade</th>\n      <th>sub_grade</th>\n      <th>...</th>\n      <th>next_pymnt_year</th>\n      <th>last_credit_pull_month</th>\n      <th>last_credit_pull_year</th>\n      <th>collections_12_mths_ex_med</th>\n      <th>policy_code</th>\n      <th>application_type</th>\n      <th>acc_now_delinq</th>\n      <th>tot_coll_amt</th>\n      <th>tot_cur_bal</th>\n      <th>total_rev_hi_lim</th>\n    </tr>\n  </thead>\n  <tbody>\n    <tr>\n      <th>50004</th>\n      <td>4536779</td>\n      <td>5779043</td>\n      <td>16000.0</td>\n      <td>16000.0</td>\n      <td>15950.0</td>\n      <td>36</td>\n      <td>-1.10</td>\n      <td>508.06</td>\n      <td>A</td>\n      <td>A5</td>\n      <td>...</td>\n      <td>2016.0</td>\n      <td>Jan</td>\n      <td>2016.0</td>\n      <td>0.0</td>\n      <td>1.0</td>\n      <td>INDIVIDUAL</td>\n      <td>0.0</td>\n      <td>0.0</td>\n      <td>355820.0</td>\n      <td>45600.0</td>\n    </tr>\n    <tr>\n      <th>4</th>\n      <td>4536779</td>\n      <td>5779043</td>\n      <td>16000.0</td>\n      <td>16000.0</td>\n      <td>15950.0</td>\n      <td>36</td>\n      <td>-1.10</td>\n      <td>50000.00</td>\n      <td>A</td>\n      <td>A5</td>\n      <td>...</td>\n      <td>2016.0</td>\n      <td>Jan</td>\n      <td>2016.0</td>\n      <td>0.0</td>\n      <td>1.0</td>\n      <td>INDIVIDUAL</td>\n      <td>0.0</td>\n      <td>0.0</td>\n      <td>355820.0</td>\n      <td>45600.0</td>\n    </tr>\n    <tr>\n      <th>50002</th>\n      <td>18935279</td>\n      <td>21167968</td>\n      <td>20000.0</td>\n      <td>20000.0</td>\n      <td>20000.0</td>\n      <td>60</td>\n      <td>6.29</td>\n      <td>489.45</td>\n      <td>D</td>\n      <td>D2</td>\n      <td>...</td>\n      <td>2016.0</td>\n      <td>Jan</td>\n      <td>2016.0</td>\n      <td>0.0</td>\n      <td>1.0</td>\n      <td>INDIVIDUAL</td>\n      <td>0.0</td>\n      <td>0.0</td>\n      <td>35408.0</td>\n      <td>28300.0</td>\n    </tr>\n    <tr>\n      <th>2</th>\n      <td>18935279</td>\n      <td>21167968</td>\n      <td>20000.0</td>\n      <td>20000.0</td>\n      <td>20000.0</td>\n      <td>60</td>\n      <td>6.29</td>\n      <td>50000.00</td>\n      <td>D</td>\n      <td>D2</td>\n      <td>...</td>\n      <td>2016.0</td>\n      <td>Jan</td>\n      <td>2016.0</td>\n      <td>0.0</td>\n      <td>1.0</td>\n      <td>INDIVIDUAL</td>\n      <td>0.0</td>\n      <td>0.0</td>\n      <td>35408.0</td>\n      <td>28300.0</td>\n    </tr>\n    <tr>\n      <th>50003</th>\n      <td>27580978</td>\n      <td>30084088</td>\n      <td>15000.0</td>\n      <td>15000.0</td>\n      <td>15000.0</td>\n      <td>36</td>\n      <td>-3.97</td>\n      <td>456.54</td>\n      <td>A</td>\n      <td>A1</td>\n      <td>...</td>\n      <td>NaN</td>\n      <td>Jan</td>\n      <td>2016.0</td>\n      <td>0.0</td>\n      <td>1.0</td>\n      <td>INDIVIDUAL</td>\n      <td>0.0</td>\n      <td>0.0</td>\n      <td>146372.0</td>\n      <td>81600.0</td>\n    </tr>\n    <tr>\n      <th>3</th>\n      <td>27580978</td>\n      <td>30084088</td>\n      <td>15000.0</td>\n      <td>15000.0</td>\n      <td>15000.0</td>\n      <td>36</td>\n      <td>-3.97</td>\n      <td>50000.00</td>\n      <td>A</td>\n      <td>A1</td>\n      <td>...</td>\n      <td>NaN</td>\n      <td>Jan</td>\n      <td>2016.0</td>\n      <td>0.0</td>\n      <td>1.0</td>\n      <td>INDIVIDUAL</td>\n      <td>0.0</td>\n      <td>0.0</td>\n      <td>146372.0</td>\n      <td>81600.0</td>\n    </tr>\n    <tr>\n      <th>50000</th>\n      <td>55978502</td>\n      <td>59640239</td>\n      <td>14400.0</td>\n      <td>14400.0</td>\n      <td>14400.0</td>\n      <td>36</td>\n      <td>5.61</td>\n      <td>503.50</td>\n      <td>D</td>\n      <td>D1</td>\n      <td>...</td>\n      <td>2016.0</td>\n      <td>Jan</td>\n      <td>2016.0</td>\n      <td>0.0</td>\n      <td>1.0</td>\n      <td>INDIVIDUAL</td>\n      <td>0.0</td>\n      <td>0.0</td>\n      <td>15278.0</td>\n      <td>15000.0</td>\n    </tr>\n    <tr>\n      <th>0</th>\n      <td>55978502</td>\n      <td>59640239</td>\n      <td>14400.0</td>\n      <td>14400.0</td>\n      <td>14400.0</td>\n      <td>36</td>\n      <td>5.61</td>\n      <td>50000.00</td>\n      <td>D</td>\n      <td>D1</td>\n      <td>...</td>\n      <td>2016.0</td>\n      <td>Jan</td>\n      <td>2016.0</td>\n      <td>0.0</td>\n      <td>1.0</td>\n      <td>INDIVIDUAL</td>\n      <td>0.0</td>\n      <td>0.0</td>\n      <td>15278.0</td>\n      <td>15000.0</td>\n    </tr>\n    <tr>\n      <th>50001</th>\n      <td>56141977</td>\n      <td>59803813</td>\n      <td>24550.0</td>\n      <td>24550.0</td>\n      <td>24550.0</td>\n      <td>36</td>\n      <td>2.29</td>\n      <td>818.82</td>\n      <td>C</td>\n      <td>C1</td>\n      <td>...</td>\n      <td>2016.0</td>\n      <td>Jan</td>\n      <td>2016.0</td>\n      <td>0.0</td>\n      <td>1.0</td>\n      <td>INDIVIDUAL</td>\n      <td>0.0</td>\n      <td>0.0</td>\n      <td>163368.0</td>\n      <td>41400.0</td>\n    </tr>\n    <tr>\n      <th>1</th>\n      <td>56141977</td>\n      <td>59803813</td>\n      <td>24550.0</td>\n      <td>24550.0</td>\n      <td>24550.0</td>\n      <td>36</td>\n      <td>2.29</td>\n      <td>50000.00</td>\n      <td>C</td>\n      <td>C1</td>\n      <td>...</td>\n      <td>2016.0</td>\n      <td>Jan</td>\n      <td>2016.0</td>\n      <td>0.0</td>\n      <td>1.0</td>\n      <td>INDIVIDUAL</td>\n      <td>0.0</td>\n      <td>0.0</td>\n      <td>163368.0</td>\n      <td>41400.0</td>\n    </tr>\n  </tbody>\n</table>\n<p>10 rows × 59 columns</p>\n</div>"
     },
     "execution_count": 8,
     "metadata": {},
     "output_type": "execute_result"
    }
   ],
   "source": [
    "# filter for all entries containing duplicated 'member_id' order by member_id and installment\n",
    "df[df.duplicated(subset='member_id', keep=False)].sort_values(by=['member_id', 'installment'])"
   ],
   "metadata": {
    "collapsed": false,
    "ExecuteTime": {
     "end_time": "2024-02-23T10:29:02.351482Z",
     "start_time": "2024-02-23T10:29:02.224991Z"
    }
   },
   "id": "2b2d63349de25492",
   "execution_count": 8
  },
  {
   "cell_type": "code",
   "outputs": [
    {
     "data": {
      "text/plain": "(0, 59)"
     },
     "execution_count": 9,
     "metadata": {},
     "output_type": "execute_result"
    }
   ],
   "source": [
    "# drop row contains duplicate member_id and installment differs, remove row with highest installment\n",
    "df = df.sort_values(by='installment', ascending=True).drop_duplicates(subset='member_id', keep='first')\n",
    "# check if all duplicates in member_id are removed\n",
    "df[df.duplicated(subset='member_id', keep=False)].shape"
   ],
   "metadata": {
    "collapsed": false,
    "ExecuteTime": {
     "end_time": "2024-02-23T10:29:02.416456Z",
     "start_time": "2024-02-23T10:29:02.238954Z"
    }
   },
   "id": "254dc5b2bcecb4bb",
   "execution_count": 9
  },
  {
   "cell_type": "code",
   "outputs": [
    {
     "data": {
      "text/plain": "         id_pk  member_id  loan_amnt  funded_amnt  funded_amnt_inv  term  \\\n50004  4536779    5779043    16000.0      16000.0          15950.0    36   \n\n       int_rate  installment grade sub_grade  ... next_pymnt_year  \\\n50004      -1.1       508.06     A        A5  ...          2016.0   \n\n       last_credit_pull_month last_credit_pull_year  \\\n50004                     Jan                2016.0   \n\n       collections_12_mths_ex_med policy_code application_type  \\\n50004                         0.0         1.0       INDIVIDUAL   \n\n       acc_now_delinq tot_coll_amt tot_cur_bal total_rev_hi_lim  \n50004             0.0          0.0    355820.0          45600.0  \n\n[1 rows x 59 columns]",
      "text/html": "<div>\n<style scoped>\n    .dataframe tbody tr th:only-of-type {\n        vertical-align: middle;\n    }\n\n    .dataframe tbody tr th {\n        vertical-align: top;\n    }\n\n    .dataframe thead th {\n        text-align: right;\n    }\n</style>\n<table border=\"1\" class=\"dataframe\">\n  <thead>\n    <tr style=\"text-align: right;\">\n      <th></th>\n      <th>id_pk</th>\n      <th>member_id</th>\n      <th>loan_amnt</th>\n      <th>funded_amnt</th>\n      <th>funded_amnt_inv</th>\n      <th>term</th>\n      <th>int_rate</th>\n      <th>installment</th>\n      <th>grade</th>\n      <th>sub_grade</th>\n      <th>...</th>\n      <th>next_pymnt_year</th>\n      <th>last_credit_pull_month</th>\n      <th>last_credit_pull_year</th>\n      <th>collections_12_mths_ex_med</th>\n      <th>policy_code</th>\n      <th>application_type</th>\n      <th>acc_now_delinq</th>\n      <th>tot_coll_amt</th>\n      <th>tot_cur_bal</th>\n      <th>total_rev_hi_lim</th>\n    </tr>\n  </thead>\n  <tbody>\n    <tr>\n      <th>50004</th>\n      <td>4536779</td>\n      <td>5779043</td>\n      <td>16000.0</td>\n      <td>16000.0</td>\n      <td>15950.0</td>\n      <td>36</td>\n      <td>-1.1</td>\n      <td>508.06</td>\n      <td>A</td>\n      <td>A5</td>\n      <td>...</td>\n      <td>2016.0</td>\n      <td>Jan</td>\n      <td>2016.0</td>\n      <td>0.0</td>\n      <td>1.0</td>\n      <td>INDIVIDUAL</td>\n      <td>0.0</td>\n      <td>0.0</td>\n      <td>355820.0</td>\n      <td>45600.0</td>\n    </tr>\n  </tbody>\n</table>\n<p>1 rows × 59 columns</p>\n</div>"
     },
     "execution_count": 10,
     "metadata": {},
     "output_type": "execute_result"
    }
   ],
   "source": [
    "# show row for member id 5779043\n",
    "df[df['member_id'] == 5779043]"
   ],
   "metadata": {
    "collapsed": false,
    "ExecuteTime": {
     "end_time": "2024-02-23T10:29:02.417875Z",
     "start_time": "2024-02-23T10:29:02.278600Z"
    }
   },
   "id": "bb6b2aa6842f6150",
   "execution_count": 10
  },
  {
   "cell_type": "markdown",
   "source": [
    "## 1.1.2. Inconsistencies\n",
    "* Inconsistencies in Class Variables\n",
    "* Data Types"
   ],
   "metadata": {
    "collapsed": false
   },
   "id": "1d4d90b061b1d593"
  },
  {
   "cell_type": "markdown",
   "source": [
    "# 1.2. Analyze Completeness\n",
    "## 1.2.1. Missing Values"
   ],
   "metadata": {
    "collapsed": false
   },
   "id": "933e5392ac18ca76"
  },
  {
   "cell_type": "markdown",
   "source": [
    "# 1.3. Analyze Accuracy\n",
    "## 1.3.1. Data Types and Formats\n",
    "Another problem identified in the data are that at the moment dates are split into years and month. This becomes first visible when looking at the variables **issue_year** and **issue_month** as an example. Since we only have observations for 2015, this means that the **issue_year** variable by itself does not provide any useful information (no variation) in future analytical applications. Only in combination with the month, does the year provide useful information."
   ],
   "metadata": {
    "collapsed": false
   },
   "id": "5556b73716ef8f26"
  },
  {
   "cell_type": "code",
   "outputs": [
    {
     "data": {
      "text/plain": "<Axes: xlabel='issue_year', ylabel='count'>"
     },
     "execution_count": 11,
     "metadata": {},
     "output_type": "execute_result"
    }
   ],
   "source": [
    "# show distribution of issue_year\n",
    "sns.countplot(data=df, x='issue_year')"
   ],
   "metadata": {
    "collapsed": false,
    "ExecuteTime": {
     "end_time": "2024-02-23T10:29:02.418837Z",
     "start_time": "2024-02-23T10:29:02.288198Z"
    }
   },
   "id": "7cce854e3690e96a",
   "execution_count": 11
  },
  {
   "cell_type": "markdown",
   "source": [
    "Contrary to **issue_year* the variable **issue_month** does show some variation, as shown in the plot below."
   ],
   "metadata": {
    "collapsed": false
   },
   "id": "f9fb2394a7855929"
  },
  {
   "cell_type": "code",
   "outputs": [
    {
     "data": {
      "text/plain": "<Axes: xlabel='issue_month', ylabel='count'>"
     },
     "execution_count": 12,
     "metadata": {},
     "output_type": "execute_result"
    }
   ],
   "source": [
    "# show distribution of issue_month\n",
    "sns.countplot(data=df, x='issue_month')"
   ],
   "metadata": {
    "collapsed": false,
    "ExecuteTime": {
     "end_time": "2024-02-23T10:29:02.419599Z",
     "start_time": "2024-02-23T10:29:02.312536Z"
    }
   },
   "id": "ecfa84b0edae86d9",
   "execution_count": 12
  },
  {
   "cell_type": "markdown",
   "source": [
    "However, we also see that *October* was misspelled as *Octxyz*. We can fix this by replacing the misspelled value with the correct one."
   ],
   "metadata": {
    "collapsed": false
   },
   "id": "7680cf2f1ae194ed"
  },
  {
   "cell_type": "code",
   "outputs": [
    {
     "data": {
      "text/plain": "array(['Nov', 'Oct', 'Jan', 'Aug', 'Feb', 'Jun', 'Dec', 'Apr', 'Mar',\n       'Sep', 'May', 'Jul'], dtype=object)"
     },
     "execution_count": 13,
     "metadata": {},
     "output_type": "execute_result"
    }
   ],
   "source": [
    "# replace misspelled value\n",
    "df['issue_month'] = df['issue_month'].replace('Octxyz', 'Oct')\n",
    "df['issue_month'].unique()"
   ],
   "metadata": {
    "collapsed": false,
    "ExecuteTime": {
     "end_time": "2024-02-23T10:29:02.420169Z",
     "start_time": "2024-02-23T10:29:02.331205Z"
    }
   },
   "id": "5d438cab282b2fe0",
   "execution_count": 13
  },
  {
   "cell_type": "markdown",
   "source": [
    "To remedy the fact that issue_year contains no variation, but we still would like to know the year, we can create a new variable that combines the year and month into a single variable. This will allow us to keep the information about the year, but also the month. The same transformation can be applied to the other time variables in the dataset (earliest_cr_line_month, earliest_cr_line_year, last_pymnt_month, last_pymnt_year, next_pymnt_month, next_pymnt_year, last_credit_pull_month, last_credit_pull_year)."
   ],
   "metadata": {
    "collapsed": false
   },
   "id": "6fada4de09e0116"
  },
  {
   "cell_type": "code",
   "outputs": [
    {
     "data": {
      "text/plain": "34866   2015-11-01\n2735    2015-10-01\n40836   2015-01-01\n21990   2015-08-01\n4759    2015-10-01\nName: issue_date, dtype: datetime64[ns]"
     },
     "execution_count": 14,
     "metadata": {},
     "output_type": "execute_result"
    }
   ],
   "source": [
    "# create new variable issue_date with data type datetime\n",
    "df['issue_date'] = pd.to_datetime(df['issue_year'].astype(str) + '-' + df['issue_month'], format='%Y-%b')\n",
    "\n",
    "# drop issue_year and issue_month\n",
    "df = df.drop(columns=['issue_year', 'issue_month'])\n",
    "\n",
    "# show first 5 rows\n",
    "df['issue_date'].head(5)"
   ],
   "metadata": {
    "collapsed": false,
    "ExecuteTime": {
     "end_time": "2024-02-23T10:29:02.460470Z",
     "start_time": "2024-02-23T10:29:02.350164Z"
    }
   },
   "id": "c92e13b93994d807",
   "execution_count": 14
  },
  {
   "cell_type": "markdown",
   "source": [
    "# 1.4. Text Issues"
   ],
   "metadata": {
    "collapsed": false
   },
   "id": "3046156b5763465a"
  },
  {
   "cell_type": "markdown",
   "source": [
    "# 1.5. Data Protection\n",
    "We might want to encrypt some variables that contain sensitive information, such as the url. This is because the url might contain information that could be used to identify the borrower. We can do this by replacing the url with a hash value.\n",
    "\n",
    "In the case that we need to be able to convert the data back to its original form, we should use encryption instead of hashing. With encryption we would be able to use a key to decrypt the encrypted data."
   ],
   "metadata": {
    "collapsed": false
   },
   "id": "166480d247dfa39a"
  },
  {
   "cell_type": "code",
   "outputs": [],
   "source": [
    "# encrypt url\n",
    "df['url'] = df['url'].apply(lambda x: hash(x))"
   ],
   "metadata": {
    "collapsed": false,
    "ExecuteTime": {
     "end_time": "2024-02-23T10:29:02.476405Z",
     "start_time": "2024-02-23T10:29:02.374006Z"
    }
   },
   "id": "f28bd958d71ba9fa",
   "execution_count": 15
  }
 ],
 "metadata": {
  "kernelspec": {
   "display_name": "Python 3",
   "language": "python",
   "name": "python3"
  },
  "language_info": {
   "codemirror_mode": {
    "name": "ipython",
    "version": 2
   },
   "file_extension": ".py",
   "mimetype": "text/x-python",
   "name": "python",
   "nbconvert_exporter": "python",
   "pygments_lexer": "ipython2",
   "version": "2.7.6"
  }
 },
 "nbformat": 4,
 "nbformat_minor": 5
}
