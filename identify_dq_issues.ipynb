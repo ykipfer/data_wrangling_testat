{
 "cells": [
  {
   "cell_type": "markdown",
   "source": [
    "# Data Profiling\n",
    "# 0. Set up"
   ],
   "metadata": {
    "collapsed": false
   },
   "id": "be0a4b52308b2400"
  },
  {
   "cell_type": "code",
   "outputs": [
    {
     "data": {
      "text/plain": "(50100, 60)"
     },
     "execution_count": 92,
     "metadata": {},
     "output_type": "execute_result"
    }
   ],
   "source": [
    "# import libraries\n",
    "%matplotlib inline\n",
    "import pandas as pd\n",
    "import seaborn as sns\n",
    "from cryptography.fernet import Fernet\n",
    "from thefuzz import fuzz,process\n",
    "\n",
    "\n",
    "# load data\n",
    "df = pd.read_csv('input/dirty-loan-data.csv')\n",
    "df.shape"
   ],
   "metadata": {
    "collapsed": false,
    "ExecuteTime": {
     "end_time": "2024-02-29T11:56:42.847537Z",
     "start_time": "2024-02-29T11:56:42.613750Z"
    }
   },
   "id": "802709ee2fc9ef00",
   "execution_count": 92
  },
  {
   "cell_type": "code",
   "outputs": [
    {
     "data": {
      "text/plain": "   Unnamed: 0     id_pk  member_id  loan_amnt  funded_amnt  funded_amnt_inv  \\\n0           0  55978502   59640239    14400.0      14400.0          14400.0   \n1           1  56141977   59803813    24550.0      24550.0          24550.0   \n2           2  18935279   21167968    20000.0      20000.0          20000.0   \n3           3  27580978   30084088    15000.0      15000.0          15000.0   \n4           4   4536779    5779043    16000.0      16000.0          15950.0   \n\n   term  int_rate  installment grade  ... next_pymnt_year  \\\n0    36      5.61      50000.0     D  ...          2016.0   \n1    36      2.29      50000.0     C  ...          2016.0   \n2    60      6.29      50000.0     D  ...          2016.0   \n3    36     -3.97      50000.0     A  ...             NaN   \n4    36     -1.10      50000.0     A  ...          2016.0   \n\n  last_credit_pull_month  last_credit_pull_year collections_12_mths_ex_med  \\\n0                    Jan                 2016.0                        0.0   \n1                    Jan                 2016.0                        0.0   \n2                    Jan                 2016.0                        0.0   \n3                    Jan                 2016.0                        0.0   \n4                    Jan                 2016.0                        0.0   \n\n   policy_code application_type acc_now_delinq  tot_coll_amt tot_cur_bal  \\\n0          1.0       INDIVIDUAL            0.0           0.0     15278.0   \n1          1.0       INDIVIDUAL            0.0           0.0    163368.0   \n2          1.0       INDIVIDUAL            0.0           0.0     35408.0   \n3          1.0       INDIVIDUAL            0.0           0.0    146372.0   \n4          1.0       INDIVIDUAL            0.0           0.0    355820.0   \n\n  total_rev_hi_lim  \n0          15000.0  \n1          41400.0  \n2          28300.0  \n3          81600.0  \n4          45600.0  \n\n[5 rows x 60 columns]",
      "text/html": "<div>\n<style scoped>\n    .dataframe tbody tr th:only-of-type {\n        vertical-align: middle;\n    }\n\n    .dataframe tbody tr th {\n        vertical-align: top;\n    }\n\n    .dataframe thead th {\n        text-align: right;\n    }\n</style>\n<table border=\"1\" class=\"dataframe\">\n  <thead>\n    <tr style=\"text-align: right;\">\n      <th></th>\n      <th>Unnamed: 0</th>\n      <th>id_pk</th>\n      <th>member_id</th>\n      <th>loan_amnt</th>\n      <th>funded_amnt</th>\n      <th>funded_amnt_inv</th>\n      <th>term</th>\n      <th>int_rate</th>\n      <th>installment</th>\n      <th>grade</th>\n      <th>...</th>\n      <th>next_pymnt_year</th>\n      <th>last_credit_pull_month</th>\n      <th>last_credit_pull_year</th>\n      <th>collections_12_mths_ex_med</th>\n      <th>policy_code</th>\n      <th>application_type</th>\n      <th>acc_now_delinq</th>\n      <th>tot_coll_amt</th>\n      <th>tot_cur_bal</th>\n      <th>total_rev_hi_lim</th>\n    </tr>\n  </thead>\n  <tbody>\n    <tr>\n      <th>0</th>\n      <td>0</td>\n      <td>55978502</td>\n      <td>59640239</td>\n      <td>14400.0</td>\n      <td>14400.0</td>\n      <td>14400.0</td>\n      <td>36</td>\n      <td>5.61</td>\n      <td>50000.0</td>\n      <td>D</td>\n      <td>...</td>\n      <td>2016.0</td>\n      <td>Jan</td>\n      <td>2016.0</td>\n      <td>0.0</td>\n      <td>1.0</td>\n      <td>INDIVIDUAL</td>\n      <td>0.0</td>\n      <td>0.0</td>\n      <td>15278.0</td>\n      <td>15000.0</td>\n    </tr>\n    <tr>\n      <th>1</th>\n      <td>1</td>\n      <td>56141977</td>\n      <td>59803813</td>\n      <td>24550.0</td>\n      <td>24550.0</td>\n      <td>24550.0</td>\n      <td>36</td>\n      <td>2.29</td>\n      <td>50000.0</td>\n      <td>C</td>\n      <td>...</td>\n      <td>2016.0</td>\n      <td>Jan</td>\n      <td>2016.0</td>\n      <td>0.0</td>\n      <td>1.0</td>\n      <td>INDIVIDUAL</td>\n      <td>0.0</td>\n      <td>0.0</td>\n      <td>163368.0</td>\n      <td>41400.0</td>\n    </tr>\n    <tr>\n      <th>2</th>\n      <td>2</td>\n      <td>18935279</td>\n      <td>21167968</td>\n      <td>20000.0</td>\n      <td>20000.0</td>\n      <td>20000.0</td>\n      <td>60</td>\n      <td>6.29</td>\n      <td>50000.0</td>\n      <td>D</td>\n      <td>...</td>\n      <td>2016.0</td>\n      <td>Jan</td>\n      <td>2016.0</td>\n      <td>0.0</td>\n      <td>1.0</td>\n      <td>INDIVIDUAL</td>\n      <td>0.0</td>\n      <td>0.0</td>\n      <td>35408.0</td>\n      <td>28300.0</td>\n    </tr>\n    <tr>\n      <th>3</th>\n      <td>3</td>\n      <td>27580978</td>\n      <td>30084088</td>\n      <td>15000.0</td>\n      <td>15000.0</td>\n      <td>15000.0</td>\n      <td>36</td>\n      <td>-3.97</td>\n      <td>50000.0</td>\n      <td>A</td>\n      <td>...</td>\n      <td>NaN</td>\n      <td>Jan</td>\n      <td>2016.0</td>\n      <td>0.0</td>\n      <td>1.0</td>\n      <td>INDIVIDUAL</td>\n      <td>0.0</td>\n      <td>0.0</td>\n      <td>146372.0</td>\n      <td>81600.0</td>\n    </tr>\n    <tr>\n      <th>4</th>\n      <td>4</td>\n      <td>4536779</td>\n      <td>5779043</td>\n      <td>16000.0</td>\n      <td>16000.0</td>\n      <td>15950.0</td>\n      <td>36</td>\n      <td>-1.10</td>\n      <td>50000.0</td>\n      <td>A</td>\n      <td>...</td>\n      <td>2016.0</td>\n      <td>Jan</td>\n      <td>2016.0</td>\n      <td>0.0</td>\n      <td>1.0</td>\n      <td>INDIVIDUAL</td>\n      <td>0.0</td>\n      <td>0.0</td>\n      <td>355820.0</td>\n      <td>45600.0</td>\n    </tr>\n  </tbody>\n</table>\n<p>5 rows × 60 columns</p>\n</div>"
     },
     "execution_count": 93,
     "metadata": {},
     "output_type": "execute_result"
    }
   ],
   "source": [
    "df.head(5)"
   ],
   "metadata": {
    "collapsed": false,
    "ExecuteTime": {
     "end_time": "2024-02-29T11:56:42.857456Z",
     "start_time": "2024-02-29T11:56:42.849292Z"
    }
   },
   "id": "99b119897fba79a3",
   "execution_count": 93
  },
  {
   "cell_type": "markdown",
   "source": [
    "# 1. Create Data Profile"
   ],
   "metadata": {
    "collapsed": false
   },
   "id": "730a9f94e412aa68"
  },
  {
   "cell_type": "code",
   "outputs": [
    {
     "data": {
      "text/plain": "Summarize dataset:   0%|          | 0/5 [00:00<?, ?it/s]",
      "application/vnd.jupyter.widget-view+json": {
       "version_major": 2,
       "version_minor": 0,
       "model_id": "9dcdda7447454c38859e6ed222a1fc19"
      }
     },
     "metadata": {},
     "output_type": "display_data"
    },
    {
     "data": {
      "text/plain": "Generate report structure:   0%|          | 0/1 [00:00<?, ?it/s]",
      "application/vnd.jupyter.widget-view+json": {
       "version_major": 2,
       "version_minor": 0,
       "model_id": "784c5ab6a1934cb39e0f0630e014f74a"
      }
     },
     "metadata": {},
     "output_type": "display_data"
    },
    {
     "data": {
      "text/plain": "Render HTML:   0%|          | 0/1 [00:00<?, ?it/s]",
      "application/vnd.jupyter.widget-view+json": {
       "version_major": 2,
       "version_minor": 0,
       "model_id": "0ac590cecc11494b9ac3e6f233ade563"
      }
     },
     "metadata": {},
     "output_type": "display_data"
    },
    {
     "data": {
      "text/plain": "Export report to file:   0%|          | 0/1 [00:00<?, ?it/s]",
      "application/vnd.jupyter.widget-view+json": {
       "version_major": 2,
       "version_minor": 0,
       "model_id": "ffd91457ad2148889f156b4d0ff74215"
      }
     },
     "metadata": {},
     "output_type": "display_data"
    }
   ],
   "source": [
    "from ydata_profiling import ProfileReport\n",
    "\n",
    "profile = ProfileReport(df, title='Loan Dataset Profiling Report', minimal=True)\n",
    "profile.to_file(output_file='output/profile/loan_data_profile.html')"
   ],
   "metadata": {
    "collapsed": false,
    "ExecuteTime": {
     "end_time": "2024-02-29T11:56:54.386760Z",
     "start_time": "2024-02-29T11:56:42.858322Z"
    }
   },
   "id": "577b2e5b90bc7b1f",
   "execution_count": 94
  },
  {
   "cell_type": "markdown",
   "source": [
    "# 1.1. Analyze Completeness\n",
    "## 1.1.1. Missing Data"
   ],
   "metadata": {
    "collapsed": false
   },
   "id": "349969694b2491f7"
  },
  {
   "cell_type": "markdown",
   "source": [
    "# 1.2. Analyze Integrity\n",
    "## 1.2.1. Duplicates\n",
    "To identify duplicates the first step is to remove the first column, which simply contains a row index. If we do not remove this column, the profiling will identify no rows as duplicates."
   ],
   "metadata": {
    "collapsed": false
   },
   "id": "e16f2d8fef3a41de"
  },
  {
   "cell_type": "code",
   "outputs": [],
   "source": [
    "# drop first column\n",
    "df = df.drop(columns='Unnamed: 0')"
   ],
   "metadata": {
    "collapsed": false,
    "ExecuteTime": {
     "end_time": "2024-02-29T11:56:54.396725Z",
     "start_time": "2024-02-29T11:56:54.388203Z"
    }
   },
   "id": "c9a29f51cbd30454",
   "execution_count": 95
  },
  {
   "cell_type": "markdown",
   "source": [
    "Looking at the output generated by the profiling, the first obvious problem is that the ID variables (**id_pk**, **id_member**) do not seem to be unique. This might be due to duplicated entries in the dataset. We can check this by filtering for all entries containing duplicated 'member_id' and order by 'member_id'."
   ],
   "metadata": {
    "collapsed": false
   },
   "id": "249c66cdc8def22f"
  },
  {
   "cell_type": "code",
   "outputs": [
    {
     "data": {
      "text/plain": "          id_pk  member_id  loan_amnt  funded_amnt  funded_amnt_inv  term  \\\n50023    435307     520078     7000.0       7000.0      7000.000000    36   \n23       435307     520078     7000.0       7000.0      7000.000000    36   \n50011    526784     681457    11200.0      11200.0     11164.159885    36   \n11       526784     681457    11200.0      11200.0     11164.159885    36   \n50       558201     718601     7200.0       7200.0      7150.000000    60   \n...         ...        ...        ...          ...              ...   ...   \n53     67325141   72126853    28800.0      28800.0     28800.000000    60   \n61     67367721   72179492     3000.0       3000.0      3000.000000    36   \n50061  67367721   72179492     3000.0       3000.0      3000.000000    36   \n50034  67828497   72687218     5000.0       5000.0      5000.000000    36   \n34     67828497   72687218     5000.0       5000.0      5000.000000    36   \n\n       int_rate  installment grade sub_grade  ... next_pymnt_year  \\\n50023      4.96       242.52     D        D2  ...             NaN   \n23         4.96       242.52     D        D2  ...             NaN   \n50011      3.23       378.62     C        C1  ...             NaN   \n11         3.23       378.62     C        C1  ...             NaN   \n50         7.56       181.12     E        E4  ...             NaN   \n...         ...          ...   ...       ...  ...             ...   \n53         0.64       621.03     B        B4  ...          2016.0   \n61         7.57       107.82     D        D4  ...          2016.0   \n50061      7.57       107.82     D        D4  ...          2016.0   \n50034     -4.68       150.58     A        A1  ...          2016.0   \n34        -4.68       150.58     A        A1  ...          2016.0   \n\n       last_credit_pull_month last_credit_pull_year  \\\n50023                     Jul                2015.0   \n23                        Jul                2015.0   \n50011                     Jan                2016.0   \n11                        Jan                2016.0   \n50                        Feb                2015.0   \n...                       ...                   ...   \n53                        Jan                2016.0   \n61                        Jan                2016.0   \n50061                     Jan                2016.0   \n50034                     Jan                2016.0   \n34                        Jan                2016.0   \n\n       collections_12_mths_ex_med policy_code application_type  \\\n50023                         0.0         1.0       INDIVIDUAL   \n23                            0.0         1.0       INDIVIDUAL   \n50011                         0.0         1.0       INDIVIDUAL   \n11                            0.0         1.0       INDIVIDUAL   \n50                            0.0         1.0       INDIVIDUAL   \n...                           ...         ...              ...   \n53                            0.0         1.0       INDIVIDUAL   \n61                            0.0         1.0       INDIVIDUAL   \n50061                         0.0         1.0       INDIVIDUAL   \n50034                         0.0         1.0       INDIVIDUAL   \n34                            0.0         1.0       INDIVIDUAL   \n\n       acc_now_delinq tot_coll_amt tot_cur_bal total_rev_hi_lim  \n50023             0.0          NaN         NaN              NaN  \n23                0.0          NaN         NaN              NaN  \n50011             0.0          NaN         NaN              NaN  \n11                0.0          NaN         NaN              NaN  \n50                0.0          NaN         NaN              NaN  \n...               ...          ...         ...              ...  \n53                0.0          0.0    292439.0          36100.0  \n61                0.0          0.0    101900.0          15300.0  \n50061             0.0          0.0    101900.0          15300.0  \n50034             0.0          0.0     45434.0          59700.0  \n34                0.0          0.0     45434.0          59700.0  \n\n[200 rows x 59 columns]",
      "text/html": "<div>\n<style scoped>\n    .dataframe tbody tr th:only-of-type {\n        vertical-align: middle;\n    }\n\n    .dataframe tbody tr th {\n        vertical-align: top;\n    }\n\n    .dataframe thead th {\n        text-align: right;\n    }\n</style>\n<table border=\"1\" class=\"dataframe\">\n  <thead>\n    <tr style=\"text-align: right;\">\n      <th></th>\n      <th>id_pk</th>\n      <th>member_id</th>\n      <th>loan_amnt</th>\n      <th>funded_amnt</th>\n      <th>funded_amnt_inv</th>\n      <th>term</th>\n      <th>int_rate</th>\n      <th>installment</th>\n      <th>grade</th>\n      <th>sub_grade</th>\n      <th>...</th>\n      <th>next_pymnt_year</th>\n      <th>last_credit_pull_month</th>\n      <th>last_credit_pull_year</th>\n      <th>collections_12_mths_ex_med</th>\n      <th>policy_code</th>\n      <th>application_type</th>\n      <th>acc_now_delinq</th>\n      <th>tot_coll_amt</th>\n      <th>tot_cur_bal</th>\n      <th>total_rev_hi_lim</th>\n    </tr>\n  </thead>\n  <tbody>\n    <tr>\n      <th>50023</th>\n      <td>435307</td>\n      <td>520078</td>\n      <td>7000.0</td>\n      <td>7000.0</td>\n      <td>7000.000000</td>\n      <td>36</td>\n      <td>4.96</td>\n      <td>242.52</td>\n      <td>D</td>\n      <td>D2</td>\n      <td>...</td>\n      <td>NaN</td>\n      <td>Jul</td>\n      <td>2015.0</td>\n      <td>0.0</td>\n      <td>1.0</td>\n      <td>INDIVIDUAL</td>\n      <td>0.0</td>\n      <td>NaN</td>\n      <td>NaN</td>\n      <td>NaN</td>\n    </tr>\n    <tr>\n      <th>23</th>\n      <td>435307</td>\n      <td>520078</td>\n      <td>7000.0</td>\n      <td>7000.0</td>\n      <td>7000.000000</td>\n      <td>36</td>\n      <td>4.96</td>\n      <td>242.52</td>\n      <td>D</td>\n      <td>D2</td>\n      <td>...</td>\n      <td>NaN</td>\n      <td>Jul</td>\n      <td>2015.0</td>\n      <td>0.0</td>\n      <td>1.0</td>\n      <td>INDIVIDUAL</td>\n      <td>0.0</td>\n      <td>NaN</td>\n      <td>NaN</td>\n      <td>NaN</td>\n    </tr>\n    <tr>\n      <th>50011</th>\n      <td>526784</td>\n      <td>681457</td>\n      <td>11200.0</td>\n      <td>11200.0</td>\n      <td>11164.159885</td>\n      <td>36</td>\n      <td>3.23</td>\n      <td>378.62</td>\n      <td>C</td>\n      <td>C1</td>\n      <td>...</td>\n      <td>NaN</td>\n      <td>Jan</td>\n      <td>2016.0</td>\n      <td>0.0</td>\n      <td>1.0</td>\n      <td>INDIVIDUAL</td>\n      <td>0.0</td>\n      <td>NaN</td>\n      <td>NaN</td>\n      <td>NaN</td>\n    </tr>\n    <tr>\n      <th>11</th>\n      <td>526784</td>\n      <td>681457</td>\n      <td>11200.0</td>\n      <td>11200.0</td>\n      <td>11164.159885</td>\n      <td>36</td>\n      <td>3.23</td>\n      <td>378.62</td>\n      <td>C</td>\n      <td>C1</td>\n      <td>...</td>\n      <td>NaN</td>\n      <td>Jan</td>\n      <td>2016.0</td>\n      <td>0.0</td>\n      <td>1.0</td>\n      <td>INDIVIDUAL</td>\n      <td>0.0</td>\n      <td>NaN</td>\n      <td>NaN</td>\n      <td>NaN</td>\n    </tr>\n    <tr>\n      <th>50</th>\n      <td>558201</td>\n      <td>718601</td>\n      <td>7200.0</td>\n      <td>7200.0</td>\n      <td>7150.000000</td>\n      <td>60</td>\n      <td>7.56</td>\n      <td>181.12</td>\n      <td>E</td>\n      <td>E4</td>\n      <td>...</td>\n      <td>NaN</td>\n      <td>Feb</td>\n      <td>2015.0</td>\n      <td>0.0</td>\n      <td>1.0</td>\n      <td>INDIVIDUAL</td>\n      <td>0.0</td>\n      <td>NaN</td>\n      <td>NaN</td>\n      <td>NaN</td>\n    </tr>\n    <tr>\n      <th>...</th>\n      <td>...</td>\n      <td>...</td>\n      <td>...</td>\n      <td>...</td>\n      <td>...</td>\n      <td>...</td>\n      <td>...</td>\n      <td>...</td>\n      <td>...</td>\n      <td>...</td>\n      <td>...</td>\n      <td>...</td>\n      <td>...</td>\n      <td>...</td>\n      <td>...</td>\n      <td>...</td>\n      <td>...</td>\n      <td>...</td>\n      <td>...</td>\n      <td>...</td>\n      <td>...</td>\n    </tr>\n    <tr>\n      <th>53</th>\n      <td>67325141</td>\n      <td>72126853</td>\n      <td>28800.0</td>\n      <td>28800.0</td>\n      <td>28800.000000</td>\n      <td>60</td>\n      <td>0.64</td>\n      <td>621.03</td>\n      <td>B</td>\n      <td>B4</td>\n      <td>...</td>\n      <td>2016.0</td>\n      <td>Jan</td>\n      <td>2016.0</td>\n      <td>0.0</td>\n      <td>1.0</td>\n      <td>INDIVIDUAL</td>\n      <td>0.0</td>\n      <td>0.0</td>\n      <td>292439.0</td>\n      <td>36100.0</td>\n    </tr>\n    <tr>\n      <th>61</th>\n      <td>67367721</td>\n      <td>72179492</td>\n      <td>3000.0</td>\n      <td>3000.0</td>\n      <td>3000.000000</td>\n      <td>36</td>\n      <td>7.57</td>\n      <td>107.82</td>\n      <td>D</td>\n      <td>D4</td>\n      <td>...</td>\n      <td>2016.0</td>\n      <td>Jan</td>\n      <td>2016.0</td>\n      <td>0.0</td>\n      <td>1.0</td>\n      <td>INDIVIDUAL</td>\n      <td>0.0</td>\n      <td>0.0</td>\n      <td>101900.0</td>\n      <td>15300.0</td>\n    </tr>\n    <tr>\n      <th>50061</th>\n      <td>67367721</td>\n      <td>72179492</td>\n      <td>3000.0</td>\n      <td>3000.0</td>\n      <td>3000.000000</td>\n      <td>36</td>\n      <td>7.57</td>\n      <td>107.82</td>\n      <td>D</td>\n      <td>D4</td>\n      <td>...</td>\n      <td>2016.0</td>\n      <td>Jan</td>\n      <td>2016.0</td>\n      <td>0.0</td>\n      <td>1.0</td>\n      <td>INDIVIDUAL</td>\n      <td>0.0</td>\n      <td>0.0</td>\n      <td>101900.0</td>\n      <td>15300.0</td>\n    </tr>\n    <tr>\n      <th>50034</th>\n      <td>67828497</td>\n      <td>72687218</td>\n      <td>5000.0</td>\n      <td>5000.0</td>\n      <td>5000.000000</td>\n      <td>36</td>\n      <td>-4.68</td>\n      <td>150.58</td>\n      <td>A</td>\n      <td>A1</td>\n      <td>...</td>\n      <td>2016.0</td>\n      <td>Jan</td>\n      <td>2016.0</td>\n      <td>0.0</td>\n      <td>1.0</td>\n      <td>INDIVIDUAL</td>\n      <td>0.0</td>\n      <td>0.0</td>\n      <td>45434.0</td>\n      <td>59700.0</td>\n    </tr>\n    <tr>\n      <th>34</th>\n      <td>67828497</td>\n      <td>72687218</td>\n      <td>5000.0</td>\n      <td>5000.0</td>\n      <td>5000.000000</td>\n      <td>36</td>\n      <td>-4.68</td>\n      <td>150.58</td>\n      <td>A</td>\n      <td>A1</td>\n      <td>...</td>\n      <td>2016.0</td>\n      <td>Jan</td>\n      <td>2016.0</td>\n      <td>0.0</td>\n      <td>1.0</td>\n      <td>INDIVIDUAL</td>\n      <td>0.0</td>\n      <td>0.0</td>\n      <td>45434.0</td>\n      <td>59700.0</td>\n    </tr>\n  </tbody>\n</table>\n<p>200 rows × 59 columns</p>\n</div>"
     },
     "execution_count": 96,
     "metadata": {},
     "output_type": "execute_result"
    }
   ],
   "source": [
    "# filter for all entries containing duplicated 'member_id' order by member_id\n",
    "df[df.duplicated(subset='member_id', keep=False)].sort_values(by='member_id')"
   ],
   "metadata": {
    "collapsed": false,
    "ExecuteTime": {
     "end_time": "2024-02-29T11:56:54.408547Z",
     "start_time": "2024-02-29T11:56:54.397501Z"
    }
   },
   "id": "d800f268a4df97d1",
   "execution_count": 96
  },
  {
   "cell_type": "markdown",
   "source": [
    "Additionally we can also check for rows where all variables are identical. This will return a boolean series where True indicates that the row is a duplicate of a previous row. We can then sum the number of True values to get the number of duplicates."
   ],
   "metadata": {
    "collapsed": false
   },
   "id": "636dc6c11b8a3c0f"
  },
  {
   "cell_type": "code",
   "outputs": [
    {
     "data": {
      "text/plain": "95"
     },
     "execution_count": 97,
     "metadata": {},
     "output_type": "execute_result"
    }
   ],
   "source": [
    "# show number of duplicates where all rows are equal\n",
    "df.duplicated().sum()"
   ],
   "metadata": {
    "collapsed": false,
    "ExecuteTime": {
     "end_time": "2024-02-29T11:56:54.490373Z",
     "start_time": "2024-02-29T11:56:54.409273Z"
    }
   },
   "id": "b5bc155d03b7e692",
   "execution_count": 97
  },
  {
   "cell_type": "markdown",
   "source": [
    "Looking at the output we can see that we indeed have 95 duplicated cases (here the duplicates are identified by rows that contain identical values for all variables). However, we have 200 rows with duplicated member IDs (Here we identify duplicates based on members IDs only). This means that we have some cases where the member ID is duplicated, but the other variables are not identical. This is a problem, as it indicates that we have some inconsistencies in the data. Now let's start by removing the rows where all variables are identical."
   ],
   "metadata": {
    "collapsed": false
   },
   "id": "78c5d60b7e80994e"
  },
  {
   "cell_type": "code",
   "outputs": [
    {
     "data": {
      "text/plain": "(50005, 59)"
     },
     "execution_count": 98,
     "metadata": {},
     "output_type": "execute_result"
    }
   ],
   "source": [
    "# remove duplicates\n",
    "df = df.drop_duplicates()\n",
    "df.shape"
   ],
   "metadata": {
    "collapsed": false,
    "ExecuteTime": {
     "end_time": "2024-02-29T11:56:54.579993Z",
     "start_time": "2024-02-29T11:56:54.491929Z"
    }
   },
   "id": "b6bb3cd863d4cba7",
   "execution_count": 98
  },
  {
   "cell_type": "markdown",
   "source": [
    "Now we can re-check if we still have duplicates in the member_id variable. As we can see in the output below this is indeed the case. The mistake seems to lie in the variable **installment** where we have differing values for the same case. This is likely a data error, as the variable **installment** should contain the monthly payment owed by the borrower. This means that the value 50000 is likely a mistake, as it is unlikely that a borrower would have to pay 50'000 per month when the loan amount is less then 50'000. We should therefore remove duplicated cases where installment is higher than the loan amount."
   ],
   "metadata": {
    "collapsed": false
   },
   "id": "9b486752263cded8"
  },
  {
   "cell_type": "code",
   "outputs": [
    {
     "data": {
      "text/plain": "          id_pk  member_id  loan_amnt  funded_amnt  funded_amnt_inv  term  \\\n50004   4536779    5779043    16000.0      16000.0          15950.0    36   \n4       4536779    5779043    16000.0      16000.0          15950.0    36   \n50002  18935279   21167968    20000.0      20000.0          20000.0    60   \n2      18935279   21167968    20000.0      20000.0          20000.0    60   \n50003  27580978   30084088    15000.0      15000.0          15000.0    36   \n3      27580978   30084088    15000.0      15000.0          15000.0    36   \n50000  55978502   59640239    14400.0      14400.0          14400.0    36   \n0      55978502   59640239    14400.0      14400.0          14400.0    36   \n50001  56141977   59803813    24550.0      24550.0          24550.0    36   \n1      56141977   59803813    24550.0      24550.0          24550.0    36   \n\n       int_rate  installment grade sub_grade  ... next_pymnt_year  \\\n50004     -1.10       508.06     A        A5  ...          2016.0   \n4         -1.10     50000.00     A        A5  ...          2016.0   \n50002      6.29       489.45     D        D2  ...          2016.0   \n2          6.29     50000.00     D        D2  ...          2016.0   \n50003     -3.97       456.54     A        A1  ...             NaN   \n3         -3.97     50000.00     A        A1  ...             NaN   \n50000      5.61       503.50     D        D1  ...          2016.0   \n0          5.61     50000.00     D        D1  ...          2016.0   \n50001      2.29       818.82     C        C1  ...          2016.0   \n1          2.29     50000.00     C        C1  ...          2016.0   \n\n       last_credit_pull_month last_credit_pull_year  \\\n50004                     Jan                2016.0   \n4                         Jan                2016.0   \n50002                     Jan                2016.0   \n2                         Jan                2016.0   \n50003                     Jan                2016.0   \n3                         Jan                2016.0   \n50000                     Jan                2016.0   \n0                         Jan                2016.0   \n50001                     Jan                2016.0   \n1                         Jan                2016.0   \n\n       collections_12_mths_ex_med policy_code application_type  \\\n50004                         0.0         1.0       INDIVIDUAL   \n4                             0.0         1.0       INDIVIDUAL   \n50002                         0.0         1.0       INDIVIDUAL   \n2                             0.0         1.0       INDIVIDUAL   \n50003                         0.0         1.0       INDIVIDUAL   \n3                             0.0         1.0       INDIVIDUAL   \n50000                         0.0         1.0       INDIVIDUAL   \n0                             0.0         1.0       INDIVIDUAL   \n50001                         0.0         1.0       INDIVIDUAL   \n1                             0.0         1.0       INDIVIDUAL   \n\n       acc_now_delinq tot_coll_amt tot_cur_bal total_rev_hi_lim  \n50004             0.0          0.0    355820.0          45600.0  \n4                 0.0          0.0    355820.0          45600.0  \n50002             0.0          0.0     35408.0          28300.0  \n2                 0.0          0.0     35408.0          28300.0  \n50003             0.0          0.0    146372.0          81600.0  \n3                 0.0          0.0    146372.0          81600.0  \n50000             0.0          0.0     15278.0          15000.0  \n0                 0.0          0.0     15278.0          15000.0  \n50001             0.0          0.0    163368.0          41400.0  \n1                 0.0          0.0    163368.0          41400.0  \n\n[10 rows x 59 columns]",
      "text/html": "<div>\n<style scoped>\n    .dataframe tbody tr th:only-of-type {\n        vertical-align: middle;\n    }\n\n    .dataframe tbody tr th {\n        vertical-align: top;\n    }\n\n    .dataframe thead th {\n        text-align: right;\n    }\n</style>\n<table border=\"1\" class=\"dataframe\">\n  <thead>\n    <tr style=\"text-align: right;\">\n      <th></th>\n      <th>id_pk</th>\n      <th>member_id</th>\n      <th>loan_amnt</th>\n      <th>funded_amnt</th>\n      <th>funded_amnt_inv</th>\n      <th>term</th>\n      <th>int_rate</th>\n      <th>installment</th>\n      <th>grade</th>\n      <th>sub_grade</th>\n      <th>...</th>\n      <th>next_pymnt_year</th>\n      <th>last_credit_pull_month</th>\n      <th>last_credit_pull_year</th>\n      <th>collections_12_mths_ex_med</th>\n      <th>policy_code</th>\n      <th>application_type</th>\n      <th>acc_now_delinq</th>\n      <th>tot_coll_amt</th>\n      <th>tot_cur_bal</th>\n      <th>total_rev_hi_lim</th>\n    </tr>\n  </thead>\n  <tbody>\n    <tr>\n      <th>50004</th>\n      <td>4536779</td>\n      <td>5779043</td>\n      <td>16000.0</td>\n      <td>16000.0</td>\n      <td>15950.0</td>\n      <td>36</td>\n      <td>-1.10</td>\n      <td>508.06</td>\n      <td>A</td>\n      <td>A5</td>\n      <td>...</td>\n      <td>2016.0</td>\n      <td>Jan</td>\n      <td>2016.0</td>\n      <td>0.0</td>\n      <td>1.0</td>\n      <td>INDIVIDUAL</td>\n      <td>0.0</td>\n      <td>0.0</td>\n      <td>355820.0</td>\n      <td>45600.0</td>\n    </tr>\n    <tr>\n      <th>4</th>\n      <td>4536779</td>\n      <td>5779043</td>\n      <td>16000.0</td>\n      <td>16000.0</td>\n      <td>15950.0</td>\n      <td>36</td>\n      <td>-1.10</td>\n      <td>50000.00</td>\n      <td>A</td>\n      <td>A5</td>\n      <td>...</td>\n      <td>2016.0</td>\n      <td>Jan</td>\n      <td>2016.0</td>\n      <td>0.0</td>\n      <td>1.0</td>\n      <td>INDIVIDUAL</td>\n      <td>0.0</td>\n      <td>0.0</td>\n      <td>355820.0</td>\n      <td>45600.0</td>\n    </tr>\n    <tr>\n      <th>50002</th>\n      <td>18935279</td>\n      <td>21167968</td>\n      <td>20000.0</td>\n      <td>20000.0</td>\n      <td>20000.0</td>\n      <td>60</td>\n      <td>6.29</td>\n      <td>489.45</td>\n      <td>D</td>\n      <td>D2</td>\n      <td>...</td>\n      <td>2016.0</td>\n      <td>Jan</td>\n      <td>2016.0</td>\n      <td>0.0</td>\n      <td>1.0</td>\n      <td>INDIVIDUAL</td>\n      <td>0.0</td>\n      <td>0.0</td>\n      <td>35408.0</td>\n      <td>28300.0</td>\n    </tr>\n    <tr>\n      <th>2</th>\n      <td>18935279</td>\n      <td>21167968</td>\n      <td>20000.0</td>\n      <td>20000.0</td>\n      <td>20000.0</td>\n      <td>60</td>\n      <td>6.29</td>\n      <td>50000.00</td>\n      <td>D</td>\n      <td>D2</td>\n      <td>...</td>\n      <td>2016.0</td>\n      <td>Jan</td>\n      <td>2016.0</td>\n      <td>0.0</td>\n      <td>1.0</td>\n      <td>INDIVIDUAL</td>\n      <td>0.0</td>\n      <td>0.0</td>\n      <td>35408.0</td>\n      <td>28300.0</td>\n    </tr>\n    <tr>\n      <th>50003</th>\n      <td>27580978</td>\n      <td>30084088</td>\n      <td>15000.0</td>\n      <td>15000.0</td>\n      <td>15000.0</td>\n      <td>36</td>\n      <td>-3.97</td>\n      <td>456.54</td>\n      <td>A</td>\n      <td>A1</td>\n      <td>...</td>\n      <td>NaN</td>\n      <td>Jan</td>\n      <td>2016.0</td>\n      <td>0.0</td>\n      <td>1.0</td>\n      <td>INDIVIDUAL</td>\n      <td>0.0</td>\n      <td>0.0</td>\n      <td>146372.0</td>\n      <td>81600.0</td>\n    </tr>\n    <tr>\n      <th>3</th>\n      <td>27580978</td>\n      <td>30084088</td>\n      <td>15000.0</td>\n      <td>15000.0</td>\n      <td>15000.0</td>\n      <td>36</td>\n      <td>-3.97</td>\n      <td>50000.00</td>\n      <td>A</td>\n      <td>A1</td>\n      <td>...</td>\n      <td>NaN</td>\n      <td>Jan</td>\n      <td>2016.0</td>\n      <td>0.0</td>\n      <td>1.0</td>\n      <td>INDIVIDUAL</td>\n      <td>0.0</td>\n      <td>0.0</td>\n      <td>146372.0</td>\n      <td>81600.0</td>\n    </tr>\n    <tr>\n      <th>50000</th>\n      <td>55978502</td>\n      <td>59640239</td>\n      <td>14400.0</td>\n      <td>14400.0</td>\n      <td>14400.0</td>\n      <td>36</td>\n      <td>5.61</td>\n      <td>503.50</td>\n      <td>D</td>\n      <td>D1</td>\n      <td>...</td>\n      <td>2016.0</td>\n      <td>Jan</td>\n      <td>2016.0</td>\n      <td>0.0</td>\n      <td>1.0</td>\n      <td>INDIVIDUAL</td>\n      <td>0.0</td>\n      <td>0.0</td>\n      <td>15278.0</td>\n      <td>15000.0</td>\n    </tr>\n    <tr>\n      <th>0</th>\n      <td>55978502</td>\n      <td>59640239</td>\n      <td>14400.0</td>\n      <td>14400.0</td>\n      <td>14400.0</td>\n      <td>36</td>\n      <td>5.61</td>\n      <td>50000.00</td>\n      <td>D</td>\n      <td>D1</td>\n      <td>...</td>\n      <td>2016.0</td>\n      <td>Jan</td>\n      <td>2016.0</td>\n      <td>0.0</td>\n      <td>1.0</td>\n      <td>INDIVIDUAL</td>\n      <td>0.0</td>\n      <td>0.0</td>\n      <td>15278.0</td>\n      <td>15000.0</td>\n    </tr>\n    <tr>\n      <th>50001</th>\n      <td>56141977</td>\n      <td>59803813</td>\n      <td>24550.0</td>\n      <td>24550.0</td>\n      <td>24550.0</td>\n      <td>36</td>\n      <td>2.29</td>\n      <td>818.82</td>\n      <td>C</td>\n      <td>C1</td>\n      <td>...</td>\n      <td>2016.0</td>\n      <td>Jan</td>\n      <td>2016.0</td>\n      <td>0.0</td>\n      <td>1.0</td>\n      <td>INDIVIDUAL</td>\n      <td>0.0</td>\n      <td>0.0</td>\n      <td>163368.0</td>\n      <td>41400.0</td>\n    </tr>\n    <tr>\n      <th>1</th>\n      <td>56141977</td>\n      <td>59803813</td>\n      <td>24550.0</td>\n      <td>24550.0</td>\n      <td>24550.0</td>\n      <td>36</td>\n      <td>2.29</td>\n      <td>50000.00</td>\n      <td>C</td>\n      <td>C1</td>\n      <td>...</td>\n      <td>2016.0</td>\n      <td>Jan</td>\n      <td>2016.0</td>\n      <td>0.0</td>\n      <td>1.0</td>\n      <td>INDIVIDUAL</td>\n      <td>0.0</td>\n      <td>0.0</td>\n      <td>163368.0</td>\n      <td>41400.0</td>\n    </tr>\n  </tbody>\n</table>\n<p>10 rows × 59 columns</p>\n</div>"
     },
     "execution_count": 99,
     "metadata": {},
     "output_type": "execute_result"
    }
   ],
   "source": [
    "# filter for all entries containing duplicated 'member_id' order by member_id and installment\n",
    "df[df.duplicated(subset='member_id', keep=False)].sort_values(by=['member_id', 'installment'])"
   ],
   "metadata": {
    "collapsed": false,
    "ExecuteTime": {
     "end_time": "2024-02-29T11:56:54.592510Z",
     "start_time": "2024-02-29T11:56:54.581150Z"
    }
   },
   "id": "2b2d63349de25492",
   "execution_count": 99
  },
  {
   "cell_type": "code",
   "outputs": [],
   "source": [
    "# remove duplicates with higher installment\n",
    "df = df.drop_duplicates(subset='member_id', keep='last')"
   ],
   "metadata": {
    "collapsed": false,
    "ExecuteTime": {
     "end_time": "2024-02-29T11:56:54.607457Z",
     "start_time": "2024-02-29T11:56:54.593498Z"
    }
   },
   "id": "254dc5b2bcecb4bb",
   "execution_count": 100
  },
  {
   "cell_type": "code",
   "outputs": [
    {
     "data": {
      "text/plain": "         id_pk  member_id  loan_amnt  funded_amnt  funded_amnt_inv  term  \\\n50004  4536779    5779043    16000.0      16000.0          15950.0    36   \n\n       int_rate  installment grade sub_grade  ... next_pymnt_year  \\\n50004      -1.1       508.06     A        A5  ...          2016.0   \n\n       last_credit_pull_month last_credit_pull_year  \\\n50004                     Jan                2016.0   \n\n       collections_12_mths_ex_med policy_code application_type  \\\n50004                         0.0         1.0       INDIVIDUAL   \n\n       acc_now_delinq tot_coll_amt tot_cur_bal total_rev_hi_lim  \n50004             0.0          0.0    355820.0          45600.0  \n\n[1 rows x 59 columns]",
      "text/html": "<div>\n<style scoped>\n    .dataframe tbody tr th:only-of-type {\n        vertical-align: middle;\n    }\n\n    .dataframe tbody tr th {\n        vertical-align: top;\n    }\n\n    .dataframe thead th {\n        text-align: right;\n    }\n</style>\n<table border=\"1\" class=\"dataframe\">\n  <thead>\n    <tr style=\"text-align: right;\">\n      <th></th>\n      <th>id_pk</th>\n      <th>member_id</th>\n      <th>loan_amnt</th>\n      <th>funded_amnt</th>\n      <th>funded_amnt_inv</th>\n      <th>term</th>\n      <th>int_rate</th>\n      <th>installment</th>\n      <th>grade</th>\n      <th>sub_grade</th>\n      <th>...</th>\n      <th>next_pymnt_year</th>\n      <th>last_credit_pull_month</th>\n      <th>last_credit_pull_year</th>\n      <th>collections_12_mths_ex_med</th>\n      <th>policy_code</th>\n      <th>application_type</th>\n      <th>acc_now_delinq</th>\n      <th>tot_coll_amt</th>\n      <th>tot_cur_bal</th>\n      <th>total_rev_hi_lim</th>\n    </tr>\n  </thead>\n  <tbody>\n    <tr>\n      <th>50004</th>\n      <td>4536779</td>\n      <td>5779043</td>\n      <td>16000.0</td>\n      <td>16000.0</td>\n      <td>15950.0</td>\n      <td>36</td>\n      <td>-1.1</td>\n      <td>508.06</td>\n      <td>A</td>\n      <td>A5</td>\n      <td>...</td>\n      <td>2016.0</td>\n      <td>Jan</td>\n      <td>2016.0</td>\n      <td>0.0</td>\n      <td>1.0</td>\n      <td>INDIVIDUAL</td>\n      <td>0.0</td>\n      <td>0.0</td>\n      <td>355820.0</td>\n      <td>45600.0</td>\n    </tr>\n  </tbody>\n</table>\n<p>1 rows × 59 columns</p>\n</div>"
     },
     "execution_count": 101,
     "metadata": {},
     "output_type": "execute_result"
    }
   ],
   "source": [
    "# show row for member id 5779043\n",
    "df[df['member_id'] == 5779043]"
   ],
   "metadata": {
    "collapsed": false,
    "ExecuteTime": {
     "end_time": "2024-02-29T11:56:54.618567Z",
     "start_time": "2024-02-29T11:56:54.609777Z"
    }
   },
   "id": "bb6b2aa6842f6150",
   "execution_count": 101
  },
  {
   "cell_type": "markdown",
   "source": [
    "## 1.2.2 Inconsistent Categories\n",
    "\n",
    "### 1.2.2.1 Subgrade and Grade inconsistency\n",
    "Another problem that becomes apparent when looking at the data is the discrepancy between the variables **grade** and **subgrade**. The **subgrade** variable is a subset of the **grade** variable. We can check this by looking at the unique values for both variables. However, we can see that the **subgrade** variable contains the nonsensical value *ALPHA_CENTAURI*. We need to address this issue by, first removing this value."
   ],
   "metadata": {
    "collapsed": false
   },
   "id": "1d4d90b061b1d593"
  },
  {
   "cell_type": "code",
   "outputs": [
    {
     "data": {
      "text/plain": "(array(['D', 'B', 'A', 'E', 'C', 'F', 'G'], dtype=object),\n array(['D3', 'B5', 'D1', 'A5', 'A4', 'E1', 'C1', 'C4', 'E2', 'B2', 'C2',\n        'E5', 'C3', 'D2', 'ALPHA_CENTAURI', 'A2', 'C5', 'D5', 'D4', 'A1',\n        'E3', 'B1', 'E4', 'B4', 'A3', 'F2', 'F4', 'F3', 'F1', 'G1', 'F5',\n        'G2', 'G3', 'G4', 'G5'], dtype=object))"
     },
     "execution_count": 102,
     "metadata": {},
     "output_type": "execute_result"
    }
   ],
   "source": [
    "# show unique values for grade and subgrade\n",
    "(df['grade'].unique(), df['sub_grade'].unique())"
   ],
   "metadata": {
    "collapsed": false,
    "ExecuteTime": {
     "end_time": "2024-02-29T11:56:54.624794Z",
     "start_time": "2024-02-29T11:56:54.619680Z"
    }
   },
   "id": "8841f166c39c920c",
   "execution_count": 102
  },
  {
   "cell_type": "code",
   "outputs": [
    {
     "data": {
      "text/plain": "array(['D3', 'B5', 'D1', 'A5', 'A4', 'E1', 'C1', 'C4', 'E2', 'B2', 'C2',\n       'E5', 'C3', 'D2', None, 'A2', 'C5', 'D5', 'D4', 'A1', 'E3', 'B1',\n       'E4', 'B4', 'A3', 'F2', 'F4', 'F3', 'F1', 'G1', 'F5', 'G2', 'G3',\n       'G4', 'G5'], dtype=object)"
     },
     "execution_count": 103,
     "metadata": {},
     "output_type": "execute_result"
    }
   ],
   "source": [
    "# Create a check that will delete any subgrade that is not a subset of grade\n",
    "df['sub_grade'] = df['sub_grade'].apply(lambda x: x if x[0] in ['A', 'B', 'C', 'D', 'E', 'F', 'G'] and x[1].isdigit() else None)\n",
    "\n",
    "# show unique values for grade and subgrade\n",
    "df['sub_grade'].unique()"
   ],
   "metadata": {
    "collapsed": false,
    "ExecuteTime": {
     "end_time": "2024-02-29T11:56:54.636846Z",
     "start_time": "2024-02-29T11:56:54.625423Z"
    }
   },
   "id": "2e733d34a0e7b865",
   "execution_count": 103
  },
  {
   "cell_type": "code",
   "outputs": [
    {
     "data": {
      "text/plain": "          id_pk  member_id  loan_amnt  funded_amnt  funded_amnt_inv  term  \\\n26     23943598   26316514    12000.0      12000.0          12000.0    36   \n54     56052266   59714104    14000.0      14000.0          14000.0    60   \n79     63518237   67861038    10000.0      10000.0          10000.0    36   \n96     50655756   54035485    15400.0      15400.0          15400.0    36   \n102    48676289   51925085    21000.0      21000.0          21000.0    60   \n...         ...        ...        ...          ...              ...   ...   \n49870  66380227   71104940    10000.0      10000.0          10000.0    36   \n49922   3370575    4223512     6400.0       6400.0           6400.0    36   \n49984  18294310   20447017    19500.0      19500.0          19500.0    60   \n49987  60952305   64994090    12000.0      12000.0          12000.0    36   \n49994  55990255   59652044     6025.0       6025.0           6025.0    36   \n\n       int_rate  installment grade sub_grade  ... next_pymnt_year  \\\n26         0.99       392.81     B      None  ...          2016.0   \n54        -0.01       297.39     B      None  ...          2016.0   \n79        -0.01       322.63     B      None  ...          2016.0   \n96        -0.01       496.85     B      None  ...          2016.0   \n102       -0.01       446.09     B      None  ...          2016.0   \n...         ...          ...   ...       ...  ...             ...   \n49870     -0.24       321.55     B      None  ...          2016.0   \n49922      2.12       212.94     B      None  ...             NaN   \n49984      0.99       423.89     B      None  ...             NaN   \n49987     -0.01       387.15     B      None  ...          2016.0   \n49994     -0.01       194.39     B      None  ...          2016.0   \n\n       last_credit_pull_month last_credit_pull_year  \\\n26                        Jan                2016.0   \n54                        Jan                2016.0   \n79                        Jan                2016.0   \n96                        Jan                2016.0   \n102                       Jan                2016.0   \n...                       ...                   ...   \n49870                     Jan                2016.0   \n49922                     Jun                2015.0   \n49984                     Jan                2016.0   \n49987                     Jan                2016.0   \n49994                     Jan                2016.0   \n\n       collections_12_mths_ex_med policy_code application_type  \\\n26                            1.0         1.0       INDIVIDUAL   \n54                            0.0         1.0       INDIVIDUAL   \n79                            0.0         1.0       INDIVIDUAL   \n96                            0.0         1.0       INDIVIDUAL   \n102                           0.0         1.0       INDIVIDUAL   \n...                           ...         ...              ...   \n49870                         0.0         1.0       INDIVIDUAL   \n49922                         0.0         1.0       INDIVIDUAL   \n49984                         0.0         1.0       INDIVIDUAL   \n49987                         0.0         1.0       INDIVIDUAL   \n49994                         0.0         1.0       INDIVIDUAL   \n\n       acc_now_delinq tot_coll_amt tot_cur_bal total_rev_hi_lim  \n26                0.0         88.0    182767.0          23000.0  \n54                0.0          0.0    169022.0          40200.0  \n79                0.0          0.0    406066.0          15500.0  \n96                0.0          0.0     43947.0          33200.0  \n102               0.0          0.0     25175.0          30980.0  \n...               ...          ...         ...              ...  \n49870             0.0          0.0    292127.0           8500.0  \n49922             0.0          0.0     50077.0          20694.0  \n49984             0.0          0.0     56624.0          67700.0  \n49987             0.0          0.0     43481.0          43300.0  \n49994             0.0          0.0     11768.0          22700.0  \n\n[3160 rows x 59 columns]",
      "text/html": "<div>\n<style scoped>\n    .dataframe tbody tr th:only-of-type {\n        vertical-align: middle;\n    }\n\n    .dataframe tbody tr th {\n        vertical-align: top;\n    }\n\n    .dataframe thead th {\n        text-align: right;\n    }\n</style>\n<table border=\"1\" class=\"dataframe\">\n  <thead>\n    <tr style=\"text-align: right;\">\n      <th></th>\n      <th>id_pk</th>\n      <th>member_id</th>\n      <th>loan_amnt</th>\n      <th>funded_amnt</th>\n      <th>funded_amnt_inv</th>\n      <th>term</th>\n      <th>int_rate</th>\n      <th>installment</th>\n      <th>grade</th>\n      <th>sub_grade</th>\n      <th>...</th>\n      <th>next_pymnt_year</th>\n      <th>last_credit_pull_month</th>\n      <th>last_credit_pull_year</th>\n      <th>collections_12_mths_ex_med</th>\n      <th>policy_code</th>\n      <th>application_type</th>\n      <th>acc_now_delinq</th>\n      <th>tot_coll_amt</th>\n      <th>tot_cur_bal</th>\n      <th>total_rev_hi_lim</th>\n    </tr>\n  </thead>\n  <tbody>\n    <tr>\n      <th>26</th>\n      <td>23943598</td>\n      <td>26316514</td>\n      <td>12000.0</td>\n      <td>12000.0</td>\n      <td>12000.0</td>\n      <td>36</td>\n      <td>0.99</td>\n      <td>392.81</td>\n      <td>B</td>\n      <td>None</td>\n      <td>...</td>\n      <td>2016.0</td>\n      <td>Jan</td>\n      <td>2016.0</td>\n      <td>1.0</td>\n      <td>1.0</td>\n      <td>INDIVIDUAL</td>\n      <td>0.0</td>\n      <td>88.0</td>\n      <td>182767.0</td>\n      <td>23000.0</td>\n    </tr>\n    <tr>\n      <th>54</th>\n      <td>56052266</td>\n      <td>59714104</td>\n      <td>14000.0</td>\n      <td>14000.0</td>\n      <td>14000.0</td>\n      <td>60</td>\n      <td>-0.01</td>\n      <td>297.39</td>\n      <td>B</td>\n      <td>None</td>\n      <td>...</td>\n      <td>2016.0</td>\n      <td>Jan</td>\n      <td>2016.0</td>\n      <td>0.0</td>\n      <td>1.0</td>\n      <td>INDIVIDUAL</td>\n      <td>0.0</td>\n      <td>0.0</td>\n      <td>169022.0</td>\n      <td>40200.0</td>\n    </tr>\n    <tr>\n      <th>79</th>\n      <td>63518237</td>\n      <td>67861038</td>\n      <td>10000.0</td>\n      <td>10000.0</td>\n      <td>10000.0</td>\n      <td>36</td>\n      <td>-0.01</td>\n      <td>322.63</td>\n      <td>B</td>\n      <td>None</td>\n      <td>...</td>\n      <td>2016.0</td>\n      <td>Jan</td>\n      <td>2016.0</td>\n      <td>0.0</td>\n      <td>1.0</td>\n      <td>INDIVIDUAL</td>\n      <td>0.0</td>\n      <td>0.0</td>\n      <td>406066.0</td>\n      <td>15500.0</td>\n    </tr>\n    <tr>\n      <th>96</th>\n      <td>50655756</td>\n      <td>54035485</td>\n      <td>15400.0</td>\n      <td>15400.0</td>\n      <td>15400.0</td>\n      <td>36</td>\n      <td>-0.01</td>\n      <td>496.85</td>\n      <td>B</td>\n      <td>None</td>\n      <td>...</td>\n      <td>2016.0</td>\n      <td>Jan</td>\n      <td>2016.0</td>\n      <td>0.0</td>\n      <td>1.0</td>\n      <td>INDIVIDUAL</td>\n      <td>0.0</td>\n      <td>0.0</td>\n      <td>43947.0</td>\n      <td>33200.0</td>\n    </tr>\n    <tr>\n      <th>102</th>\n      <td>48676289</td>\n      <td>51925085</td>\n      <td>21000.0</td>\n      <td>21000.0</td>\n      <td>21000.0</td>\n      <td>60</td>\n      <td>-0.01</td>\n      <td>446.09</td>\n      <td>B</td>\n      <td>None</td>\n      <td>...</td>\n      <td>2016.0</td>\n      <td>Jan</td>\n      <td>2016.0</td>\n      <td>0.0</td>\n      <td>1.0</td>\n      <td>INDIVIDUAL</td>\n      <td>0.0</td>\n      <td>0.0</td>\n      <td>25175.0</td>\n      <td>30980.0</td>\n    </tr>\n    <tr>\n      <th>...</th>\n      <td>...</td>\n      <td>...</td>\n      <td>...</td>\n      <td>...</td>\n      <td>...</td>\n      <td>...</td>\n      <td>...</td>\n      <td>...</td>\n      <td>...</td>\n      <td>...</td>\n      <td>...</td>\n      <td>...</td>\n      <td>...</td>\n      <td>...</td>\n      <td>...</td>\n      <td>...</td>\n      <td>...</td>\n      <td>...</td>\n      <td>...</td>\n      <td>...</td>\n      <td>...</td>\n    </tr>\n    <tr>\n      <th>49870</th>\n      <td>66380227</td>\n      <td>71104940</td>\n      <td>10000.0</td>\n      <td>10000.0</td>\n      <td>10000.0</td>\n      <td>36</td>\n      <td>-0.24</td>\n      <td>321.55</td>\n      <td>B</td>\n      <td>None</td>\n      <td>...</td>\n      <td>2016.0</td>\n      <td>Jan</td>\n      <td>2016.0</td>\n      <td>0.0</td>\n      <td>1.0</td>\n      <td>INDIVIDUAL</td>\n      <td>0.0</td>\n      <td>0.0</td>\n      <td>292127.0</td>\n      <td>8500.0</td>\n    </tr>\n    <tr>\n      <th>49922</th>\n      <td>3370575</td>\n      <td>4223512</td>\n      <td>6400.0</td>\n      <td>6400.0</td>\n      <td>6400.0</td>\n      <td>36</td>\n      <td>2.12</td>\n      <td>212.94</td>\n      <td>B</td>\n      <td>None</td>\n      <td>...</td>\n      <td>NaN</td>\n      <td>Jun</td>\n      <td>2015.0</td>\n      <td>0.0</td>\n      <td>1.0</td>\n      <td>INDIVIDUAL</td>\n      <td>0.0</td>\n      <td>0.0</td>\n      <td>50077.0</td>\n      <td>20694.0</td>\n    </tr>\n    <tr>\n      <th>49984</th>\n      <td>18294310</td>\n      <td>20447017</td>\n      <td>19500.0</td>\n      <td>19500.0</td>\n      <td>19500.0</td>\n      <td>60</td>\n      <td>0.99</td>\n      <td>423.89</td>\n      <td>B</td>\n      <td>None</td>\n      <td>...</td>\n      <td>NaN</td>\n      <td>Jan</td>\n      <td>2016.0</td>\n      <td>0.0</td>\n      <td>1.0</td>\n      <td>INDIVIDUAL</td>\n      <td>0.0</td>\n      <td>0.0</td>\n      <td>56624.0</td>\n      <td>67700.0</td>\n    </tr>\n    <tr>\n      <th>49987</th>\n      <td>60952305</td>\n      <td>64994090</td>\n      <td>12000.0</td>\n      <td>12000.0</td>\n      <td>12000.0</td>\n      <td>36</td>\n      <td>-0.01</td>\n      <td>387.15</td>\n      <td>B</td>\n      <td>None</td>\n      <td>...</td>\n      <td>2016.0</td>\n      <td>Jan</td>\n      <td>2016.0</td>\n      <td>0.0</td>\n      <td>1.0</td>\n      <td>INDIVIDUAL</td>\n      <td>0.0</td>\n      <td>0.0</td>\n      <td>43481.0</td>\n      <td>43300.0</td>\n    </tr>\n    <tr>\n      <th>49994</th>\n      <td>55990255</td>\n      <td>59652044</td>\n      <td>6025.0</td>\n      <td>6025.0</td>\n      <td>6025.0</td>\n      <td>36</td>\n      <td>-0.01</td>\n      <td>194.39</td>\n      <td>B</td>\n      <td>None</td>\n      <td>...</td>\n      <td>2016.0</td>\n      <td>Jan</td>\n      <td>2016.0</td>\n      <td>0.0</td>\n      <td>1.0</td>\n      <td>INDIVIDUAL</td>\n      <td>0.0</td>\n      <td>0.0</td>\n      <td>11768.0</td>\n      <td>22700.0</td>\n    </tr>\n  </tbody>\n</table>\n<p>3160 rows × 59 columns</p>\n</div>"
     },
     "execution_count": 104,
     "metadata": {},
     "output_type": "execute_result"
    }
   ],
   "source": [
    "# show rows for which sub_grade is NULL\n",
    "df[df['sub_grade'].isnull()]"
   ],
   "metadata": {
    "collapsed": false,
    "ExecuteTime": {
     "end_time": "2024-02-29T11:56:54.651533Z",
     "start_time": "2024-02-29T11:56:54.637874Z"
    }
   },
   "id": "f8f45d726ac2e8cc",
   "execution_count": 104
  },
  {
   "cell_type": "markdown",
   "source": [
    "### 1.2.2.2 Interest Rate inconsistency\n",
    "Another problem that becomes apparent when looking at the data is that the interest rate (**int_rate**) contains negative values. This is a mistake, as interest rates for loans should not be negative. We can check this by looking at the distribution of int_rate."
   ],
   "metadata": {
    "collapsed": false
   },
   "id": "8b5e4e05c159f78a"
  },
  {
   "cell_type": "code",
   "outputs": [
    {
     "name": "stderr",
     "output_type": "stream",
     "text": [
      "/Users/yanik/Library/Mobile Documents/com~apple~CloudDocs/Documents/Workshops and Courses/CAS_Data_Engineering/Kurs/Leistungsnachweise/Benotet/data_wrangling/venv/lib/python3.11/site-packages/seaborn/_oldcore.py:1119: FutureWarning: use_inf_as_na option is deprecated and will be removed in a future version. Convert inf values to NaN before operating instead.\n",
      "  with pd.option_context('mode.use_inf_as_na', True):\n"
     ]
    },
    {
     "data": {
      "text/plain": "<Axes: xlabel='int_rate', ylabel='Count'>"
     },
     "execution_count": 105,
     "metadata": {},
     "output_type": "execute_result"
    },
    {
     "data": {
      "text/plain": "<Figure size 640x480 with 1 Axes>",
      "image/png": "[encoded data removed]"
     },
     "metadata": {},
     "output_type": "display_data"
    }
   ],
   "source": [
    "# show distribution of int_rate\n",
    "sns.histplot(data=df, x='int_rate')"
   ],
   "metadata": {
    "collapsed": false,
    "ExecuteTime": {
     "end_time": "2024-02-29T11:56:54.774851Z",
     "start_time": "2024-02-29T11:56:54.652245Z"
    }
   },
   "id": "8d355038cd2cd4ef",
   "execution_count": 105
  },
  {
   "cell_type": "markdown",
   "source": [
    "As the plot shows the distribution of **int_rate** encompasses negative values. It is difficult to determine if negative values in interest rate are created through an input error (e.g. instead of 5 the user inputed -5, such errors we would be able to correct by simply converting negative values to positive) or if the error is of another nature and the data is completely incorrect. As such, we err on the side of caution and remove all values for which **int_rate** is negative. We do not want to remove the complete row, since these might still contain valuable information for the other variables."
   ],
   "metadata": {
    "collapsed": false
   },
   "id": "a56e1e470710b629"
  },
  {
   "cell_type": "code",
   "outputs": [
    {
     "name": "stderr",
     "output_type": "stream",
     "text": [
      "/Users/yanik/Library/Mobile Documents/com~apple~CloudDocs/Documents/Workshops and Courses/CAS_Data_Engineering/Kurs/Leistungsnachweise/Benotet/data_wrangling/venv/lib/python3.11/site-packages/seaborn/_oldcore.py:1119: FutureWarning: use_inf_as_na option is deprecated and will be removed in a future version. Convert inf values to NaN before operating instead.\n",
      "  with pd.option_context('mode.use_inf_as_na', True):\n"
     ]
    },
    {
     "data": {
      "text/plain": "<Axes: xlabel='int_rate', ylabel='Count'>"
     },
     "execution_count": 106,
     "metadata": {},
     "output_type": "execute_result"
    },
    {
     "data": {
      "text/plain": "<Figure size 640x480 with 1 Axes>",
      "image/png": "[encoded data removed]"
     },
     "metadata": {},
     "output_type": "display_data"
    }
   ],
   "source": [
    "# replace negative values with NaN\n",
    "df['int_rate'] = df['int_rate'].apply(lambda x: x if x > 0 else None)\n",
    "\n",
    "# show distribution of int_rate\n",
    "sns.histplot(data=df, x='int_rate')"
   ],
   "metadata": {
    "collapsed": false,
    "ExecuteTime": {
     "end_time": "2024-02-29T11:56:54.971094Z",
     "start_time": "2024-02-29T11:56:54.776545Z"
    }
   },
   "id": "1e34246195df3fc4",
   "execution_count": 106
  },
  {
   "cell_type": "markdown",
   "source": [
    "# 1.3. Analyze Accuracy\n",
    "## 1.3.1. Data Types and Formats\n",
    "Another problem identified in the data are that at the moment dates are split into years and month. This becomes first visible when looking at the variables **issue_year** and **issue_month** as an example. Since we only have observations for 2015, this means that the **issue_year** variable by itself does not provide any useful information (no variation) in future analytical applications. Only in combination with the month, does the year provide useful information."
   ],
   "metadata": {
    "collapsed": false
   },
   "id": "5556b73716ef8f26"
  },
  {
   "cell_type": "code",
   "outputs": [
    {
     "data": {
      "text/plain": "<Axes: xlabel='issue_year', ylabel='count'>"
     },
     "execution_count": 107,
     "metadata": {},
     "output_type": "execute_result"
    },
    {
     "data": {
      "text/plain": "<Figure size 640x480 with 1 Axes>",
      "image/png": "[encoded data removed]"
     },
     "metadata": {},
     "output_type": "display_data"
    }
   ],
   "source": [
    "# show distribution of issue_year\n",
    "sns.countplot(data=df, x='issue_year')"
   ],
   "metadata": {
    "collapsed": false,
    "ExecuteTime": {
     "end_time": "2024-02-29T11:56:55.040165Z",
     "start_time": "2024-02-29T11:56:54.973658Z"
    }
   },
   "id": "f0398551dfe747b",
   "execution_count": 107
  },
  {
   "cell_type": "markdown",
   "source": [
    "Contrary to **issue_year** the variable **issue_month** does show some variation, as shown in the plot below."
   ],
   "metadata": {
    "collapsed": false
   },
   "id": "f9fb2394a7855929"
  },
  {
   "cell_type": "code",
   "outputs": [
    {
     "data": {
      "text/plain": "<Axes: xlabel='issue_month', ylabel='count'>"
     },
     "execution_count": 108,
     "metadata": {},
     "output_type": "execute_result"
    },
    {
     "data": {
      "text/plain": "<Figure size 640x480 with 1 Axes>",
      "image/png": "[encoded data removed]"
     },
     "metadata": {},
     "output_type": "display_data"
    }
   ],
   "source": [
    "# show distribution of issue_month\n",
    "sns.countplot(data=df, x='issue_month')"
   ],
   "metadata": {
    "collapsed": false,
    "ExecuteTime": {
     "end_time": "2024-02-29T11:56:55.146883Z",
     "start_time": "2024-02-29T11:56:55.041187Z"
    }
   },
   "id": "ecfa84b0edae86d9",
   "execution_count": 108
  },
  {
   "cell_type": "markdown",
   "source": [
    "However, we also see that *October* was misspelled as *Octxyz*. We can fix this by replacing the misspelled value with the correct one."
   ],
   "metadata": {
    "collapsed": false
   },
   "id": "7680cf2f1ae194ed"
  },
  {
   "cell_type": "code",
   "outputs": [
    {
     "data": {
      "text/plain": "array(['Nov', 'Jun', 'Oct', 'Aug', 'May', 'Jul', 'Mar', 'Dec', 'Jan',\n       'Sep', 'Feb', 'Apr'], dtype=object)"
     },
     "execution_count": 109,
     "metadata": {},
     "output_type": "execute_result"
    }
   ],
   "source": [
    "# replace misspelled value\n",
    "df['issue_month'] = df['issue_month'].replace('Octxyz', 'Oct')\n",
    "df['issue_month'].unique()"
   ],
   "metadata": {
    "collapsed": false,
    "ExecuteTime": {
     "end_time": "2024-02-29T11:56:55.155854Z",
     "start_time": "2024-02-29T11:56:55.148561Z"
    }
   },
   "id": "5d438cab282b2fe0",
   "execution_count": 109
  },
  {
   "cell_type": "markdown",
   "source": [
    "To remedy the fact that issue_year contains no variation, but we still would like to know the year, we can create a new variable that combines the year and month into a single variable. This will allow us to keep the information about the year, but also the month. The same transformation can be applied to the other time variables in the dataset (earliest_cr_line_month, earliest_cr_line_year, last_pymnt_month, last_pymnt_year, next_pymnt_month, next_pymnt_year, last_credit_pull_month, last_credit_pull_year)."
   ],
   "metadata": {
    "collapsed": false
   },
   "id": "6fada4de09e0116"
  },
  {
   "cell_type": "code",
   "outputs": [
    {
     "data": {
      "text/plain": "5   2015-11-01\n6   2015-06-01\n7   2015-10-01\n8   2015-08-01\n9   2015-05-01\nName: issue_date, dtype: datetime64[ns]"
     },
     "execution_count": 110,
     "metadata": {},
     "output_type": "execute_result"
    }
   ],
   "source": [
    "# create new variable issue_date with data type datetime\n",
    "df['issue_date'] = pd.to_datetime(df['issue_year'].astype(str) + '-' + df['issue_month'], format='%Y-%b')\n",
    "\n",
    "# drop issue_year and issue_month\n",
    "df = df.drop(columns=['issue_year', 'issue_month'])\n",
    "\n",
    "# show first 5 rows\n",
    "df['issue_date'].head(5)"
   ],
   "metadata": {
    "collapsed": false,
    "ExecuteTime": {
     "end_time": "2024-02-29T11:56:55.184359Z",
     "start_time": "2024-02-29T11:56:55.156488Z"
    }
   },
   "id": "c92e13b93994d807",
   "execution_count": 110
  },
  {
   "cell_type": "markdown",
   "source": [
    "# 1.4. Text Issues\n",
    "## 1.4.1. Text Harmonization\n",
    "The **emp_title** variable contains 26'314 of different job titles. We can see this by looking at the number of unique values for **emp_title**."
   ],
   "metadata": {
    "collapsed": false
   },
   "id": "7faeed139b34bcc"
  },
  {
   "cell_type": "code",
   "outputs": [
    {
     "data": {
      "text/plain": "26314"
     },
     "execution_count": 111,
     "metadata": {},
     "output_type": "execute_result"
    }
   ],
   "source": [
    "df['emp_title'].nunique()"
   ],
   "metadata": {
    "collapsed": false,
    "ExecuteTime": {
     "end_time": "2024-02-29T11:56:55.190610Z",
     "start_time": "2024-02-29T11:56:55.185124Z"
    }
   },
   "id": "8e187c137859cadc",
   "execution_count": 111
  },
  {
   "cell_type": "markdown",
   "source": [
    "Many of these job titles are likely to be the same, but are written in different ways. We can check this by looking at the unique values for **emp_title**."
   ],
   "metadata": {
    "collapsed": false
   },
   "id": "9711fbd5989ed91c"
  },
  {
   "cell_type": "code",
   "outputs": [
    {
     "data": {
      "text/plain": "array(['zueck transportation', 'zone manger', 'zone manager', ...,\n       '  Credit rev specialist', '   Bus Operator and Instructor', nan],\n      dtype=object)"
     },
     "execution_count": 112,
     "metadata": {},
     "output_type": "execute_result"
    }
   ],
   "source": [
    "# show unique values for emp_title and sort them\n",
    "df['emp_title'].sort_values(ascending=False).unique()"
   ],
   "metadata": {
    "collapsed": false,
    "ExecuteTime": {
     "end_time": "2024-02-29T11:56:55.217837Z",
     "start_time": "2024-02-29T11:56:55.191400Z"
    }
   },
   "id": "9f00f01c635c01a",
   "execution_count": 112
  },
  {
   "cell_type": "markdown",
   "source": [
    "As the example *zone manager* and *zone mager* shows, the difference in job titles might arise due to misspellings. Furthermore, we also have job titles like *youth specialist*, *youth services worker* or *youth development specialist* that are likely to be the same or very similar jobs, but that can be named differently. In order to try to reduce the cardinality of *emp_title* we can first convert all job titles to lower case and remove any leading or trailing white spaces."
   ],
   "metadata": {
    "collapsed": false
   },
   "id": "b6248197b80cf3b8"
  },
  {
   "cell_type": "code",
   "outputs": [
    {
     "data": {
      "text/plain": "23080"
     },
     "execution_count": 113,
     "metadata": {},
     "output_type": "execute_result"
    }
   ],
   "source": [
    "# convert to lower case and remove leading and trailing white spaces\n",
    "df['emp_title'] = df['emp_title'].str.lower().str.strip()\n",
    "\n",
    "# count unique values\n",
    "df['emp_title'].nunique()"
   ],
   "metadata": {
    "collapsed": false,
    "ExecuteTime": {
     "end_time": "2024-02-29T11:56:55.233096Z",
     "start_time": "2024-02-29T11:56:55.218638Z"
    }
   },
   "id": "97ce6740660c703f",
   "execution_count": 113
  },
  {
   "cell_type": "markdown",
   "source": [
    "These two transformations alone managed to reduce the number of unique values by 3'234. Next we can try to further reduce the number of job titles by grouping toghether job titles that are similar. Looking at the top 20 job titles we can see for example already see that there are different variations of the manager job title. Furthermore, registerd nurse and rn are likely to be the same job title."
   ],
   "metadata": {
    "collapsed": false
   },
   "id": "f35b2e9a2355582d"
  },
  {
   "cell_type": "code",
   "outputs": [
    {
     "name": "stdout",
     "output_type": "stream",
     "text": [
      "            emp_title  count\n",
      "10794         manager   6182\n",
      "18238         teacher   1210\n",
      "1168        assistant   1180\n",
      "12283           nurse   1180\n",
      "5839           driver    882\n",
      "17852      supervisor    445\n",
      "12760           owner    438\n",
      "15368           sales    388\n",
      "13677       president    206\n",
      "6274         engineer    180\n",
      "19622  vice president    177\n",
      "5215         director    175\n",
      "13523  police officer    161\n",
      "1381         attorney    142\n",
      "169        accountant    137\n",
      "18370      technician    129\n",
      "826           analyst    116\n",
      "16322          server    110\n",
      "11129        mechanic    108\n",
      "12930       paralegal     91\n"
     ]
    }
   ],
   "source": [
    "def top20(df):\n",
    "    print(df['emp_title'].groupby(df['emp_title']).size().reset_index(name='count')\\\n",
    "          .sort_values(by='count', ascending=False).head(20)\n",
    "         )\n",
    "\n",
    "top20(df)"
   ],
   "metadata": {
    "collapsed": false,
    "ExecuteTime": {
     "end_time": "2024-02-29T12:04:02.495785Z",
     "start_time": "2024-02-29T12:04:02.479746Z"
    }
   },
   "id": "48ea57fdf4622c38",
   "execution_count": 122
  },
  {
   "cell_type": "markdown",
   "source": [
    "First we'll replace rn with registered nurse."
   ],
   "metadata": {
    "collapsed": false
   },
   "id": "9b9ed053d9c5446e"
  },
  {
   "cell_type": "code",
   "outputs": [
    {
     "name": "stdout",
     "output_type": "stream",
     "text": [
      "                emp_title  count\n",
      "20618             teacher    997\n",
      "12111             manager    872\n",
      "16674    registered nurse    782\n",
      "20200          supervisor    445\n",
      "14438               owner    438\n",
      "17408               sales    388\n",
      "6644               driver    360\n",
      "14052      office manager    275\n",
      "15918     project manager    275\n",
      "21502        truck driver    221\n",
      "8613      general manager    219\n",
      "15445           president    206\n",
      "7143             engineer    180\n",
      "22144      vice president    177\n",
      "5988             director    175\n",
      "17477       sales manager    174\n",
      "15275      police officer    161\n",
      "14231  operations manager    157\n",
      "175       account manager    155\n",
      "20025       store manager    147\n"
     ]
    }
   ],
   "source": [
    "# replace rn with registered nurse\n",
    "df['emp_title'] = df['emp_title'].replace('rn', 'registered nurse')\n",
    "\n",
    "# show top 20 job titles\n",
    "top20(df)"
   ],
   "metadata": {
    "collapsed": false,
    "ExecuteTime": {
     "end_time": "2024-02-29T11:56:55.290993Z",
     "start_time": "2024-02-29T11:56:55.261069Z"
    }
   },
   "id": "51f17c9a21fccf5a",
   "execution_count": 115
  },
  {
   "cell_type": "markdown",
   "source": [
    "Next we can try to group together job titles that are similar. In the output above we can identify many job titles that could be grouped into a larger category, such as teachers, managers, drivers, nurses, etc. We can do this by using the fuzzy match. The fuzzy match is a measure of similarity between two strings. The higher the score, the more similar the strings are. We set a threshold of 90, meaning that we only want to group together job titles that have a similarity score of 90 or higher."
   ],
   "metadata": {
    "collapsed": false
   },
   "id": "ab5f1330d3d5ba04"
  },
  {
   "cell_type": "code",
   "outputs": [],
   "source": [
    "def harmonise_with_threshold(col,cluster_string,threshold):\n",
    "    for val, similarity in process.extract(cluster_string, df[col].unique(), limit = len(df[col].unique())):\n",
    "        if similarity >= threshold:\n",
    "            df.loc[df[col] == val, col] = cluster_string\n",
    "            \n",
    "# create list with cluster strings\n",
    "cluster_list = ['manager', 'nurse', 'teacher', 'driver', 'assistant']\n",
    "\n",
    "# harmonise job titles\n",
    "for cluster_string in cluster_list:\n",
    "    harmonise_with_threshold('emp_title', cluster_string, 90)"
   ],
   "metadata": {
    "collapsed": false,
    "ExecuteTime": {
     "end_time": "2024-02-29T11:57:05.012249Z",
     "start_time": "2024-02-29T11:57:00.821170Z"
    }
   },
   "id": "caece69aad2428df",
   "execution_count": 117
  },
  {
   "cell_type": "markdown",
   "source": [
    "After grouping job titles via fuzzy match we can see that the number of unique job titles has been reduced to 20'507, thus we were able to reduce the number of unique job titles by 22%."
   ],
   "metadata": {
    "collapsed": false
   },
   "id": "ad25325a6425476b"
  },
  {
   "cell_type": "code",
   "outputs": [
    {
     "data": {
      "text/plain": "20507"
     },
     "execution_count": 118,
     "metadata": {},
     "output_type": "execute_result"
    }
   ],
   "source": [
    "# show number of unique values for emp_title\n",
    "df['emp_title'].nunique()"
   ],
   "metadata": {
    "collapsed": false,
    "ExecuteTime": {
     "end_time": "2024-02-29T11:57:07.036260Z",
     "start_time": "2024-02-29T11:57:07.030160Z"
    }
   },
   "id": "a4490c78444922bb",
   "execution_count": 118
  },
  {
   "cell_type": "markdown",
   "source": [
    "# 1.5. Data Protection\n",
    "We might want to encrypt some variables that contain sensitive information, such as the url. This is because the url might contain information that could be used to identify the borrower. In the case that we need to be able to convert the data back to its original form, we should use encryption. With encryption are able to use a key to encrypt and decrypt data."
   ],
   "metadata": {
    "collapsed": false
   },
   "id": "870eb7173b3c1553"
  },
  {
   "cell_type": "code",
   "outputs": [
    {
     "data": {
      "text/plain": "   member_id                                                url\n5   69697861  b'gAAAAABl4F0AChjRDjjSasQFnGscTzfagqbHCp8v_jo5...\n6     949710  b'gAAAAABl4F0Au-LerLcFBBhWkV1ZEM-eLf4Iw_H9kxhq...\n7   65632977  b'gAAAAABl4F0Aecrgr1yvIrRFkAtThi9Mlbd0NQRdPm28...\n8   60837944  b'gAAAAABl4F0AN7gViM1mQpK3g8dfhJFNV6D6raTiPCIQ...\n9   50629162  b'gAAAAABl4F0A6As7KQfFm9zvo8xF-uCqXgttJ479OlGR...",
      "text/html": "<div>\n<style scoped>\n    .dataframe tbody tr th:only-of-type {\n        vertical-align: middle;\n    }\n\n    .dataframe tbody tr th {\n        vertical-align: top;\n    }\n\n    .dataframe thead th {\n        text-align: right;\n    }\n</style>\n<table border=\"1\" class=\"dataframe\">\n  <thead>\n    <tr style=\"text-align: right;\">\n      <th></th>\n      <th>member_id</th>\n      <th>url</th>\n    </tr>\n  </thead>\n  <tbody>\n    <tr>\n      <th>5</th>\n      <td>69697861</td>\n      <td>b'gAAAAABl4F0AChjRDjjSasQFnGscTzfagqbHCp8v_jo5...</td>\n    </tr>\n    <tr>\n      <th>6</th>\n      <td>949710</td>\n      <td>b'gAAAAABl4F0Au-LerLcFBBhWkV1ZEM-eLf4Iw_H9kxhq...</td>\n    </tr>\n    <tr>\n      <th>7</th>\n      <td>65632977</td>\n      <td>b'gAAAAABl4F0Aecrgr1yvIrRFkAtThi9Mlbd0NQRdPm28...</td>\n    </tr>\n    <tr>\n      <th>8</th>\n      <td>60837944</td>\n      <td>b'gAAAAABl4F0AN7gViM1mQpK3g8dfhJFNV6D6raTiPCIQ...</td>\n    </tr>\n    <tr>\n      <th>9</th>\n      <td>50629162</td>\n      <td>b'gAAAAABl4F0A6As7KQfFm9zvo8xF-uCqXgttJ479OlGR...</td>\n    </tr>\n  </tbody>\n</table>\n</div>"
     },
     "execution_count": 35,
     "metadata": {},
     "output_type": "execute_result"
    }
   ],
   "source": [
    "# generate private key\n",
    "private_key = Fernet.generate_key()\n",
    "\n",
    "# create fernet object\n",
    "fernet = Fernet(private_key)\n",
    "\n",
    "# Ensure that 'url' column is of type string if not convert it\n",
    "if isinstance(df['url'], str) is False:\n",
    "    df['url'] = df['url'].astype(str)   \n",
    "\n",
    "# encrypt url\n",
    "df['url'] = df['url'].apply(lambda x: fernet.encrypt(x.encode()))\n",
    "df[['member_id', 'url']].head(5)"
   ],
   "metadata": {
    "collapsed": false,
    "ExecuteTime": {
     "end_time": "2024-02-29T10:31:29.463257Z",
     "start_time": "2024-02-29T10:31:28.267264Z"
    }
   },
   "id": "4d387ba6eeba338b",
   "execution_count": 35
  },
  {
   "cell_type": "code",
   "outputs": [
    {
     "data": {
      "text/plain": "   member_id                                                url\n5   69697861  https://www.lendingclub.com/browse/loanDetail....\n6     949710  https://www.lendingclub.com/browse/loanDetail....\n7   65632977  https://www.lendingclub.com/browse/loanDetail....\n8   60837944  https://www.lendingclub.com/browse/loanDetail....\n9   50629162  https://www.lendingclub.com/browse/loanDetail....",
      "text/html": "<div>\n<style scoped>\n    .dataframe tbody tr th:only-of-type {\n        vertical-align: middle;\n    }\n\n    .dataframe tbody tr th {\n        vertical-align: top;\n    }\n\n    .dataframe thead th {\n        text-align: right;\n    }\n</style>\n<table border=\"1\" class=\"dataframe\">\n  <thead>\n    <tr style=\"text-align: right;\">\n      <th></th>\n      <th>member_id</th>\n      <th>url</th>\n    </tr>\n  </thead>\n  <tbody>\n    <tr>\n      <th>5</th>\n      <td>69697861</td>\n      <td>https://www.lendingclub.com/browse/loanDetail....</td>\n    </tr>\n    <tr>\n      <th>6</th>\n      <td>949710</td>\n      <td>https://www.lendingclub.com/browse/loanDetail....</td>\n    </tr>\n    <tr>\n      <th>7</th>\n      <td>65632977</td>\n      <td>https://www.lendingclub.com/browse/loanDetail....</td>\n    </tr>\n    <tr>\n      <th>8</th>\n      <td>60837944</td>\n      <td>https://www.lendingclub.com/browse/loanDetail....</td>\n    </tr>\n    <tr>\n      <th>9</th>\n      <td>50629162</td>\n      <td>https://www.lendingclub.com/browse/loanDetail....</td>\n    </tr>\n  </tbody>\n</table>\n</div>"
     },
     "execution_count": 36,
     "metadata": {},
     "output_type": "execute_result"
    }
   ],
   "source": [
    "# decrypt url\n",
    "df['url'] = df['url'].apply(lambda x: fernet.decrypt(x).decode())\n",
    "df[['member_id', 'url']].head(5)"
   ],
   "metadata": {
    "collapsed": false,
    "ExecuteTime": {
     "end_time": "2024-02-29T10:31:30.562870Z",
     "start_time": "2024-02-29T10:31:29.464755Z"
    }
   },
   "id": "341ba7d314989af5",
   "execution_count": 36
  },
  {
   "cell_type": "markdown",
   "source": [
    "If we have to permanently anonymize the data we can replace the url with a hash value."
   ],
   "metadata": {
    "collapsed": false
   },
   "id": "263f8f5be0b8cd52"
  },
  {
   "cell_type": "code",
   "outputs": [
    {
     "data": {
      "text/plain": "   member_id                  url\n5   69697861 -8814843009496774992\n6     949710    55170290497314171\n7   65632977   826278682873749899\n8   60837944 -1991869060018145608\n9   50629162   698880114627605640",
      "text/html": "<div>\n<style scoped>\n    .dataframe tbody tr th:only-of-type {\n        vertical-align: middle;\n    }\n\n    .dataframe tbody tr th {\n        vertical-align: top;\n    }\n\n    .dataframe thead th {\n        text-align: right;\n    }\n</style>\n<table border=\"1\" class=\"dataframe\">\n  <thead>\n    <tr style=\"text-align: right;\">\n      <th></th>\n      <th>member_id</th>\n      <th>url</th>\n    </tr>\n  </thead>\n  <tbody>\n    <tr>\n      <th>5</th>\n      <td>69697861</td>\n      <td>-8814843009496774992</td>\n    </tr>\n    <tr>\n      <th>6</th>\n      <td>949710</td>\n      <td>55170290497314171</td>\n    </tr>\n    <tr>\n      <th>7</th>\n      <td>65632977</td>\n      <td>826278682873749899</td>\n    </tr>\n    <tr>\n      <th>8</th>\n      <td>60837944</td>\n      <td>-1991869060018145608</td>\n    </tr>\n    <tr>\n      <th>9</th>\n      <td>50629162</td>\n      <td>698880114627605640</td>\n    </tr>\n  </tbody>\n</table>\n</div>"
     },
     "execution_count": 37,
     "metadata": {},
     "output_type": "execute_result"
    }
   ],
   "source": [
    "# encrypt url\n",
    "df['url'] = df['url'].apply(lambda x: hash(x))\n",
    "df[['member_id', 'url']].head(5)"
   ],
   "metadata": {
    "collapsed": false,
    "ExecuteTime": {
     "end_time": "2024-02-29T10:31:30.579160Z",
     "start_time": "2024-02-29T10:31:30.564205Z"
    }
   },
   "id": "d2f652870f4e140a",
   "execution_count": 37
  }
 ],
 "metadata": {
  "kernelspec": {
   "display_name": "Python 3",
   "language": "python",
   "name": "python3"
  },
  "language_info": {
   "codemirror_mode": {
    "name": "ipython",
    "version": 2
   },
   "file_extension": ".py",
   "mimetype": "text/x-python",
   "name": "python",
   "nbconvert_exporter": "python",
   "pygments_lexer": "ipython2",
   "version": "2.7.6"
  }
 },
 "nbformat": 4,
 "nbformat_minor": 5
}
