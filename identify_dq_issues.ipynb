{
 "cells": [
  {
   "cell_type": "markdown",
   "source": [
    "# Data Profiling\n",
    "\n",
    "# 0. Set up"
   ],
   "metadata": {
    "collapsed": false
   },
   "id": "8a5f066f4453c7af"
  },
  {
   "cell_type": "code",
   "outputs": [
    {
     "data": {
      "text/plain": "(50100, 60)"
     },
     "execution_count": 19,
     "metadata": {},
     "output_type": "execute_result"
    }
   ],
   "source": [
    "import pandas as pd\n",
    "\n",
    "# load data\n",
    "df = pd.read_csv('input/dirty-loan-data.csv')\n",
    "df.shape"
   ],
   "metadata": {
    "collapsed": false,
    "ExecuteTime": {
     "end_time": "2024-02-23T09:04:34.599246Z",
     "start_time": "2024-02-23T09:04:34.314890Z"
    }
   },
   "id": "e46b12d3bce04661",
   "execution_count": 19
  },
  {
   "cell_type": "code",
   "outputs": [
    {
     "data": {
      "text/plain": "   Unnamed: 0     id_pk  member_id  loan_amnt  funded_amnt  funded_amnt_inv  \\\n0           0  55978502   59640239    14400.0      14400.0          14400.0   \n1           1  56141977   59803813    24550.0      24550.0          24550.0   \n2           2  18935279   21167968    20000.0      20000.0          20000.0   \n3           3  27580978   30084088    15000.0      15000.0          15000.0   \n4           4   4536779    5779043    16000.0      16000.0          15950.0   \n\n   term  int_rate  installment grade  ... next_pymnt_year  \\\n0    36      5.61      50000.0     D  ...          2016.0   \n1    36      2.29      50000.0     C  ...          2016.0   \n2    60      6.29      50000.0     D  ...          2016.0   \n3    36     -3.97      50000.0     A  ...             NaN   \n4    36     -1.10      50000.0     A  ...          2016.0   \n\n  last_credit_pull_month  last_credit_pull_year collections_12_mths_ex_med  \\\n0                    Jan                 2016.0                        0.0   \n1                    Jan                 2016.0                        0.0   \n2                    Jan                 2016.0                        0.0   \n3                    Jan                 2016.0                        0.0   \n4                    Jan                 2016.0                        0.0   \n\n   policy_code application_type acc_now_delinq  tot_coll_amt tot_cur_bal  \\\n0          1.0       INDIVIDUAL            0.0           0.0     15278.0   \n1          1.0       INDIVIDUAL            0.0           0.0    163368.0   \n2          1.0       INDIVIDUAL            0.0           0.0     35408.0   \n3          1.0       INDIVIDUAL            0.0           0.0    146372.0   \n4          1.0       INDIVIDUAL            0.0           0.0    355820.0   \n\n  total_rev_hi_lim  \n0          15000.0  \n1          41400.0  \n2          28300.0  \n3          81600.0  \n4          45600.0  \n\n[5 rows x 60 columns]",
      "text/html": "<div>\n<style scoped>\n    .dataframe tbody tr th:only-of-type {\n        vertical-align: middle;\n    }\n\n    .dataframe tbody tr th {\n        vertical-align: top;\n    }\n\n    .dataframe thead th {\n        text-align: right;\n    }\n</style>\n<table border=\"1\" class=\"dataframe\">\n  <thead>\n    <tr style=\"text-align: right;\">\n      <th></th>\n      <th>Unnamed: 0</th>\n      <th>id_pk</th>\n      <th>member_id</th>\n      <th>loan_amnt</th>\n      <th>funded_amnt</th>\n      <th>funded_amnt_inv</th>\n      <th>term</th>\n      <th>int_rate</th>\n      <th>installment</th>\n      <th>grade</th>\n      <th>...</th>\n      <th>next_pymnt_year</th>\n      <th>last_credit_pull_month</th>\n      <th>last_credit_pull_year</th>\n      <th>collections_12_mths_ex_med</th>\n      <th>policy_code</th>\n      <th>application_type</th>\n      <th>acc_now_delinq</th>\n      <th>tot_coll_amt</th>\n      <th>tot_cur_bal</th>\n      <th>total_rev_hi_lim</th>\n    </tr>\n  </thead>\n  <tbody>\n    <tr>\n      <th>0</th>\n      <td>0</td>\n      <td>55978502</td>\n      <td>59640239</td>\n      <td>14400.0</td>\n      <td>14400.0</td>\n      <td>14400.0</td>\n      <td>36</td>\n      <td>5.61</td>\n      <td>50000.0</td>\n      <td>D</td>\n      <td>...</td>\n      <td>2016.0</td>\n      <td>Jan</td>\n      <td>2016.0</td>\n      <td>0.0</td>\n      <td>1.0</td>\n      <td>INDIVIDUAL</td>\n      <td>0.0</td>\n      <td>0.0</td>\n      <td>15278.0</td>\n      <td>15000.0</td>\n    </tr>\n    <tr>\n      <th>1</th>\n      <td>1</td>\n      <td>56141977</td>\n      <td>59803813</td>\n      <td>24550.0</td>\n      <td>24550.0</td>\n      <td>24550.0</td>\n      <td>36</td>\n      <td>2.29</td>\n      <td>50000.0</td>\n      <td>C</td>\n      <td>...</td>\n      <td>2016.0</td>\n      <td>Jan</td>\n      <td>2016.0</td>\n      <td>0.0</td>\n      <td>1.0</td>\n      <td>INDIVIDUAL</td>\n      <td>0.0</td>\n      <td>0.0</td>\n      <td>163368.0</td>\n      <td>41400.0</td>\n    </tr>\n    <tr>\n      <th>2</th>\n      <td>2</td>\n      <td>18935279</td>\n      <td>21167968</td>\n      <td>20000.0</td>\n      <td>20000.0</td>\n      <td>20000.0</td>\n      <td>60</td>\n      <td>6.29</td>\n      <td>50000.0</td>\n      <td>D</td>\n      <td>...</td>\n      <td>2016.0</td>\n      <td>Jan</td>\n      <td>2016.0</td>\n      <td>0.0</td>\n      <td>1.0</td>\n      <td>INDIVIDUAL</td>\n      <td>0.0</td>\n      <td>0.0</td>\n      <td>35408.0</td>\n      <td>28300.0</td>\n    </tr>\n    <tr>\n      <th>3</th>\n      <td>3</td>\n      <td>27580978</td>\n      <td>30084088</td>\n      <td>15000.0</td>\n      <td>15000.0</td>\n      <td>15000.0</td>\n      <td>36</td>\n      <td>-3.97</td>\n      <td>50000.0</td>\n      <td>A</td>\n      <td>...</td>\n      <td>NaN</td>\n      <td>Jan</td>\n      <td>2016.0</td>\n      <td>0.0</td>\n      <td>1.0</td>\n      <td>INDIVIDUAL</td>\n      <td>0.0</td>\n      <td>0.0</td>\n      <td>146372.0</td>\n      <td>81600.0</td>\n    </tr>\n    <tr>\n      <th>4</th>\n      <td>4</td>\n      <td>4536779</td>\n      <td>5779043</td>\n      <td>16000.0</td>\n      <td>16000.0</td>\n      <td>15950.0</td>\n      <td>36</td>\n      <td>-1.10</td>\n      <td>50000.0</td>\n      <td>A</td>\n      <td>...</td>\n      <td>2016.0</td>\n      <td>Jan</td>\n      <td>2016.0</td>\n      <td>0.0</td>\n      <td>1.0</td>\n      <td>INDIVIDUAL</td>\n      <td>0.0</td>\n      <td>0.0</td>\n      <td>355820.0</td>\n      <td>45600.0</td>\n    </tr>\n  </tbody>\n</table>\n<p>5 rows × 60 columns</p>\n</div>"
     },
     "execution_count": 20,
     "metadata": {},
     "output_type": "execute_result"
    }
   ],
   "source": [
    "df.head(5)"
   ],
   "metadata": {
    "collapsed": false,
    "ExecuteTime": {
     "end_time": "2024-02-23T09:04:36.962859Z",
     "start_time": "2024-02-23T09:04:36.951390Z"
    }
   },
   "id": "3e04d25b5d2fd9cd",
   "execution_count": 20
  },
  {
   "cell_type": "markdown",
   "source": [
    "# 1. Create Data Profile"
   ],
   "metadata": {
    "collapsed": false
   },
   "id": "3238c4e5825b5c73"
  },
  {
   "cell_type": "code",
   "outputs": [
    {
     "data": {
      "text/plain": "Summarize dataset:   0%|          | 0/5 [00:00<?, ?it/s]",
      "application/vnd.jupyter.widget-view+json": {
       "version_major": 2,
       "version_minor": 0,
       "model_id": "fb2818f124de4ebfa1c2a142f8c2a6cd"
      }
     },
     "metadata": {},
     "output_type": "display_data"
    },
    {
     "data": {
      "text/plain": "Generate report structure:   0%|          | 0/1 [00:00<?, ?it/s]",
      "application/vnd.jupyter.widget-view+json": {
       "version_major": 2,
       "version_minor": 0,
       "model_id": "4b191f3ed65844ed8da0c0fa17f4fcbd"
      }
     },
     "metadata": {},
     "output_type": "display_data"
    },
    {
     "data": {
      "text/plain": "Render HTML:   0%|          | 0/1 [00:00<?, ?it/s]",
      "application/vnd.jupyter.widget-view+json": {
       "version_major": 2,
       "version_minor": 0,
       "model_id": "ed1f41f6f9c54d6eaf4796720ee3cd6a"
      }
     },
     "metadata": {},
     "output_type": "display_data"
    },
    {
     "data": {
      "text/plain": "Export report to file:   0%|          | 0/1 [00:00<?, ?it/s]",
      "application/vnd.jupyter.widget-view+json": {
       "version_major": 2,
       "version_minor": 0,
       "model_id": "b357d6fc4ace48208bf3d5433b4b57c4"
      }
     },
     "metadata": {},
     "output_type": "display_data"
    }
   ],
   "source": [
    "from ydata_profiling import ProfileReport\n",
    "\n",
    "profile = ProfileReport(df, title='Loan Dataset Profiling Report', minimal=True)\n",
    "profile.to_file(output_file='output/profile/loan_data_profile.html')"
   ],
   "metadata": {
    "collapsed": false,
    "ExecuteTime": {
     "end_time": "2024-02-17T16:21:01.612676Z",
     "start_time": "2024-02-17T16:20:44.943912Z"
    }
   },
   "id": "461d8f2442e13ad4",
   "execution_count": 5
  },
  {
   "cell_type": "markdown",
   "source": [
    "# 1.1. Analyze Integrity\n",
    "\n",
    "\n",
    "## Duplicates\n",
    "\n",
    "To identify duplicates the first step is to remove the first column, which simply contains a row index. If we do not remove this column, the profiling will identify no rows as duplicates."
   ],
   "metadata": {
    "collapsed": false
   },
   "id": "4642af5c23a96d67"
  },
  {
   "cell_type": "code",
   "outputs": [],
   "source": [
    "# drop first column\n",
    "df = df.drop(columns='Unnamed: 0')"
   ],
   "metadata": {
    "collapsed": false,
    "ExecuteTime": {
     "end_time": "2024-02-23T09:04:40.345565Z",
     "start_time": "2024-02-23T09:04:40.307895Z"
    }
   },
   "id": "33c0784a556259e3",
   "execution_count": 21
  },
  {
   "cell_type": "markdown",
   "source": [
    "Looking at the output generated by the profiling, the first obvious problem is that the ID variables (**id_pk**, **id_member**) do not seem to be unique. This might be due to duplicated entries in the dataset. We can check this by filtering for all entries containing duplicated 'member_id' and order by 'member_id'."
   ],
   "metadata": {
    "collapsed": false
   },
   "id": "4bc418f94693dfed"
  },
  {
   "cell_type": "code",
   "outputs": [
    {
     "data": {
      "text/plain": "          id_pk  member_id  loan_amnt  funded_amnt  funded_amnt_inv  term  \\\n4       4536779    5779043    16000.0      16000.0          15950.0    36   \n50004   4536779    5779043    16000.0      16000.0          15950.0    36   \n2      18935279   21167968    20000.0      20000.0          20000.0    60   \n50002  18935279   21167968    20000.0      20000.0          20000.0    60   \n3      27580978   30084088    15000.0      15000.0          15000.0    36   \n50003  27580978   30084088    15000.0      15000.0          15000.0    36   \n0      55978502   59640239    14400.0      14400.0          14400.0    36   \n50000  55978502   59640239    14400.0      14400.0          14400.0    36   \n1      56141977   59803813    24550.0      24550.0          24550.0    36   \n50001  56141977   59803813    24550.0      24550.0          24550.0    36   \n\n       int_rate  installment grade sub_grade  ... next_pymnt_year  \\\n4         -1.10     50000.00     A        A5  ...          2016.0   \n50004     -1.10       508.06     A        A5  ...          2016.0   \n2          6.29     50000.00     D        D2  ...          2016.0   \n50002      6.29       489.45     D        D2  ...          2016.0   \n3         -3.97     50000.00     A        A1  ...             NaN   \n50003     -3.97       456.54     A        A1  ...             NaN   \n0          5.61     50000.00     D        D1  ...          2016.0   \n50000      5.61       503.50     D        D1  ...          2016.0   \n1          2.29     50000.00     C        C1  ...          2016.0   \n50001      2.29       818.82     C        C1  ...          2016.0   \n\n       last_credit_pull_month last_credit_pull_year  \\\n4                         Jan                2016.0   \n50004                     Jan                2016.0   \n2                         Jan                2016.0   \n50002                     Jan                2016.0   \n3                         Jan                2016.0   \n50003                     Jan                2016.0   \n0                         Jan                2016.0   \n50000                     Jan                2016.0   \n1                         Jan                2016.0   \n50001                     Jan                2016.0   \n\n       collections_12_mths_ex_med policy_code application_type  \\\n4                             0.0         1.0       INDIVIDUAL   \n50004                         0.0         1.0       INDIVIDUAL   \n2                             0.0         1.0       INDIVIDUAL   \n50002                         0.0         1.0       INDIVIDUAL   \n3                             0.0         1.0       INDIVIDUAL   \n50003                         0.0         1.0       INDIVIDUAL   \n0                             0.0         1.0       INDIVIDUAL   \n50000                         0.0         1.0       INDIVIDUAL   \n1                             0.0         1.0       INDIVIDUAL   \n50001                         0.0         1.0       INDIVIDUAL   \n\n       acc_now_delinq tot_coll_amt tot_cur_bal total_rev_hi_lim  \n4                 0.0          0.0    355820.0          45600.0  \n50004             0.0          0.0    355820.0          45600.0  \n2                 0.0          0.0     35408.0          28300.0  \n50002             0.0          0.0     35408.0          28300.0  \n3                 0.0          0.0    146372.0          81600.0  \n50003             0.0          0.0    146372.0          81600.0  \n0                 0.0          0.0     15278.0          15000.0  \n50000             0.0          0.0     15278.0          15000.0  \n1                 0.0          0.0    163368.0          41400.0  \n50001             0.0          0.0    163368.0          41400.0  \n\n[10 rows x 59 columns]",
      "text/html": "<div>\n<style scoped>\n    .dataframe tbody tr th:only-of-type {\n        vertical-align: middle;\n    }\n\n    .dataframe tbody tr th {\n        vertical-align: top;\n    }\n\n    .dataframe thead th {\n        text-align: right;\n    }\n</style>\n<table border=\"1\" class=\"dataframe\">\n  <thead>\n    <tr style=\"text-align: right;\">\n      <th></th>\n      <th>id_pk</th>\n      <th>member_id</th>\n      <th>loan_amnt</th>\n      <th>funded_amnt</th>\n      <th>funded_amnt_inv</th>\n      <th>term</th>\n      <th>int_rate</th>\n      <th>installment</th>\n      <th>grade</th>\n      <th>sub_grade</th>\n      <th>...</th>\n      <th>next_pymnt_year</th>\n      <th>last_credit_pull_month</th>\n      <th>last_credit_pull_year</th>\n      <th>collections_12_mths_ex_med</th>\n      <th>policy_code</th>\n      <th>application_type</th>\n      <th>acc_now_delinq</th>\n      <th>tot_coll_amt</th>\n      <th>tot_cur_bal</th>\n      <th>total_rev_hi_lim</th>\n    </tr>\n  </thead>\n  <tbody>\n    <tr>\n      <th>4</th>\n      <td>4536779</td>\n      <td>5779043</td>\n      <td>16000.0</td>\n      <td>16000.0</td>\n      <td>15950.0</td>\n      <td>36</td>\n      <td>-1.10</td>\n      <td>50000.00</td>\n      <td>A</td>\n      <td>A5</td>\n      <td>...</td>\n      <td>2016.0</td>\n      <td>Jan</td>\n      <td>2016.0</td>\n      <td>0.0</td>\n      <td>1.0</td>\n      <td>INDIVIDUAL</td>\n      <td>0.0</td>\n      <td>0.0</td>\n      <td>355820.0</td>\n      <td>45600.0</td>\n    </tr>\n    <tr>\n      <th>50004</th>\n      <td>4536779</td>\n      <td>5779043</td>\n      <td>16000.0</td>\n      <td>16000.0</td>\n      <td>15950.0</td>\n      <td>36</td>\n      <td>-1.10</td>\n      <td>508.06</td>\n      <td>A</td>\n      <td>A5</td>\n      <td>...</td>\n      <td>2016.0</td>\n      <td>Jan</td>\n      <td>2016.0</td>\n      <td>0.0</td>\n      <td>1.0</td>\n      <td>INDIVIDUAL</td>\n      <td>0.0</td>\n      <td>0.0</td>\n      <td>355820.0</td>\n      <td>45600.0</td>\n    </tr>\n    <tr>\n      <th>2</th>\n      <td>18935279</td>\n      <td>21167968</td>\n      <td>20000.0</td>\n      <td>20000.0</td>\n      <td>20000.0</td>\n      <td>60</td>\n      <td>6.29</td>\n      <td>50000.00</td>\n      <td>D</td>\n      <td>D2</td>\n      <td>...</td>\n      <td>2016.0</td>\n      <td>Jan</td>\n      <td>2016.0</td>\n      <td>0.0</td>\n      <td>1.0</td>\n      <td>INDIVIDUAL</td>\n      <td>0.0</td>\n      <td>0.0</td>\n      <td>35408.0</td>\n      <td>28300.0</td>\n    </tr>\n    <tr>\n      <th>50002</th>\n      <td>18935279</td>\n      <td>21167968</td>\n      <td>20000.0</td>\n      <td>20000.0</td>\n      <td>20000.0</td>\n      <td>60</td>\n      <td>6.29</td>\n      <td>489.45</td>\n      <td>D</td>\n      <td>D2</td>\n      <td>...</td>\n      <td>2016.0</td>\n      <td>Jan</td>\n      <td>2016.0</td>\n      <td>0.0</td>\n      <td>1.0</td>\n      <td>INDIVIDUAL</td>\n      <td>0.0</td>\n      <td>0.0</td>\n      <td>35408.0</td>\n      <td>28300.0</td>\n    </tr>\n    <tr>\n      <th>3</th>\n      <td>27580978</td>\n      <td>30084088</td>\n      <td>15000.0</td>\n      <td>15000.0</td>\n      <td>15000.0</td>\n      <td>36</td>\n      <td>-3.97</td>\n      <td>50000.00</td>\n      <td>A</td>\n      <td>A1</td>\n      <td>...</td>\n      <td>NaN</td>\n      <td>Jan</td>\n      <td>2016.0</td>\n      <td>0.0</td>\n      <td>1.0</td>\n      <td>INDIVIDUAL</td>\n      <td>0.0</td>\n      <td>0.0</td>\n      <td>146372.0</td>\n      <td>81600.0</td>\n    </tr>\n    <tr>\n      <th>50003</th>\n      <td>27580978</td>\n      <td>30084088</td>\n      <td>15000.0</td>\n      <td>15000.0</td>\n      <td>15000.0</td>\n      <td>36</td>\n      <td>-3.97</td>\n      <td>456.54</td>\n      <td>A</td>\n      <td>A1</td>\n      <td>...</td>\n      <td>NaN</td>\n      <td>Jan</td>\n      <td>2016.0</td>\n      <td>0.0</td>\n      <td>1.0</td>\n      <td>INDIVIDUAL</td>\n      <td>0.0</td>\n      <td>0.0</td>\n      <td>146372.0</td>\n      <td>81600.0</td>\n    </tr>\n    <tr>\n      <th>0</th>\n      <td>55978502</td>\n      <td>59640239</td>\n      <td>14400.0</td>\n      <td>14400.0</td>\n      <td>14400.0</td>\n      <td>36</td>\n      <td>5.61</td>\n      <td>50000.00</td>\n      <td>D</td>\n      <td>D1</td>\n      <td>...</td>\n      <td>2016.0</td>\n      <td>Jan</td>\n      <td>2016.0</td>\n      <td>0.0</td>\n      <td>1.0</td>\n      <td>INDIVIDUAL</td>\n      <td>0.0</td>\n      <td>0.0</td>\n      <td>15278.0</td>\n      <td>15000.0</td>\n    </tr>\n    <tr>\n      <th>50000</th>\n      <td>55978502</td>\n      <td>59640239</td>\n      <td>14400.0</td>\n      <td>14400.0</td>\n      <td>14400.0</td>\n      <td>36</td>\n      <td>5.61</td>\n      <td>503.50</td>\n      <td>D</td>\n      <td>D1</td>\n      <td>...</td>\n      <td>2016.0</td>\n      <td>Jan</td>\n      <td>2016.0</td>\n      <td>0.0</td>\n      <td>1.0</td>\n      <td>INDIVIDUAL</td>\n      <td>0.0</td>\n      <td>0.0</td>\n      <td>15278.0</td>\n      <td>15000.0</td>\n    </tr>\n    <tr>\n      <th>1</th>\n      <td>56141977</td>\n      <td>59803813</td>\n      <td>24550.0</td>\n      <td>24550.0</td>\n      <td>24550.0</td>\n      <td>36</td>\n      <td>2.29</td>\n      <td>50000.00</td>\n      <td>C</td>\n      <td>C1</td>\n      <td>...</td>\n      <td>2016.0</td>\n      <td>Jan</td>\n      <td>2016.0</td>\n      <td>0.0</td>\n      <td>1.0</td>\n      <td>INDIVIDUAL</td>\n      <td>0.0</td>\n      <td>0.0</td>\n      <td>163368.0</td>\n      <td>41400.0</td>\n    </tr>\n    <tr>\n      <th>50001</th>\n      <td>56141977</td>\n      <td>59803813</td>\n      <td>24550.0</td>\n      <td>24550.0</td>\n      <td>24550.0</td>\n      <td>36</td>\n      <td>2.29</td>\n      <td>818.82</td>\n      <td>C</td>\n      <td>C1</td>\n      <td>...</td>\n      <td>2016.0</td>\n      <td>Jan</td>\n      <td>2016.0</td>\n      <td>0.0</td>\n      <td>1.0</td>\n      <td>INDIVIDUAL</td>\n      <td>0.0</td>\n      <td>0.0</td>\n      <td>163368.0</td>\n      <td>41400.0</td>\n    </tr>\n  </tbody>\n</table>\n<p>10 rows × 59 columns</p>\n</div>"
     },
     "execution_count": 25,
     "metadata": {},
     "output_type": "execute_result"
    }
   ],
   "source": [
    "# filter for all entries containing duplicated 'member_id' order by member_id\n",
    "df[df.duplicated(subset='member_id', keep=False)].sort_values(by='member_id')"
   ],
   "metadata": {
    "collapsed": false,
    "ExecuteTime": {
     "end_time": "2024-02-23T09:04:51.999449Z",
     "start_time": "2024-02-23T09:04:51.977018Z"
    }
   },
   "id": "2a038688d8c9a04",
   "execution_count": 25
  },
  {
   "cell_type": "markdown",
   "source": [
    "Additionally we can also check for rows where all variables are identical. This will return a boolean series where True indicates that the row is a duplicate of a previous row. We can then sum the number of True values to get the number of duplicates."
   ],
   "metadata": {
    "collapsed": false
   },
   "id": "b1ecf944ba59e0b3"
  },
  {
   "cell_type": "code",
   "outputs": [
    {
     "data": {
      "text/plain": "95"
     },
     "execution_count": 23,
     "metadata": {},
     "output_type": "execute_result"
    }
   ],
   "source": [
    "# show number of duplicates where all rows are equal\n",
    "df.duplicated().sum()"
   ],
   "metadata": {
    "collapsed": false,
    "ExecuteTime": {
     "end_time": "2024-02-23T09:04:45.911702Z",
     "start_time": "2024-02-23T09:04:45.811572Z"
    }
   },
   "id": "89bcf0fac94c7613",
   "execution_count": 23
  },
  {
   "cell_type": "markdown",
   "source": [
    "Looking at the output we can see that we indeed have 95 duplicated cases (here the duplicates are identified by rows that contain identical values for all variables). However, we have 200 rows with duplicated member IDs (Here we identify duplicates based on members IDs only). This means that we have some cases where the member ID is duplicated, but the other variables are not identical. This is a problem, as it indicates that we have some inconsistencies in the data. Now let's start by removing the rows where all variables are identical."
   ],
   "metadata": {
    "collapsed": false
   },
   "id": "59a03b91f367bd7a"
  },
  {
   "cell_type": "code",
   "outputs": [
    {
     "data": {
      "text/plain": "(50005, 59)"
     },
     "execution_count": 26,
     "metadata": {},
     "output_type": "execute_result"
    }
   ],
   "source": [
    "# remove duplicates\n",
    "df = df.drop_duplicates()\n",
    "df.shape"
   ],
   "metadata": {
    "collapsed": false,
    "ExecuteTime": {
     "end_time": "2024-02-23T09:06:21.463244Z",
     "start_time": "2024-02-23T09:06:21.356741Z"
    }
   },
   "id": "642a23d5fb64d1e7",
   "execution_count": 26
  },
  {
   "cell_type": "markdown",
   "source": [
    "Now we can re-check if we still have duplicates in the member_id variable. As we can see in the output below this is indeed the case. The mistake seems to lie in the variable **installment** where we have a value of 50000. This is likely a data error, as the variable **installment** should contain the monthly payment owed by the borrower if the loan originates. This means that the value 50000 is likely a mistake, as it is unlikely that a borrower would have to pay 50000 per month. We can check this by filtering for all entries containing duplicated 'member_id' and order by 'member_id'."
   ],
   "metadata": {
    "collapsed": false
   },
   "id": "10dcc199e159d699"
  },
  {
   "cell_type": "code",
   "outputs": [
    {
     "data": {
      "text/plain": "          id_pk  member_id  loan_amnt  funded_amnt  funded_amnt_inv  term  \\\n4       4536779    5779043    16000.0      16000.0          15950.0    36   \n50004   4536779    5779043    16000.0      16000.0          15950.0    36   \n2      18935279   21167968    20000.0      20000.0          20000.0    60   \n50002  18935279   21167968    20000.0      20000.0          20000.0    60   \n3      27580978   30084088    15000.0      15000.0          15000.0    36   \n50003  27580978   30084088    15000.0      15000.0          15000.0    36   \n0      55978502   59640239    14400.0      14400.0          14400.0    36   \n50000  55978502   59640239    14400.0      14400.0          14400.0    36   \n1      56141977   59803813    24550.0      24550.0          24550.0    36   \n50001  56141977   59803813    24550.0      24550.0          24550.0    36   \n\n       int_rate  installment grade sub_grade  ... next_pymnt_year  \\\n4         -1.10     50000.00     A        A5  ...          2016.0   \n50004     -1.10       508.06     A        A5  ...          2016.0   \n2          6.29     50000.00     D        D2  ...          2016.0   \n50002      6.29       489.45     D        D2  ...          2016.0   \n3         -3.97     50000.00     A        A1  ...             NaN   \n50003     -3.97       456.54     A        A1  ...             NaN   \n0          5.61     50000.00     D        D1  ...          2016.0   \n50000      5.61       503.50     D        D1  ...          2016.0   \n1          2.29     50000.00     C        C1  ...          2016.0   \n50001      2.29       818.82     C        C1  ...          2016.0   \n\n       last_credit_pull_month last_credit_pull_year  \\\n4                         Jan                2016.0   \n50004                     Jan                2016.0   \n2                         Jan                2016.0   \n50002                     Jan                2016.0   \n3                         Jan                2016.0   \n50003                     Jan                2016.0   \n0                         Jan                2016.0   \n50000                     Jan                2016.0   \n1                         Jan                2016.0   \n50001                     Jan                2016.0   \n\n       collections_12_mths_ex_med policy_code application_type  \\\n4                             0.0         1.0       INDIVIDUAL   \n50004                         0.0         1.0       INDIVIDUAL   \n2                             0.0         1.0       INDIVIDUAL   \n50002                         0.0         1.0       INDIVIDUAL   \n3                             0.0         1.0       INDIVIDUAL   \n50003                         0.0         1.0       INDIVIDUAL   \n0                             0.0         1.0       INDIVIDUAL   \n50000                         0.0         1.0       INDIVIDUAL   \n1                             0.0         1.0       INDIVIDUAL   \n50001                         0.0         1.0       INDIVIDUAL   \n\n       acc_now_delinq tot_coll_amt tot_cur_bal total_rev_hi_lim  \n4                 0.0          0.0    355820.0          45600.0  \n50004             0.0          0.0    355820.0          45600.0  \n2                 0.0          0.0     35408.0          28300.0  \n50002             0.0          0.0     35408.0          28300.0  \n3                 0.0          0.0    146372.0          81600.0  \n50003             0.0          0.0    146372.0          81600.0  \n0                 0.0          0.0     15278.0          15000.0  \n50000             0.0          0.0     15278.0          15000.0  \n1                 0.0          0.0    163368.0          41400.0  \n50001             0.0          0.0    163368.0          41400.0  \n\n[10 rows x 59 columns]",
      "text/html": "<div>\n<style scoped>\n    .dataframe tbody tr th:only-of-type {\n        vertical-align: middle;\n    }\n\n    .dataframe tbody tr th {\n        vertical-align: top;\n    }\n\n    .dataframe thead th {\n        text-align: right;\n    }\n</style>\n<table border=\"1\" class=\"dataframe\">\n  <thead>\n    <tr style=\"text-align: right;\">\n      <th></th>\n      <th>id_pk</th>\n      <th>member_id</th>\n      <th>loan_amnt</th>\n      <th>funded_amnt</th>\n      <th>funded_amnt_inv</th>\n      <th>term</th>\n      <th>int_rate</th>\n      <th>installment</th>\n      <th>grade</th>\n      <th>sub_grade</th>\n      <th>...</th>\n      <th>next_pymnt_year</th>\n      <th>last_credit_pull_month</th>\n      <th>last_credit_pull_year</th>\n      <th>collections_12_mths_ex_med</th>\n      <th>policy_code</th>\n      <th>application_type</th>\n      <th>acc_now_delinq</th>\n      <th>tot_coll_amt</th>\n      <th>tot_cur_bal</th>\n      <th>total_rev_hi_lim</th>\n    </tr>\n  </thead>\n  <tbody>\n    <tr>\n      <th>4</th>\n      <td>4536779</td>\n      <td>5779043</td>\n      <td>16000.0</td>\n      <td>16000.0</td>\n      <td>15950.0</td>\n      <td>36</td>\n      <td>-1.10</td>\n      <td>50000.00</td>\n      <td>A</td>\n      <td>A5</td>\n      <td>...</td>\n      <td>2016.0</td>\n      <td>Jan</td>\n      <td>2016.0</td>\n      <td>0.0</td>\n      <td>1.0</td>\n      <td>INDIVIDUAL</td>\n      <td>0.0</td>\n      <td>0.0</td>\n      <td>355820.0</td>\n      <td>45600.0</td>\n    </tr>\n    <tr>\n      <th>50004</th>\n      <td>4536779</td>\n      <td>5779043</td>\n      <td>16000.0</td>\n      <td>16000.0</td>\n      <td>15950.0</td>\n      <td>36</td>\n      <td>-1.10</td>\n      <td>508.06</td>\n      <td>A</td>\n      <td>A5</td>\n      <td>...</td>\n      <td>2016.0</td>\n      <td>Jan</td>\n      <td>2016.0</td>\n      <td>0.0</td>\n      <td>1.0</td>\n      <td>INDIVIDUAL</td>\n      <td>0.0</td>\n      <td>0.0</td>\n      <td>355820.0</td>\n      <td>45600.0</td>\n    </tr>\n    <tr>\n      <th>2</th>\n      <td>18935279</td>\n      <td>21167968</td>\n      <td>20000.0</td>\n      <td>20000.0</td>\n      <td>20000.0</td>\n      <td>60</td>\n      <td>6.29</td>\n      <td>50000.00</td>\n      <td>D</td>\n      <td>D2</td>\n      <td>...</td>\n      <td>2016.0</td>\n      <td>Jan</td>\n      <td>2016.0</td>\n      <td>0.0</td>\n      <td>1.0</td>\n      <td>INDIVIDUAL</td>\n      <td>0.0</td>\n      <td>0.0</td>\n      <td>35408.0</td>\n      <td>28300.0</td>\n    </tr>\n    <tr>\n      <th>50002</th>\n      <td>18935279</td>\n      <td>21167968</td>\n      <td>20000.0</td>\n      <td>20000.0</td>\n      <td>20000.0</td>\n      <td>60</td>\n      <td>6.29</td>\n      <td>489.45</td>\n      <td>D</td>\n      <td>D2</td>\n      <td>...</td>\n      <td>2016.0</td>\n      <td>Jan</td>\n      <td>2016.0</td>\n      <td>0.0</td>\n      <td>1.0</td>\n      <td>INDIVIDUAL</td>\n      <td>0.0</td>\n      <td>0.0</td>\n      <td>35408.0</td>\n      <td>28300.0</td>\n    </tr>\n    <tr>\n      <th>3</th>\n      <td>27580978</td>\n      <td>30084088</td>\n      <td>15000.0</td>\n      <td>15000.0</td>\n      <td>15000.0</td>\n      <td>36</td>\n      <td>-3.97</td>\n      <td>50000.00</td>\n      <td>A</td>\n      <td>A1</td>\n      <td>...</td>\n      <td>NaN</td>\n      <td>Jan</td>\n      <td>2016.0</td>\n      <td>0.0</td>\n      <td>1.0</td>\n      <td>INDIVIDUAL</td>\n      <td>0.0</td>\n      <td>0.0</td>\n      <td>146372.0</td>\n      <td>81600.0</td>\n    </tr>\n    <tr>\n      <th>50003</th>\n      <td>27580978</td>\n      <td>30084088</td>\n      <td>15000.0</td>\n      <td>15000.0</td>\n      <td>15000.0</td>\n      <td>36</td>\n      <td>-3.97</td>\n      <td>456.54</td>\n      <td>A</td>\n      <td>A1</td>\n      <td>...</td>\n      <td>NaN</td>\n      <td>Jan</td>\n      <td>2016.0</td>\n      <td>0.0</td>\n      <td>1.0</td>\n      <td>INDIVIDUAL</td>\n      <td>0.0</td>\n      <td>0.0</td>\n      <td>146372.0</td>\n      <td>81600.0</td>\n    </tr>\n    <tr>\n      <th>0</th>\n      <td>55978502</td>\n      <td>59640239</td>\n      <td>14400.0</td>\n      <td>14400.0</td>\n      <td>14400.0</td>\n      <td>36</td>\n      <td>5.61</td>\n      <td>50000.00</td>\n      <td>D</td>\n      <td>D1</td>\n      <td>...</td>\n      <td>2016.0</td>\n      <td>Jan</td>\n      <td>2016.0</td>\n      <td>0.0</td>\n      <td>1.0</td>\n      <td>INDIVIDUAL</td>\n      <td>0.0</td>\n      <td>0.0</td>\n      <td>15278.0</td>\n      <td>15000.0</td>\n    </tr>\n    <tr>\n      <th>50000</th>\n      <td>55978502</td>\n      <td>59640239</td>\n      <td>14400.0</td>\n      <td>14400.0</td>\n      <td>14400.0</td>\n      <td>36</td>\n      <td>5.61</td>\n      <td>503.50</td>\n      <td>D</td>\n      <td>D1</td>\n      <td>...</td>\n      <td>2016.0</td>\n      <td>Jan</td>\n      <td>2016.0</td>\n      <td>0.0</td>\n      <td>1.0</td>\n      <td>INDIVIDUAL</td>\n      <td>0.0</td>\n      <td>0.0</td>\n      <td>15278.0</td>\n      <td>15000.0</td>\n    </tr>\n    <tr>\n      <th>1</th>\n      <td>56141977</td>\n      <td>59803813</td>\n      <td>24550.0</td>\n      <td>24550.0</td>\n      <td>24550.0</td>\n      <td>36</td>\n      <td>2.29</td>\n      <td>50000.00</td>\n      <td>C</td>\n      <td>C1</td>\n      <td>...</td>\n      <td>2016.0</td>\n      <td>Jan</td>\n      <td>2016.0</td>\n      <td>0.0</td>\n      <td>1.0</td>\n      <td>INDIVIDUAL</td>\n      <td>0.0</td>\n      <td>0.0</td>\n      <td>163368.0</td>\n      <td>41400.0</td>\n    </tr>\n    <tr>\n      <th>50001</th>\n      <td>56141977</td>\n      <td>59803813</td>\n      <td>24550.0</td>\n      <td>24550.0</td>\n      <td>24550.0</td>\n      <td>36</td>\n      <td>2.29</td>\n      <td>818.82</td>\n      <td>C</td>\n      <td>C1</td>\n      <td>...</td>\n      <td>2016.0</td>\n      <td>Jan</td>\n      <td>2016.0</td>\n      <td>0.0</td>\n      <td>1.0</td>\n      <td>INDIVIDUAL</td>\n      <td>0.0</td>\n      <td>0.0</td>\n      <td>163368.0</td>\n      <td>41400.0</td>\n    </tr>\n  </tbody>\n</table>\n<p>10 rows × 59 columns</p>\n</div>"
     },
     "execution_count": 27,
     "metadata": {},
     "output_type": "execute_result"
    }
   ],
   "source": [
    "# filter for all entries containing duplicated 'member_id' order by member_id\n",
    "df[df.duplicated(subset='member_id', keep=False)].sort_values(by='member_id')"
   ],
   "metadata": {
    "collapsed": false,
    "ExecuteTime": {
     "end_time": "2024-02-23T09:06:42.072603Z",
     "start_time": "2024-02-23T09:06:42.052398Z"
    }
   },
   "id": "e51124965e45151d",
   "execution_count": 27
  },
  {
   "cell_type": "code",
   "outputs": [],
   "source": [
    "\n",
    "# remove duplicates\n",
    "df = df.drop_duplicates(subset='member_id', keep='first')"
   ],
   "metadata": {
    "collapsed": false,
    "ExecuteTime": {
     "end_time": "2024-02-23T09:02:08.689203Z",
     "start_time": "2024-02-23T09:02:08.667184Z"
    }
   },
   "id": "cedcc7f2cdeda3df",
   "execution_count": 10
  },
  {
   "cell_type": "code",
   "outputs": [
    {
     "data": {
      "text/plain": "(0, 59)"
     },
     "execution_count": 5,
     "metadata": {},
     "output_type": "execute_result"
    }
   ],
   "source": [
    "# check if all duplicates in member_id are removed\n",
    "df[df.duplicated(subset='member_id', keep=False)].shape"
   ],
   "metadata": {
    "collapsed": false,
    "ExecuteTime": {
     "end_time": "2024-02-17T16:24:41.853935Z",
     "start_time": "2024-02-17T16:24:41.848204Z"
    }
   },
   "id": "d2b80694b9c524ac",
   "execution_count": 5
  },
  {
   "cell_type": "code",
   "outputs": [
    {
     "data": {
      "text/plain": "(50000, 59)"
     },
     "execution_count": 11,
     "metadata": {},
     "output_type": "execute_result"
    }
   ],
   "source": [
    "# check if all duplicates in id_pk are removed\n",
    "df.shape"
   ],
   "metadata": {
    "collapsed": false,
    "ExecuteTime": {
     "end_time": "2024-02-23T09:02:11.600929Z",
     "start_time": "2024-02-23T09:02:11.597072Z"
    }
   },
   "id": "11ad828d826b5ce4",
   "execution_count": 11
  },
  {
   "cell_type": "markdown",
   "source": [
    "* There are duplicates that seem due to data errors in the **installment** variable (value(50000))."
   ],
   "metadata": {
    "collapsed": false
   },
   "id": "bcf5ba0a348465c3"
  },
  {
   "cell_type": "markdown",
   "source": [
    "## Inconsistencies\n",
    "\n",
    "* Inconsistencies in Class Variables\n",
    "* Date Variables\n",
    "* Data Types"
   ],
   "metadata": {
    "collapsed": false
   },
   "id": "44e3494c8fff2e94"
  },
  {
   "cell_type": "markdown",
   "source": [
    "# 1.2. Analyze Completeness"
   ],
   "metadata": {
    "collapsed": false
   },
   "id": "7229281319a2514"
  },
  {
   "cell_type": "code",
   "outputs": [],
   "source": [],
   "metadata": {
    "collapsed": false
   },
   "id": "67324d268db7f3eb"
  },
  {
   "cell_type": "markdown",
   "source": [
    "# 1.3. Analyze Integrity"
   ],
   "metadata": {
    "collapsed": false
   },
   "id": "2698ce11ed0d15e2"
  },
  {
   "cell_type": "code",
   "outputs": [],
   "source": [],
   "metadata": {
    "collapsed": false
   },
   "id": "19fc3ea89600262c"
  },
  {
   "cell_type": "markdown",
   "source": [
    "# 1.4. Analyze Accuracy\n",
    "\n",
    "Another problem identified in the data are that at the moment dates are split into years and month. This becomes first visible when looking at the variables **issue_year** and **issue_month**. Since we only have observations for 2015, this means that the year variable by itself does not provide any useful information (no variation) in future analtical applications. "
   ],
   "metadata": {
    "collapsed": false
   },
   "id": "35169dffb21a5817"
  },
  {
   "cell_type": "code",
   "outputs": [
    {
     "data": {
      "text/plain": "<Axes: xlabel='issue_year', ylabel='count'>"
     },
     "execution_count": 7,
     "metadata": {},
     "output_type": "execute_result"
    },
    {
     "data": {
      "text/plain": "<Figure size 640x480 with 1 Axes>",
      "image/png": "[encoded data removed]"
     },
     "metadata": {},
     "output_type": "display_data"
    }
   ],
   "source": [
    "import seaborn as sns\n",
    "\n",
    "# show distribution of issue_year\n",
    "sns.countplot(data=df, x='issue_year')"
   ],
   "metadata": {
    "collapsed": false,
    "ExecuteTime": {
     "end_time": "2024-02-17T16:24:59.080920Z",
     "start_time": "2024-02-17T16:24:58.962489Z"
    }
   },
   "id": "6fa8ef7ca3a5663e",
   "execution_count": 7
  },
  {
   "cell_type": "markdown",
   "source": [
    "Contrary to **issue_year* the variable **issue_month** does show some variation, as shown in the plot below."
   ],
   "metadata": {
    "collapsed": false
   },
   "id": "dd473400cdeceb38"
  },
  {
   "cell_type": "code",
   "outputs": [
    {
     "data": {
      "text/plain": "<Axes: xlabel='issue_month', ylabel='count'>"
     },
     "execution_count": 8,
     "metadata": {},
     "output_type": "execute_result"
    },
    {
     "data": {
      "text/plain": "<Figure size 640x480 with 1 Axes>",
      "image/png": "[encoded data removed]"
     },
     "metadata": {},
     "output_type": "display_data"
    }
   ],
   "source": [
    "# show distribution of issue_month\n",
    "sns.countplot(data=df, x='issue_month')"
   ],
   "metadata": {
    "collapsed": false,
    "ExecuteTime": {
     "end_time": "2024-02-17T16:25:23.176404Z",
     "start_time": "2024-02-17T16:25:23.055038Z"
    }
   },
   "id": "3edebbbe9eb4732f",
   "execution_count": 8
  },
  {
   "cell_type": "markdown",
   "source": [
    "However, we also see that October was misspelled as *Octxyz*. We can fix this by replacing the misspelled value with the correct one."
   ],
   "metadata": {
    "collapsed": false
   },
   "id": "225fc59798519456"
  },
  {
   "cell_type": "code",
   "outputs": [
    {
     "data": {
      "text/plain": "array(['Jul', 'Aug', 'Jun', 'Octxyz', 'Nov', 'May', 'Mar', 'Dec', 'Jan',\n       'Sep', 'Feb', 'Apr'], dtype=object)"
     },
     "execution_count": 9,
     "metadata": {},
     "output_type": "execute_result"
    }
   ],
   "source": [
    "# show unique values in issue_month\n",
    "df['issue_month'].unique()"
   ],
   "metadata": {
    "collapsed": false,
    "ExecuteTime": {
     "end_time": "2024-02-17T16:29:15.707348Z",
     "start_time": "2024-02-17T16:29:15.704122Z"
    }
   },
   "id": "35c60acdac140226",
   "execution_count": 9
  },
  {
   "cell_type": "code",
   "outputs": [
    {
     "data": {
      "text/plain": "array(['Jul', 'Aug', 'Jun', 'Oct', 'Nov', 'May', 'Mar', 'Dec', 'Jan',\n       'Sep', 'Feb', 'Apr'], dtype=object)"
     },
     "execution_count": 10,
     "metadata": {},
     "output_type": "execute_result"
    }
   ],
   "source": [
    "# replace misspelled value\n",
    "df['issue_month'] = df['issue_month'].replace('Octxyz', 'Oct')\n",
    "df['issue_month'].unique()"
   ],
   "metadata": {
    "collapsed": false,
    "ExecuteTime": {
     "end_time": "2024-02-17T16:29:57.241491Z",
     "start_time": "2024-02-17T16:29:57.232685Z"
    }
   },
   "id": "635544793aac6e89",
   "execution_count": 10
  },
  {
   "cell_type": "markdown",
   "source": [
    "To remedy the fact that issue_year contains no variation, but we still would like to know the year, we can create a new variable that combines the year and month into a single variable. This will allow us to keep the information about the year, but also the month."
   ],
   "metadata": {
    "collapsed": false
   },
   "id": "48facedecc8e11e0"
  },
  {
   "cell_type": "code",
   "outputs": [
    {
     "data": {
      "text/plain": "      id_pk  member_id  loan_amnt  funded_amnt  funded_amnt_inv  term  \\\n0  55978502   59640239    14400.0      14400.0          14400.0    36   \n1  56141977   59803813    24550.0      24550.0          24550.0    36   \n2  18935279   21167968    20000.0      20000.0          20000.0    60   \n3  27580978   30084088    15000.0      15000.0          15000.0    36   \n4   4536779    5779043    16000.0      16000.0          15950.0    36   \n\n   int_rate  installment grade sub_grade  ... last_credit_pull_month  \\\n0      5.61      50000.0     D        D1  ...                    Jan   \n1      2.29      50000.0     C        C1  ...                    Jan   \n2      6.29      50000.0     D        D2  ...                    Jan   \n3     -3.97      50000.0     A        A1  ...                    Jan   \n4     -1.10      50000.0     A        A5  ...                    Jan   \n\n   last_credit_pull_year collections_12_mths_ex_med  policy_code  \\\n0                 2016.0                        0.0          1.0   \n1                 2016.0                        0.0          1.0   \n2                 2016.0                        0.0          1.0   \n3                 2016.0                        0.0          1.0   \n4                 2016.0                        0.0          1.0   \n\n  application_type acc_now_delinq tot_coll_amt tot_cur_bal total_rev_hi_lim  \\\n0       INDIVIDUAL            0.0          0.0     15278.0          15000.0   \n1       INDIVIDUAL            0.0          0.0    163368.0          41400.0   \n2       INDIVIDUAL            0.0          0.0     35408.0          28300.0   \n3       INDIVIDUAL            0.0          0.0    146372.0          81600.0   \n4       INDIVIDUAL            0.0          0.0    355820.0          45600.0   \n\n  issue_date  \n0 2015-07-01  \n1 2015-08-01  \n2 2015-06-01  \n3 2015-10-01  \n4 2015-08-01  \n\n[5 rows x 58 columns]",
      "text/html": "<div>\n<style scoped>\n    .dataframe tbody tr th:only-of-type {\n        vertical-align: middle;\n    }\n\n    .dataframe tbody tr th {\n        vertical-align: top;\n    }\n\n    .dataframe thead th {\n        text-align: right;\n    }\n</style>\n<table border=\"1\" class=\"dataframe\">\n  <thead>\n    <tr style=\"text-align: right;\">\n      <th></th>\n      <th>id_pk</th>\n      <th>member_id</th>\n      <th>loan_amnt</th>\n      <th>funded_amnt</th>\n      <th>funded_amnt_inv</th>\n      <th>term</th>\n      <th>int_rate</th>\n      <th>installment</th>\n      <th>grade</th>\n      <th>sub_grade</th>\n      <th>...</th>\n      <th>last_credit_pull_month</th>\n      <th>last_credit_pull_year</th>\n      <th>collections_12_mths_ex_med</th>\n      <th>policy_code</th>\n      <th>application_type</th>\n      <th>acc_now_delinq</th>\n      <th>tot_coll_amt</th>\n      <th>tot_cur_bal</th>\n      <th>total_rev_hi_lim</th>\n      <th>issue_date</th>\n    </tr>\n  </thead>\n  <tbody>\n    <tr>\n      <th>0</th>\n      <td>55978502</td>\n      <td>59640239</td>\n      <td>14400.0</td>\n      <td>14400.0</td>\n      <td>14400.0</td>\n      <td>36</td>\n      <td>5.61</td>\n      <td>50000.0</td>\n      <td>D</td>\n      <td>D1</td>\n      <td>...</td>\n      <td>Jan</td>\n      <td>2016.0</td>\n      <td>0.0</td>\n      <td>1.0</td>\n      <td>INDIVIDUAL</td>\n      <td>0.0</td>\n      <td>0.0</td>\n      <td>15278.0</td>\n      <td>15000.0</td>\n      <td>2015-07-01</td>\n    </tr>\n    <tr>\n      <th>1</th>\n      <td>56141977</td>\n      <td>59803813</td>\n      <td>24550.0</td>\n      <td>24550.0</td>\n      <td>24550.0</td>\n      <td>36</td>\n      <td>2.29</td>\n      <td>50000.0</td>\n      <td>C</td>\n      <td>C1</td>\n      <td>...</td>\n      <td>Jan</td>\n      <td>2016.0</td>\n      <td>0.0</td>\n      <td>1.0</td>\n      <td>INDIVIDUAL</td>\n      <td>0.0</td>\n      <td>0.0</td>\n      <td>163368.0</td>\n      <td>41400.0</td>\n      <td>2015-08-01</td>\n    </tr>\n    <tr>\n      <th>2</th>\n      <td>18935279</td>\n      <td>21167968</td>\n      <td>20000.0</td>\n      <td>20000.0</td>\n      <td>20000.0</td>\n      <td>60</td>\n      <td>6.29</td>\n      <td>50000.0</td>\n      <td>D</td>\n      <td>D2</td>\n      <td>...</td>\n      <td>Jan</td>\n      <td>2016.0</td>\n      <td>0.0</td>\n      <td>1.0</td>\n      <td>INDIVIDUAL</td>\n      <td>0.0</td>\n      <td>0.0</td>\n      <td>35408.0</td>\n      <td>28300.0</td>\n      <td>2015-06-01</td>\n    </tr>\n    <tr>\n      <th>3</th>\n      <td>27580978</td>\n      <td>30084088</td>\n      <td>15000.0</td>\n      <td>15000.0</td>\n      <td>15000.0</td>\n      <td>36</td>\n      <td>-3.97</td>\n      <td>50000.0</td>\n      <td>A</td>\n      <td>A1</td>\n      <td>...</td>\n      <td>Jan</td>\n      <td>2016.0</td>\n      <td>0.0</td>\n      <td>1.0</td>\n      <td>INDIVIDUAL</td>\n      <td>0.0</td>\n      <td>0.0</td>\n      <td>146372.0</td>\n      <td>81600.0</td>\n      <td>2015-10-01</td>\n    </tr>\n    <tr>\n      <th>4</th>\n      <td>4536779</td>\n      <td>5779043</td>\n      <td>16000.0</td>\n      <td>16000.0</td>\n      <td>15950.0</td>\n      <td>36</td>\n      <td>-1.10</td>\n      <td>50000.0</td>\n      <td>A</td>\n      <td>A5</td>\n      <td>...</td>\n      <td>Jan</td>\n      <td>2016.0</td>\n      <td>0.0</td>\n      <td>1.0</td>\n      <td>INDIVIDUAL</td>\n      <td>0.0</td>\n      <td>0.0</td>\n      <td>355820.0</td>\n      <td>45600.0</td>\n      <td>2015-08-01</td>\n    </tr>\n  </tbody>\n</table>\n<p>5 rows × 58 columns</p>\n</div>"
     },
     "execution_count": 15,
     "metadata": {},
     "output_type": "execute_result"
    }
   ],
   "source": [
    "# create new variable issue_date with data type datetime\n",
    "df['issue_date'] = pd.to_datetime(df['issue_year'].astype(str) + '-' + df['issue_month'], format='%Y-%b')\n",
    "\n",
    "# drop issue_year and issue_month\n",
    "df = df.drop(columns=['issue_year', 'issue_month'])\n",
    "\n",
    "# show first 5 rows\n",
    "df['issue_date'].head(5)"
   ],
   "metadata": {
    "collapsed": false,
    "ExecuteTime": {
     "end_time": "2024-02-17T16:38:02.780348Z",
     "start_time": "2024-02-17T16:38:02.737239Z"
    }
   },
   "id": "5dae7ce1e46ef48f",
   "execution_count": 15
  },
  {
   "cell_type": "markdown",
   "source": [
    "TODO: Do the same for the other date variables in the dataset"
   ],
   "metadata": {
    "collapsed": false
   },
   "id": "b520a1c9381fe74d"
  },
  {
   "cell_type": "markdown",
   "source": [
    "# 1.5. Handle Textual Data"
   ],
   "metadata": {
    "collapsed": false
   },
   "id": "efa74d79ec1daf1a"
  },
  {
   "cell_type": "code",
   "outputs": [],
   "source": [],
   "metadata": {
    "collapsed": false
   },
   "id": "fb63320c07c95dad"
  },
  {
   "cell_type": "markdown",
   "source": [
    "TODO:\n",
    "* Remove variables containing only constant value (issue_year, issue_policy)\n",
    "* de-duplicate IDs (member_id, id_pk)\n",
    "* Handle Missing cases\n",
    "*   Remove rows with only missing values\n",
    "*   Remove columns with only missing values\n",
    "*   Convert all Mssing values to NA\n",
    "* Remove rolling ID\n",
    "* Create timestamps for dates\n",
    "* Avoid redundancies (Drop sub-categories)"
   ],
   "metadata": {
    "collapsed": false
   },
   "id": "10611aa70444a520"
  }
 ],
 "metadata": {
  "kernelspec": {
   "display_name": "Python 3",
   "language": "python",
   "name": "python3"
  },
  "language_info": {
   "codemirror_mode": {
    "name": "ipython",
    "version": 2
   },
   "file_extension": ".py",
   "mimetype": "text/x-python",
   "name": "python",
   "nbconvert_exporter": "python",
   "pygments_lexer": "ipython2",
   "version": "2.7.6"
  }
 },
 "nbformat": 4,
 "nbformat_minor": 5
}
